{
 "cells": [
  {
   "cell_type": "code",
   "id": "initial_id",
   "metadata": {
    "collapsed": true,
    "ExecuteTime": {
     "end_time": "2025-05-22T17:02:55.371782Z",
     "start_time": "2025-05-22T17:02:55.367959Z"
    }
   },
   "source": [
    "import pandas as pd\n",
    "import matplotlib.pyplot as plt\n",
    "from matplotlib_venn import venn2_unweighted"
   ],
   "outputs": [],
   "execution_count": 49
  },
  {
   "metadata": {
    "ExecuteTime": {
     "end_time": "2025-05-22T17:02:56.797732Z",
     "start_time": "2025-05-22T17:02:56.161045Z"
    }
   },
   "cell_type": "code",
   "source": [
    "prot_exp = pd.read_csv('SourceData/prot_exp_data.csv')\n",
    "meta_exp = pd.read_csv('SourceData/meta_exp_data.csv')"
   ],
   "id": "379252278dba72a2",
   "outputs": [],
   "execution_count": 50
  },
  {
   "metadata": {
    "ExecuteTime": {
     "end_time": "2025-05-22T17:02:57.081276Z",
     "start_time": "2025-05-22T17:02:57.078007Z"
    }
   },
   "cell_type": "code",
   "source": "prot_exp.shape",
   "id": "e32108f998ea5de1",
   "outputs": [
    {
     "data": {
      "text/plain": [
       "(708, 6904)"
      ]
     },
     "execution_count": 51,
     "metadata": {},
     "output_type": "execute_result"
    }
   ],
   "execution_count": 51
  },
  {
   "metadata": {
    "ExecuteTime": {
     "end_time": "2025-05-22T17:02:57.938334Z",
     "start_time": "2025-05-22T17:02:57.934476Z"
    }
   },
   "cell_type": "code",
   "source": "meta_exp.shape",
   "id": "31d42c7aa1ef2cc0",
   "outputs": [
    {
     "data": {
      "text/plain": [
       "(620, 414)"
      ]
     },
     "execution_count": 52,
     "metadata": {},
     "output_type": "execute_result"
    }
   ],
   "execution_count": 52
  },
  {
   "metadata": {
    "ExecuteTime": {
     "end_time": "2025-05-22T17:02:58.835165Z",
     "start_time": "2025-05-22T17:02:58.802502Z"
    }
   },
   "cell_type": "code",
   "source": [
    "combined_outer = pd.merge(prot_exp, meta_exp, on=['RID','AGE','PTGENDER',\n",
    "                                                'APOE4', 'PTEDUCAT'], how='outer')\n",
    "combined_outer.shape"
   ],
   "id": "35a9f2be8dc5b126",
   "outputs": [
    {
     "data": {
      "text/plain": [
       "(723, 7313)"
      ]
     },
     "execution_count": 53,
     "metadata": {},
     "output_type": "execute_result"
    }
   ],
   "execution_count": 53
  },
  {
   "metadata": {
    "ExecuteTime": {
     "end_time": "2025-05-22T17:09:02.172845Z",
     "start_time": "2025-05-22T17:09:02.156689Z"
    }
   },
   "cell_type": "code",
   "source": [
    "combined_inner = pd.merge(prot_exp, meta_exp, on=['RID','AGE','PTGENDER',\n",
    "                                                'APOE4', 'PTEDUCAT','DX.bl'], how='inner')\n",
    "combined_inner.shape"
   ],
   "id": "4554f5193120e356",
   "outputs": [
    {
     "data": {
      "text/plain": [
       "(605, 7312)"
      ]
     },
     "execution_count": 57,
     "metadata": {},
     "output_type": "execute_result"
    }
   ],
   "execution_count": 57
  },
  {
   "metadata": {
    "ExecuteTime": {
     "end_time": "2025-05-22T17:09:04.530411Z",
     "start_time": "2025-05-22T17:09:04.518366Z"
    }
   },
   "cell_type": "code",
   "source": "combined_inner",
   "id": "9963159ba4f3ee8e",
   "outputs": [
    {
     "data": {
      "text/plain": [
       "      RID     X10000.28      X10001.7  X10003.15  X10006.25  X10008.43  \\\n",
       "0    4521  1.310421e+00  1.564750e+00  -0.029270   0.338239   0.172844   \n",
       "1    4488 -5.392761e-02 -7.330680e-01  -0.759819   1.549274   0.377533   \n",
       "2    4516 -5.883357e-15 -1.661512e-01  -2.344702   0.689727  -2.226109   \n",
       "3    4530  1.900540e+00 -5.984978e-01   0.622327  -0.639343   1.158421   \n",
       "4    4462 -8.187144e-01 -3.063405e-01  -0.670879   1.981747  -0.977259   \n",
       "..    ...           ...           ...        ...        ...        ...   \n",
       "600   892 -3.971742e-01  2.690528e-02   1.009825  -2.522048   0.808148   \n",
       "601  1290  1.783923e-01 -5.174537e-01   1.431127  -0.797446  -1.137383   \n",
       "602   438  1.207926e+00 -5.948492e-15  -0.014900  -1.901192  -0.370854   \n",
       "603   459  2.264864e+00  9.504740e-01   1.498339  -1.097550   0.883534   \n",
       "604   448  8.286881e-01  7.337386e-01  -0.187950  -0.463064  -0.791467   \n",
       "\n",
       "     X10010.10  X10011.65      X10012.5     X10014.31  ...  X999925271  \\\n",
       "0    -0.062360   0.199556 -5.959430e-01 -1.014925e+00  ...   -3.604906   \n",
       "1     1.200031   0.822422 -8.385415e-02  3.882343e-01  ...    0.187962   \n",
       "2     1.157316  -0.185695  1.190070e+00 -2.001990e+00  ...   -0.115575   \n",
       "3    -0.577022  -0.071078 -4.149629e-01 -1.403547e+00  ...   -3.604906   \n",
       "4    -2.196091   0.060342 -7.219177e-01 -8.578163e-01  ...   -1.838839   \n",
       "..         ...        ...           ...           ...  ...         ...   \n",
       "600  -1.725119  -1.286070  8.025993e-02 -4.080522e-02  ...    0.525783   \n",
       "601   0.312815  -1.606760  2.004348e+00  9.893535e-15  ...   -0.077627   \n",
       "602  -2.054073   0.354994  8.337977e-01 -6.866522e-02  ...   -3.604906   \n",
       "603   0.487864  -1.436327 -7.780868e-01 -2.222898e-01  ...   -1.601105   \n",
       "604  -0.262769  -1.673443  1.859116e-14 -2.783197e-01  ...    0.874363   \n",
       "\n",
       "     X999925422  X999925520  X999925790  X999925855  X999925936  X999925948  \\\n",
       "0      0.234389    0.502494   -0.036932    0.471623    0.290790    0.193650   \n",
       "1      0.393201    0.625089   -0.567941   -0.088230   -0.002156    0.127477   \n",
       "2      0.090926    0.251101   -0.437075   -0.132976    0.085757    0.080813   \n",
       "3     -0.270487    0.395811   -0.070654   -0.143753   -0.227549   -0.499878   \n",
       "4     -0.160643    0.247039   -0.229446    0.044833   -0.004890   -0.138131   \n",
       "..          ...         ...         ...         ...         ...         ...   \n",
       "600    0.023850    0.164868   -0.165604    0.144147    0.155945    0.550028   \n",
       "601   -0.056953    0.950938    0.306473   -0.415830    0.534812    0.196122   \n",
       "602    0.576290   -0.392982    0.616968   -0.245413    0.314903    0.610841   \n",
       "603    0.653349   -0.672593    0.280353   -0.124174   -0.007530    0.667239   \n",
       "604    0.181996    0.308832   -0.292370   -0.879952   -0.060701   -0.403206   \n",
       "\n",
       "     X999925957  X999925983  X999926062  \n",
       "0     -0.214571    0.435805   -1.098107  \n",
       "1      0.009421   -0.368060   -0.075985  \n",
       "2      0.087746   -0.486070   -1.107063  \n",
       "3      0.263290   -0.828637    0.942269  \n",
       "4      0.084968   -0.224319    1.144818  \n",
       "..          ...         ...         ...  \n",
       "600    0.464523   -0.306357   -3.200134  \n",
       "601   -0.048488    0.240748    1.789119  \n",
       "602   -0.213719   -0.299099   -3.200134  \n",
       "603   -0.025620   -0.204149    0.202966  \n",
       "604   -0.349396   -0.837058    0.427154  \n",
       "\n",
       "[605 rows x 7312 columns]"
      ],
      "text/html": [
       "<div>\n",
       "<style scoped>\n",
       "    .dataframe tbody tr th:only-of-type {\n",
       "        vertical-align: middle;\n",
       "    }\n",
       "\n",
       "    .dataframe tbody tr th {\n",
       "        vertical-align: top;\n",
       "    }\n",
       "\n",
       "    .dataframe thead th {\n",
       "        text-align: right;\n",
       "    }\n",
       "</style>\n",
       "<table border=\"1\" class=\"dataframe\">\n",
       "  <thead>\n",
       "    <tr style=\"text-align: right;\">\n",
       "      <th></th>\n",
       "      <th>RID</th>\n",
       "      <th>X10000.28</th>\n",
       "      <th>X10001.7</th>\n",
       "      <th>X10003.15</th>\n",
       "      <th>X10006.25</th>\n",
       "      <th>X10008.43</th>\n",
       "      <th>X10010.10</th>\n",
       "      <th>X10011.65</th>\n",
       "      <th>X10012.5</th>\n",
       "      <th>X10014.31</th>\n",
       "      <th>...</th>\n",
       "      <th>X999925271</th>\n",
       "      <th>X999925422</th>\n",
       "      <th>X999925520</th>\n",
       "      <th>X999925790</th>\n",
       "      <th>X999925855</th>\n",
       "      <th>X999925936</th>\n",
       "      <th>X999925948</th>\n",
       "      <th>X999925957</th>\n",
       "      <th>X999925983</th>\n",
       "      <th>X999926062</th>\n",
       "    </tr>\n",
       "  </thead>\n",
       "  <tbody>\n",
       "    <tr>\n",
       "      <th>0</th>\n",
       "      <td>4521</td>\n",
       "      <td>1.310421e+00</td>\n",
       "      <td>1.564750e+00</td>\n",
       "      <td>-0.029270</td>\n",
       "      <td>0.338239</td>\n",
       "      <td>0.172844</td>\n",
       "      <td>-0.062360</td>\n",
       "      <td>0.199556</td>\n",
       "      <td>-5.959430e-01</td>\n",
       "      <td>-1.014925e+00</td>\n",
       "      <td>...</td>\n",
       "      <td>-3.604906</td>\n",
       "      <td>0.234389</td>\n",
       "      <td>0.502494</td>\n",
       "      <td>-0.036932</td>\n",
       "      <td>0.471623</td>\n",
       "      <td>0.290790</td>\n",
       "      <td>0.193650</td>\n",
       "      <td>-0.214571</td>\n",
       "      <td>0.435805</td>\n",
       "      <td>-1.098107</td>\n",
       "    </tr>\n",
       "    <tr>\n",
       "      <th>1</th>\n",
       "      <td>4488</td>\n",
       "      <td>-5.392761e-02</td>\n",
       "      <td>-7.330680e-01</td>\n",
       "      <td>-0.759819</td>\n",
       "      <td>1.549274</td>\n",
       "      <td>0.377533</td>\n",
       "      <td>1.200031</td>\n",
       "      <td>0.822422</td>\n",
       "      <td>-8.385415e-02</td>\n",
       "      <td>3.882343e-01</td>\n",
       "      <td>...</td>\n",
       "      <td>0.187962</td>\n",
       "      <td>0.393201</td>\n",
       "      <td>0.625089</td>\n",
       "      <td>-0.567941</td>\n",
       "      <td>-0.088230</td>\n",
       "      <td>-0.002156</td>\n",
       "      <td>0.127477</td>\n",
       "      <td>0.009421</td>\n",
       "      <td>-0.368060</td>\n",
       "      <td>-0.075985</td>\n",
       "    </tr>\n",
       "    <tr>\n",
       "      <th>2</th>\n",
       "      <td>4516</td>\n",
       "      <td>-5.883357e-15</td>\n",
       "      <td>-1.661512e-01</td>\n",
       "      <td>-2.344702</td>\n",
       "      <td>0.689727</td>\n",
       "      <td>-2.226109</td>\n",
       "      <td>1.157316</td>\n",
       "      <td>-0.185695</td>\n",
       "      <td>1.190070e+00</td>\n",
       "      <td>-2.001990e+00</td>\n",
       "      <td>...</td>\n",
       "      <td>-0.115575</td>\n",
       "      <td>0.090926</td>\n",
       "      <td>0.251101</td>\n",
       "      <td>-0.437075</td>\n",
       "      <td>-0.132976</td>\n",
       "      <td>0.085757</td>\n",
       "      <td>0.080813</td>\n",
       "      <td>0.087746</td>\n",
       "      <td>-0.486070</td>\n",
       "      <td>-1.107063</td>\n",
       "    </tr>\n",
       "    <tr>\n",
       "      <th>3</th>\n",
       "      <td>4530</td>\n",
       "      <td>1.900540e+00</td>\n",
       "      <td>-5.984978e-01</td>\n",
       "      <td>0.622327</td>\n",
       "      <td>-0.639343</td>\n",
       "      <td>1.158421</td>\n",
       "      <td>-0.577022</td>\n",
       "      <td>-0.071078</td>\n",
       "      <td>-4.149629e-01</td>\n",
       "      <td>-1.403547e+00</td>\n",
       "      <td>...</td>\n",
       "      <td>-3.604906</td>\n",
       "      <td>-0.270487</td>\n",
       "      <td>0.395811</td>\n",
       "      <td>-0.070654</td>\n",
       "      <td>-0.143753</td>\n",
       "      <td>-0.227549</td>\n",
       "      <td>-0.499878</td>\n",
       "      <td>0.263290</td>\n",
       "      <td>-0.828637</td>\n",
       "      <td>0.942269</td>\n",
       "    </tr>\n",
       "    <tr>\n",
       "      <th>4</th>\n",
       "      <td>4462</td>\n",
       "      <td>-8.187144e-01</td>\n",
       "      <td>-3.063405e-01</td>\n",
       "      <td>-0.670879</td>\n",
       "      <td>1.981747</td>\n",
       "      <td>-0.977259</td>\n",
       "      <td>-2.196091</td>\n",
       "      <td>0.060342</td>\n",
       "      <td>-7.219177e-01</td>\n",
       "      <td>-8.578163e-01</td>\n",
       "      <td>...</td>\n",
       "      <td>-1.838839</td>\n",
       "      <td>-0.160643</td>\n",
       "      <td>0.247039</td>\n",
       "      <td>-0.229446</td>\n",
       "      <td>0.044833</td>\n",
       "      <td>-0.004890</td>\n",
       "      <td>-0.138131</td>\n",
       "      <td>0.084968</td>\n",
       "      <td>-0.224319</td>\n",
       "      <td>1.144818</td>\n",
       "    </tr>\n",
       "    <tr>\n",
       "      <th>...</th>\n",
       "      <td>...</td>\n",
       "      <td>...</td>\n",
       "      <td>...</td>\n",
       "      <td>...</td>\n",
       "      <td>...</td>\n",
       "      <td>...</td>\n",
       "      <td>...</td>\n",
       "      <td>...</td>\n",
       "      <td>...</td>\n",
       "      <td>...</td>\n",
       "      <td>...</td>\n",
       "      <td>...</td>\n",
       "      <td>...</td>\n",
       "      <td>...</td>\n",
       "      <td>...</td>\n",
       "      <td>...</td>\n",
       "      <td>...</td>\n",
       "      <td>...</td>\n",
       "      <td>...</td>\n",
       "      <td>...</td>\n",
       "      <td>...</td>\n",
       "    </tr>\n",
       "    <tr>\n",
       "      <th>600</th>\n",
       "      <td>892</td>\n",
       "      <td>-3.971742e-01</td>\n",
       "      <td>2.690528e-02</td>\n",
       "      <td>1.009825</td>\n",
       "      <td>-2.522048</td>\n",
       "      <td>0.808148</td>\n",
       "      <td>-1.725119</td>\n",
       "      <td>-1.286070</td>\n",
       "      <td>8.025993e-02</td>\n",
       "      <td>-4.080522e-02</td>\n",
       "      <td>...</td>\n",
       "      <td>0.525783</td>\n",
       "      <td>0.023850</td>\n",
       "      <td>0.164868</td>\n",
       "      <td>-0.165604</td>\n",
       "      <td>0.144147</td>\n",
       "      <td>0.155945</td>\n",
       "      <td>0.550028</td>\n",
       "      <td>0.464523</td>\n",
       "      <td>-0.306357</td>\n",
       "      <td>-3.200134</td>\n",
       "    </tr>\n",
       "    <tr>\n",
       "      <th>601</th>\n",
       "      <td>1290</td>\n",
       "      <td>1.783923e-01</td>\n",
       "      <td>-5.174537e-01</td>\n",
       "      <td>1.431127</td>\n",
       "      <td>-0.797446</td>\n",
       "      <td>-1.137383</td>\n",
       "      <td>0.312815</td>\n",
       "      <td>-1.606760</td>\n",
       "      <td>2.004348e+00</td>\n",
       "      <td>9.893535e-15</td>\n",
       "      <td>...</td>\n",
       "      <td>-0.077627</td>\n",
       "      <td>-0.056953</td>\n",
       "      <td>0.950938</td>\n",
       "      <td>0.306473</td>\n",
       "      <td>-0.415830</td>\n",
       "      <td>0.534812</td>\n",
       "      <td>0.196122</td>\n",
       "      <td>-0.048488</td>\n",
       "      <td>0.240748</td>\n",
       "      <td>1.789119</td>\n",
       "    </tr>\n",
       "    <tr>\n",
       "      <th>602</th>\n",
       "      <td>438</td>\n",
       "      <td>1.207926e+00</td>\n",
       "      <td>-5.948492e-15</td>\n",
       "      <td>-0.014900</td>\n",
       "      <td>-1.901192</td>\n",
       "      <td>-0.370854</td>\n",
       "      <td>-2.054073</td>\n",
       "      <td>0.354994</td>\n",
       "      <td>8.337977e-01</td>\n",
       "      <td>-6.866522e-02</td>\n",
       "      <td>...</td>\n",
       "      <td>-3.604906</td>\n",
       "      <td>0.576290</td>\n",
       "      <td>-0.392982</td>\n",
       "      <td>0.616968</td>\n",
       "      <td>-0.245413</td>\n",
       "      <td>0.314903</td>\n",
       "      <td>0.610841</td>\n",
       "      <td>-0.213719</td>\n",
       "      <td>-0.299099</td>\n",
       "      <td>-3.200134</td>\n",
       "    </tr>\n",
       "    <tr>\n",
       "      <th>603</th>\n",
       "      <td>459</td>\n",
       "      <td>2.264864e+00</td>\n",
       "      <td>9.504740e-01</td>\n",
       "      <td>1.498339</td>\n",
       "      <td>-1.097550</td>\n",
       "      <td>0.883534</td>\n",
       "      <td>0.487864</td>\n",
       "      <td>-1.436327</td>\n",
       "      <td>-7.780868e-01</td>\n",
       "      <td>-2.222898e-01</td>\n",
       "      <td>...</td>\n",
       "      <td>-1.601105</td>\n",
       "      <td>0.653349</td>\n",
       "      <td>-0.672593</td>\n",
       "      <td>0.280353</td>\n",
       "      <td>-0.124174</td>\n",
       "      <td>-0.007530</td>\n",
       "      <td>0.667239</td>\n",
       "      <td>-0.025620</td>\n",
       "      <td>-0.204149</td>\n",
       "      <td>0.202966</td>\n",
       "    </tr>\n",
       "    <tr>\n",
       "      <th>604</th>\n",
       "      <td>448</td>\n",
       "      <td>8.286881e-01</td>\n",
       "      <td>7.337386e-01</td>\n",
       "      <td>-0.187950</td>\n",
       "      <td>-0.463064</td>\n",
       "      <td>-0.791467</td>\n",
       "      <td>-0.262769</td>\n",
       "      <td>-1.673443</td>\n",
       "      <td>1.859116e-14</td>\n",
       "      <td>-2.783197e-01</td>\n",
       "      <td>...</td>\n",
       "      <td>0.874363</td>\n",
       "      <td>0.181996</td>\n",
       "      <td>0.308832</td>\n",
       "      <td>-0.292370</td>\n",
       "      <td>-0.879952</td>\n",
       "      <td>-0.060701</td>\n",
       "      <td>-0.403206</td>\n",
       "      <td>-0.349396</td>\n",
       "      <td>-0.837058</td>\n",
       "      <td>0.427154</td>\n",
       "    </tr>\n",
       "  </tbody>\n",
       "</table>\n",
       "<p>605 rows × 7312 columns</p>\n",
       "</div>"
      ]
     },
     "execution_count": 58,
     "metadata": {},
     "output_type": "execute_result"
    }
   ],
   "execution_count": 58
  },
  {
   "metadata": {
    "ExecuteTime": {
     "end_time": "2025-05-22T17:09:06.672269Z",
     "start_time": "2025-05-22T17:09:06.636451Z"
    }
   },
   "cell_type": "code",
   "source": [
    "venn2_unweighted(subsets = (103, 15, 605), set_labels = ('samples with proteome data', 'samples with metabolome data'))\n",
    "plt.show()"
   ],
   "id": "ce23fb962f5a613c",
   "outputs": [
    {
     "name": "stderr",
     "output_type": "stream",
     "text": [
      "/Library/Frameworks/Python.framework/Versions/3.12/lib/python3.12/site-packages/matplotlib_venn/_util.py:32: UserWarning: venn2_unweighted is deprecated. Use venn2 with the appropriate layout_algorithm instead.\n",
      "  warnings.warn(\n"
     ]
    },
    {
     "data": {
      "text/plain": [
       "<Figure size 640x480 with 1 Axes>"
      ],
      "image/png": "[encoded data removed]"
     },
     "metadata": {},
     "output_type": "display_data"
    }
   ],
   "execution_count": 59
  },
  {
   "metadata": {
    "ExecuteTime": {
     "end_time": "2025-05-22T17:02:28.355289Z",
     "start_time": "2025-05-22T17:02:25.539372Z"
    }
   },
   "cell_type": "code",
   "source": "combined_inner.to_csv('SourceData/combined_exp_data.csv', index=False)",
   "id": "9288062eaac3198a",
   "outputs": [],
   "execution_count": 46
  },
  {
   "metadata": {
    "ExecuteTime": {
     "end_time": "2025-05-22T17:09:10.940166Z",
     "start_time": "2025-05-22T17:09:10.934738Z"
    }
   },
   "cell_type": "code",
   "source": "combined_inner[['DX.bl']].value_counts()",
   "id": "1fdd700adc7d91d9",
   "outputs": [
    {
     "data": {
      "text/plain": [
       "DX.bl\n",
       "MCI      339\n",
       "CN       145\n",
       "AD       121\n",
       "Name: count, dtype: int64"
      ]
     },
     "execution_count": 60,
     "metadata": {},
     "output_type": "execute_result"
    }
   ],
   "execution_count": 60
  }
 ],
 "metadata": {
  "kernelspec": {
   "display_name": "Python 3",
   "language": "python",
   "name": "python3"
  },
  "language_info": {
   "codemirror_mode": {
    "name": "ipython",
    "version": 2
   },
   "file_extension": ".py",
   "mimetype": "text/x-python",
   "name": "python",
   "nbconvert_exporter": "python",
   "pygments_lexer": "ipython2",
   "version": "2.7.6"
  }
 },
 "nbformat": 4,
 "nbformat_minor": 5
}
