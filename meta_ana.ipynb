{
 "cells": [
  {
   "cell_type": "code",
   "id": "initial_id",
   "metadata": {
    "collapsed": true,
    "ExecuteTime": {
     "end_time": "2025-05-28T15:18:55.819474Z",
     "start_time": "2025-05-28T15:18:55.817067Z"
    }
   },
   "source": [
    "import pandas as pd\n",
    "import numpy as np\n",
    "import statsmodels.api as sm\n",
    "from sklearn.metrics import roc_auc_score\n",
    "import matplotlib.pyplot as plt\n",
    "from statsmodels.stats.multitest import multipletests\n",
    "from adjustText import adjust_text"
   ],
   "outputs": [],
   "execution_count": 255
  },
  {
   "metadata": {
    "ExecuteTime": {
     "end_time": "2025-05-28T15:18:55.886067Z",
     "start_time": "2025-05-28T15:18:55.842761Z"
    }
   },
   "cell_type": "code",
   "source": [
    "meta_ana = pd.read_csv('SourceData/meta_exp_data.csv').set_index('RID')\n",
    "meta_info = pd.read_csv('SourceData/ADNI_meta_info.csv')[['ChemID','PLOT_NAME']].rename(columns={'ChemID':'Compound'})"
   ],
   "id": "6569d7bb69866717",
   "outputs": [],
   "execution_count": 256
  },
  {
   "metadata": {},
   "cell_type": "markdown",
   "source": "### Define functions",
   "id": "93896d7f70e7f970"
  },
  {
   "metadata": {
    "ExecuteTime": {
     "end_time": "2025-05-28T15:18:55.906168Z",
     "start_time": "2025-05-28T15:18:55.904277Z"
    }
   },
   "cell_type": "code",
   "source": [
    "# Apply log reg and return the model\n",
    "def log_reg(compound, data):\n",
    "    # Define data\n",
    "    X = data[[compound, 'AGE', 'PTGENDER', 'APOE4', 'PTEDUCAT']].copy()\n",
    "    X = sm.add_constant(X)\n",
    "    y = data['DX.bl']\n",
    "\n",
    "    try:\n",
    "        model = sm.Logit(y, X).fit(disp=0)\n",
    "        return(model)\n",
    "\n",
    "    except Exception as e:\n",
    "        print(f\"Model fitting failed for {compound}: {e}\")\n",
    "        return(None)"
   ],
   "id": "fee3159fb95d0001",
   "outputs": [],
   "execution_count": 257
  },
  {
   "metadata": {
    "ExecuteTime": {
     "end_time": "2025-05-28T15:18:55.929096Z",
     "start_time": "2025-05-28T15:18:55.927339Z"
    }
   },
   "cell_type": "code",
   "source": [
    "# Return parameters for the model\n",
    "def extract_protein_stats(compound, model):\n",
    "\n",
    "    coef = model.params[compound]\n",
    "    pval = model.pvalues[compound]\n",
    "    stderr = model.bse[compound]\n",
    "    tvalue = model.tvalues[compound]\n",
    "\n",
    "    return({'Compound': compound,\n",
    "            'Estimate': coef,\n",
    "            'StdErr': stderr,\n",
    "            'z_score': tvalue,      # zscore and t-value are same in results\n",
    "            'p_value': pval\n",
    "            })\n"
   ],
   "id": "77051dc227bc47dc",
   "outputs": [],
   "execution_count": 258
  },
  {
   "metadata": {
    "ExecuteTime": {
     "end_time": "2025-05-28T15:18:55.953523Z",
     "start_time": "2025-05-28T15:18:55.951616Z"
    }
   },
   "cell_type": "code",
   "source": [
    "# Compute AUC for the model\n",
    "def compute_protein_auc(compound, data):\n",
    "    # Define data\n",
    "    X = data[[compound, 'AGE', 'PTGENDER', 'APOE4', 'PTEDUCAT']]\n",
    "    X = sm.add_constant(X)\n",
    "    y = data['DX.bl']\n",
    "\n",
    "    model = sm.Logit(y, X).fit(disp=0)\n",
    "\n",
    "    try:\n",
    "        y_pred_prob = model.predict(X)\n",
    "        return(roc_auc_score(y, y_pred_prob))\n",
    "\n",
    "    except Exception as e:\n",
    "        print(f\"AUC calculation failed for {compound}: {e}\")\n",
    "        return(None)"
   ],
   "id": "c0207e33e5004cf5",
   "outputs": [],
   "execution_count": 259
  },
  {
   "metadata": {
    "ExecuteTime": {
     "end_time": "2025-05-28T15:18:55.981380Z",
     "start_time": "2025-05-28T15:18:55.979663Z"
    }
   },
   "cell_type": "code",
   "source": [
    "# Assigning colours in volcano plots\n",
    "# log odds of 1.5, so estimate = 0.4 (log odds ratio = exp(estimate))\n",
    "def assign_color(row):\n",
    "    abs_est = abs(row['Estimate'])\n",
    "    padj = row['padj_fdr']\n",
    "    if abs_est > 0.4 and padj < 0.05:\n",
    "        return 'red'  # significant + strong effect\n",
    "    elif abs_est > 0.4 or padj < 0.05:\n",
    "        return 'blue'  # either effect or significance\n",
    "    else:\n",
    "        return 'grey'"
   ],
   "id": "3bec94a0b0296bc0",
   "outputs": [],
   "execution_count": 260
  },
  {
   "metadata": {},
   "cell_type": "markdown",
   "source": "### CN vs AD",
   "id": "e3388499c3cbed1f"
  },
  {
   "metadata": {
    "ExecuteTime": {
     "end_time": "2025-05-28T15:18:56.014717Z",
     "start_time": "2025-05-28T15:18:56.011092Z"
    }
   },
   "cell_type": "code",
   "source": [
    "meta_ana_cn_ad = meta_ana[meta_ana['DX.bl'].str.contains('CN|AD', case=False, na=False)].copy()\n",
    "\n",
    "# Binarization of gender for model\n",
    "meta_ana_cn_ad['PTGENDER'] = meta_ana_cn_ad['PTGENDER'].map({'Male': 1, 'Female': 0})\n",
    "meta_ana_cn_ad['DX.bl'] = meta_ana_cn_ad['DX.bl'].map({'AD': 1, 'CN': 0})\n",
    "\n",
    "# Define columns\n",
    "meta_cols = [col for col in meta_ana_cn_ad.columns if col.startswith('X')]"
   ],
   "id": "7aa520f5098dd8f3",
   "outputs": [],
   "execution_count": 261
  },
  {
   "metadata": {},
   "cell_type": "markdown",
   "source": "#### Sample entry",
   "id": "30d46e2ecb41ae4e"
  },
  {
   "metadata": {
    "ExecuteTime": {
     "end_time": "2025-05-28T15:18:56.051673Z",
     "start_time": "2025-05-28T15:18:56.040224Z"
    }
   },
   "cell_type": "code",
   "source": [
    "model = log_reg('X41', meta_ana_cn_ad)\n",
    "model.summary()"
   ],
   "id": "b8700baf86ba8f12",
   "outputs": [
    {
     "data": {
      "text/plain": [
       "<class 'statsmodels.iolib.summary.Summary'>\n",
       "\"\"\"\n",
       "                           Logit Regression Results                           \n",
       "==============================================================================\n",
       "Dep. Variable:                  DX.bl   No. Observations:                  266\n",
       "Model:                          Logit   Df Residuals:                      260\n",
       "Method:                           MLE   Df Model:                            5\n",
       "Date:                Wed, 28 May 2025   Pseudo R-squ.:                  0.2162\n",
       "Time:                        11:18:56   Log-Likelihood:                -143.66\n",
       "converged:                       True   LL-Null:                       -183.29\n",
       "Covariance Type:            nonrobust   LLR p-value:                 1.199e-15\n",
       "==============================================================================\n",
       "                 coef    std err          z      P>|z|      [0.025      0.975]\n",
       "------------------------------------------------------------------------------\n",
       "const         -2.7750      1.836     -1.511      0.131      -6.373       0.823\n",
       "X41            0.0036      0.155      0.023      0.982      -0.300       0.308\n",
       "AGE            0.0455      0.021      2.210      0.027       0.005       0.086\n",
       "PTGENDER       0.2268      0.315      0.720      0.471      -0.390       0.844\n",
       "APOE4          1.8088      0.253      7.149      0.000       1.313       2.305\n",
       "PTEDUCAT      -0.1227      0.053     -2.313      0.021      -0.227      -0.019\n",
       "==============================================================================\n",
       "\"\"\""
      ],
      "text/html": [
       "<table class=\"simpletable\">\n",
       "<caption>Logit Regression Results</caption>\n",
       "<tr>\n",
       "  <th>Dep. Variable:</th>         <td>DX.bl</td>      <th>  No. Observations:  </th>  <td>   266</td>  \n",
       "</tr>\n",
       "<tr>\n",
       "  <th>Model:</th>                 <td>Logit</td>      <th>  Df Residuals:      </th>  <td>   260</td>  \n",
       "</tr>\n",
       "<tr>\n",
       "  <th>Method:</th>                 <td>MLE</td>       <th>  Df Model:          </th>  <td>     5</td>  \n",
       "</tr>\n",
       "<tr>\n",
       "  <th>Date:</th>            <td>Wed, 28 May 2025</td> <th>  Pseudo R-squ.:     </th>  <td>0.2162</td>  \n",
       "</tr>\n",
       "<tr>\n",
       "  <th>Time:</th>                <td>11:18:56</td>     <th>  Log-Likelihood:    </th> <td> -143.66</td> \n",
       "</tr>\n",
       "<tr>\n",
       "  <th>converged:</th>             <td>True</td>       <th>  LL-Null:           </th> <td> -183.29</td> \n",
       "</tr>\n",
       "<tr>\n",
       "  <th>Covariance Type:</th>     <td>nonrobust</td>    <th>  LLR p-value:       </th> <td>1.199e-15</td>\n",
       "</tr>\n",
       "</table>\n",
       "<table class=\"simpletable\">\n",
       "<tr>\n",
       "      <td></td>        <th>coef</th>     <th>std err</th>      <th>z</th>      <th>P>|z|</th>  <th>[0.025</th>    <th>0.975]</th>  \n",
       "</tr>\n",
       "<tr>\n",
       "  <th>const</th>    <td>   -2.7750</td> <td>    1.836</td> <td>   -1.511</td> <td> 0.131</td> <td>   -6.373</td> <td>    0.823</td>\n",
       "</tr>\n",
       "<tr>\n",
       "  <th>X41</th>      <td>    0.0036</td> <td>    0.155</td> <td>    0.023</td> <td> 0.982</td> <td>   -0.300</td> <td>    0.308</td>\n",
       "</tr>\n",
       "<tr>\n",
       "  <th>AGE</th>      <td>    0.0455</td> <td>    0.021</td> <td>    2.210</td> <td> 0.027</td> <td>    0.005</td> <td>    0.086</td>\n",
       "</tr>\n",
       "<tr>\n",
       "  <th>PTGENDER</th> <td>    0.2268</td> <td>    0.315</td> <td>    0.720</td> <td> 0.471</td> <td>   -0.390</td> <td>    0.844</td>\n",
       "</tr>\n",
       "<tr>\n",
       "  <th>APOE4</th>    <td>    1.8088</td> <td>    0.253</td> <td>    7.149</td> <td> 0.000</td> <td>    1.313</td> <td>    2.305</td>\n",
       "</tr>\n",
       "<tr>\n",
       "  <th>PTEDUCAT</th> <td>   -0.1227</td> <td>    0.053</td> <td>   -2.313</td> <td> 0.021</td> <td>   -0.227</td> <td>   -0.019</td>\n",
       "</tr>\n",
       "</table>"
      ],
      "text/latex": "\\begin{center}\n\\begin{tabular}{lclc}\n\\toprule\n\\textbf{Dep. Variable:}   &      DX.bl       & \\textbf{  No. Observations:  } &      266    \\\\\n\\textbf{Model:}           &      Logit       & \\textbf{  Df Residuals:      } &      260    \\\\\n\\textbf{Method:}          &       MLE        & \\textbf{  Df Model:          } &        5    \\\\\n\\textbf{Date:}            & Wed, 28 May 2025 & \\textbf{  Pseudo R-squ.:     } &   0.2162    \\\\\n\\textbf{Time:}            &     11:18:56     & \\textbf{  Log-Likelihood:    } &   -143.66   \\\\\n\\textbf{converged:}       &       True       & \\textbf{  LL-Null:           } &   -183.29   \\\\\n\\textbf{Covariance Type:} &    nonrobust     & \\textbf{  LLR p-value:       } & 1.199e-15   \\\\\n\\bottomrule\n\\end{tabular}\n\\begin{tabular}{lcccccc}\n                  & \\textbf{coef} & \\textbf{std err} & \\textbf{z} & \\textbf{P$> |$z$|$} & \\textbf{[0.025} & \\textbf{0.975]}  \\\\\n\\midrule\n\\textbf{const}    &      -2.7750  &        1.836     &    -1.511  &         0.131        &       -6.373    &        0.823     \\\\\n\\textbf{X41}      &       0.0036  &        0.155     &     0.023  &         0.982        &       -0.300    &        0.308     \\\\\n\\textbf{AGE}      &       0.0455  &        0.021     &     2.210  &         0.027        &        0.005    &        0.086     \\\\\n\\textbf{PTGENDER} &       0.2268  &        0.315     &     0.720  &         0.471        &       -0.390    &        0.844     \\\\\n\\textbf{APOE4}    &       1.8088  &        0.253     &     7.149  &         0.000        &        1.313    &        2.305     \\\\\n\\textbf{PTEDUCAT} &      -0.1227  &        0.053     &    -2.313  &         0.021        &       -0.227    &       -0.019     \\\\\n\\bottomrule\n\\end{tabular}\n%\\caption{Logit Regression Results}\n\\end{center}"
     },
     "execution_count": 262,
     "metadata": {},
     "output_type": "execute_result"
    }
   ],
   "execution_count": 262
  },
  {
   "metadata": {
    "ExecuteTime": {
     "end_time": "2025-05-28T15:18:56.107018Z",
     "start_time": "2025-05-28T15:18:56.103132Z"
    }
   },
   "cell_type": "code",
   "source": "extract_protein_stats('X41', model)",
   "id": "5b42e61d7373e9c5",
   "outputs": [
    {
     "data": {
      "text/plain": [
       "{'Compound': 'X41',\n",
       " 'Estimate': 0.0035778903516075276,\n",
       " 'StdErr': 0.15509454197946548,\n",
       " 'z_score': 0.023069092605987645,\n",
       " 'p_value': 0.9815951596497237}"
      ]
     },
     "execution_count": 263,
     "metadata": {},
     "output_type": "execute_result"
    }
   ],
   "execution_count": 263
  },
  {
   "metadata": {
    "ExecuteTime": {
     "end_time": "2025-05-28T15:18:56.178447Z",
     "start_time": "2025-05-28T15:18:56.167750Z"
    }
   },
   "cell_type": "code",
   "source": "compute_protein_auc('X41',meta_ana_cn_ad)",
   "id": "4f18a8305862082c",
   "outputs": [
    {
     "data": {
      "text/plain": [
       "0.8014249073810202"
      ]
     },
     "execution_count": 264,
     "metadata": {},
     "output_type": "execute_result"
    }
   ],
   "execution_count": 264
  },
  {
   "metadata": {},
   "cell_type": "markdown",
   "source": "#### Application",
   "id": "df5067cdfda3071f"
  },
  {
   "metadata": {
    "ExecuteTime": {
     "end_time": "2025-05-28T15:18:56.703738Z",
     "start_time": "2025-05-28T15:18:56.227488Z"
    }
   },
   "cell_type": "code",
   "source": [
    "logreg_results = []\n",
    "\n",
    "for comp in meta_cols:\n",
    "    model = log_reg(comp, meta_ana_cn_ad)\n",
    "    stats = extract_protein_stats(comp, model)\n",
    "    logreg_results.append(stats)\n",
    "\n",
    "logreg_results = pd.DataFrame(logreg_results)"
   ],
   "id": "7a525457552458f4",
   "outputs": [],
   "execution_count": 265
  },
  {
   "metadata": {
    "ExecuteTime": {
     "end_time": "2025-05-28T15:18:56.749516Z",
     "start_time": "2025-05-28T15:18:56.746640Z"
    }
   },
   "cell_type": "code",
   "source": [
    "# fdr\n",
    "rejected, pvals_corrected, _, _ = multipletests(logreg_results['p_value'], method='fdr_bh')\n",
    "logreg_results['padj_fdr'] = pvals_corrected\n",
    "\n",
    "# -log10(pval_fdr)\n",
    "logreg_results['-log10(fdr)'] = -np.log10(logreg_results['padj_fdr'])"
   ],
   "id": "8ef1b102aabf34ca",
   "outputs": [],
   "execution_count": 266
  },
  {
   "metadata": {
    "ExecuteTime": {
     "end_time": "2025-05-28T15:18:56.801673Z",
     "start_time": "2025-05-28T15:18:56.796267Z"
    }
   },
   "cell_type": "code",
   "source": "logreg_results",
   "id": "8b7f1f420aba1ec",
   "outputs": [
    {
     "data": {
      "text/plain": [
       "       Compound  Estimate    StdErr   z_score   p_value  padj_fdr  -log10(fdr)\n",
       "0           X35  0.509173  0.174894  2.911317  0.003599  0.097655     1.010305\n",
       "1           X41  0.003578  0.155095  0.023069  0.981595  0.990695     0.004060\n",
       "2           X50 -0.034193  0.150446 -0.227278  0.820208  0.940351     0.026710\n",
       "3           X55 -0.265783  0.152200 -1.746279  0.080763  0.349685     0.456323\n",
       "4           X92 -0.142866  0.146097 -0.977882  0.328133  0.634947     0.197263\n",
       "..          ...       ...       ...       ...       ...       ...          ...\n",
       "402  X999925936 -0.514127  0.158119 -3.251526  0.001148  0.074784     1.126192\n",
       "403  X999925948 -0.296452  0.151408 -1.957960  0.050235  0.292079     0.534500\n",
       "404  X999925957 -0.243149  0.154023 -1.578662  0.114414  0.431463     0.365057\n",
       "405  X999925983 -0.176419  0.149551 -1.179660  0.238135  0.587125     0.231269\n",
       "406  X999926062 -0.071886  0.148557 -0.483896  0.628460  0.835893     0.077849\n",
       "\n",
       "[407 rows x 7 columns]"
      ],
      "text/html": [
       "<div>\n",
       "<style scoped>\n",
       "    .dataframe tbody tr th:only-of-type {\n",
       "        vertical-align: middle;\n",
       "    }\n",
       "\n",
       "    .dataframe tbody tr th {\n",
       "        vertical-align: top;\n",
       "    }\n",
       "\n",
       "    .dataframe thead th {\n",
       "        text-align: right;\n",
       "    }\n",
       "</style>\n",
       "<table border=\"1\" class=\"dataframe\">\n",
       "  <thead>\n",
       "    <tr style=\"text-align: right;\">\n",
       "      <th></th>\n",
       "      <th>Compound</th>\n",
       "      <th>Estimate</th>\n",
       "      <th>StdErr</th>\n",
       "      <th>z_score</th>\n",
       "      <th>p_value</th>\n",
       "      <th>padj_fdr</th>\n",
       "      <th>-log10(fdr)</th>\n",
       "    </tr>\n",
       "  </thead>\n",
       "  <tbody>\n",
       "    <tr>\n",
       "      <th>0</th>\n",
       "      <td>X35</td>\n",
       "      <td>0.509173</td>\n",
       "      <td>0.174894</td>\n",
       "      <td>2.911317</td>\n",
       "      <td>0.003599</td>\n",
       "      <td>0.097655</td>\n",
       "      <td>1.010305</td>\n",
       "    </tr>\n",
       "    <tr>\n",
       "      <th>1</th>\n",
       "      <td>X41</td>\n",
       "      <td>0.003578</td>\n",
       "      <td>0.155095</td>\n",
       "      <td>0.023069</td>\n",
       "      <td>0.981595</td>\n",
       "      <td>0.990695</td>\n",
       "      <td>0.004060</td>\n",
       "    </tr>\n",
       "    <tr>\n",
       "      <th>2</th>\n",
       "      <td>X50</td>\n",
       "      <td>-0.034193</td>\n",
       "      <td>0.150446</td>\n",
       "      <td>-0.227278</td>\n",
       "      <td>0.820208</td>\n",
       "      <td>0.940351</td>\n",
       "      <td>0.026710</td>\n",
       "    </tr>\n",
       "    <tr>\n",
       "      <th>3</th>\n",
       "      <td>X55</td>\n",
       "      <td>-0.265783</td>\n",
       "      <td>0.152200</td>\n",
       "      <td>-1.746279</td>\n",
       "      <td>0.080763</td>\n",
       "      <td>0.349685</td>\n",
       "      <td>0.456323</td>\n",
       "    </tr>\n",
       "    <tr>\n",
       "      <th>4</th>\n",
       "      <td>X92</td>\n",
       "      <td>-0.142866</td>\n",
       "      <td>0.146097</td>\n",
       "      <td>-0.977882</td>\n",
       "      <td>0.328133</td>\n",
       "      <td>0.634947</td>\n",
       "      <td>0.197263</td>\n",
       "    </tr>\n",
       "    <tr>\n",
       "      <th>...</th>\n",
       "      <td>...</td>\n",
       "      <td>...</td>\n",
       "      <td>...</td>\n",
       "      <td>...</td>\n",
       "      <td>...</td>\n",
       "      <td>...</td>\n",
       "      <td>...</td>\n",
       "    </tr>\n",
       "    <tr>\n",
       "      <th>402</th>\n",
       "      <td>X999925936</td>\n",
       "      <td>-0.514127</td>\n",
       "      <td>0.158119</td>\n",
       "      <td>-3.251526</td>\n",
       "      <td>0.001148</td>\n",
       "      <td>0.074784</td>\n",
       "      <td>1.126192</td>\n",
       "    </tr>\n",
       "    <tr>\n",
       "      <th>403</th>\n",
       "      <td>X999925948</td>\n",
       "      <td>-0.296452</td>\n",
       "      <td>0.151408</td>\n",
       "      <td>-1.957960</td>\n",
       "      <td>0.050235</td>\n",
       "      <td>0.292079</td>\n",
       "      <td>0.534500</td>\n",
       "    </tr>\n",
       "    <tr>\n",
       "      <th>404</th>\n",
       "      <td>X999925957</td>\n",
       "      <td>-0.243149</td>\n",
       "      <td>0.154023</td>\n",
       "      <td>-1.578662</td>\n",
       "      <td>0.114414</td>\n",
       "      <td>0.431463</td>\n",
       "      <td>0.365057</td>\n",
       "    </tr>\n",
       "    <tr>\n",
       "      <th>405</th>\n",
       "      <td>X999925983</td>\n",
       "      <td>-0.176419</td>\n",
       "      <td>0.149551</td>\n",
       "      <td>-1.179660</td>\n",
       "      <td>0.238135</td>\n",
       "      <td>0.587125</td>\n",
       "      <td>0.231269</td>\n",
       "    </tr>\n",
       "    <tr>\n",
       "      <th>406</th>\n",
       "      <td>X999926062</td>\n",
       "      <td>-0.071886</td>\n",
       "      <td>0.148557</td>\n",
       "      <td>-0.483896</td>\n",
       "      <td>0.628460</td>\n",
       "      <td>0.835893</td>\n",
       "      <td>0.077849</td>\n",
       "    </tr>\n",
       "  </tbody>\n",
       "</table>\n",
       "<p>407 rows × 7 columns</p>\n",
       "</div>"
      ]
     },
     "execution_count": 267,
     "metadata": {},
     "output_type": "execute_result"
    }
   ],
   "execution_count": 267
  },
  {
   "metadata": {},
   "cell_type": "markdown",
   "source": [
    "#### Volcano plot\n",
    "Significance = abs(Estimate) > 0.5 and -log10(fdr) < 0.05"
   ],
   "id": "1be56f5ddfc608ce"
  },
  {
   "metadata": {
    "ExecuteTime": {
     "end_time": "2025-05-28T15:18:56.878749Z",
     "start_time": "2025-05-28T15:18:56.874706Z"
    }
   },
   "cell_type": "code",
   "source": "logreg_results['color'] = logreg_results.apply(assign_color, axis=1)",
   "id": "c931de09c07d5495",
   "outputs": [],
   "execution_count": 268
  },
  {
   "metadata": {
    "ExecuteTime": {
     "end_time": "2025-05-28T15:18:57.096881Z",
     "start_time": "2025-05-28T15:18:56.952873Z"
    }
   },
   "cell_type": "code",
   "source": [
    "plt.figure(figsize=(15, 10))\n",
    "# colours\n",
    "plt.scatter(logreg_results['Estimate'], logreg_results['-log10(fdr)'],c=logreg_results['color'])\n",
    "\n",
    "# text\n",
    "for _, row in logreg_results.iterrows():\n",
    "    if row['color'] == 'red':\n",
    "        plt.text(\n",
    "            row['Estimate'],\n",
    "            row['-log10(fdr)'],\n",
    "            row['Compound'],\n",
    "            fontsize=8,\n",
    "            ha='right' if row['Estimate'] < 0 else 'left',\n",
    "            va='bottom'\n",
    "        )\n",
    "\n",
    "# other notations\n",
    "plt.axhline(y=-np.log10(0.05), color='black', linestyle='--')\n",
    "plt.axvline(x= 0.4, color='black', linestyle='--')\n",
    "plt.axvline(x=-0.4, color='black', linestyle='--')\n",
    "plt.xlabel('Estimate')\n",
    "plt.ylabel('-log10(fdr)')\n",
    "plt.title('Metabolites - CNvsAD')\n",
    "plt.show()"
   ],
   "id": "cc1a47007c826739",
   "outputs": [
    {
     "data": {
      "text/plain": [
       "<Figure size 1500x1000 with 1 Axes>"
      ],
      "image/png": "[encoded data removed]"
     },
     "metadata": {},
     "output_type": "display_data"
    }
   ],
   "execution_count": 269
  },
  {
   "metadata": {},
   "cell_type": "markdown",
   "source": [
    "X100002154 = 100002154,Xenobiotics,Food Component/Plant,4894,NAMED,SSISHJJTAXXQAX-UHFFFAOYSA-N,S=C1NC(CC(C([O-])=O)[N+](C)(C)C)=CN1,ergothioneine,ergothioneine,58511-63-0,2297320,HMDB0003045,C05570,5351619,37459,400,156384,Pos Early,X100002154\n",
    "\n",
    "\n",
    "X100001851 = 100001851,Amino Acid,\"Glycine, Serine and Threonine Metabolism\",11,NAMED,JJIHLJJYMXLCOY-BYPYZUCNSA-N,OC[C@@H](C(O)=O)NC(C)=O,N-acetylserine,N-acetylserine,97-14-3,58744,HMDB0002931,NA,65249,37076,305,147598,Polar,X100001851\n",
    "\n",
    "\n",
    "X1084 = 1084,Amino Acid,\"Leucine, Isoleucine and Valine Metabolism\",417,NAMED,IHYJTAOFMMMOPX-LURJTMIESA-N,O=C(O)[C@@H](NC(C)=O)C(C)C,N-acetylvaline,N-acetylvaline,96-81-1,60154,HMDB0011757,NA,66789,1591,209,124807,Neg,X1084"
   ],
   "id": "c833b8bb511c74da"
  },
  {
   "metadata": {},
   "cell_type": "markdown",
   "source": "#### Differentially expressed metabolites and AUC",
   "id": "a29b1b3e29bca1e"
  },
  {
   "metadata": {
    "ExecuteTime": {
     "end_time": "2025-05-28T15:18:57.183808Z",
     "start_time": "2025-05-28T15:18:57.173620Z"
    }
   },
   "cell_type": "code",
   "source": [
    "# subset\n",
    "de_cn_ad = logreg_results[logreg_results['color'] == 'red'].drop(columns='color')\n",
    "\n",
    "auc_scores = []\n",
    "# calculate AUC\n",
    "for _, row in de_cn_ad.iterrows():\n",
    "    auc_scores.append(compute_protein_auc(row['Compound'], meta_ana_cn_ad))\n",
    "\n",
    "de_cn_ad['auc_score'] = auc_scores\n",
    "de_cn_ad['Compare'] = 'CNvsAD'\n",
    "de_cn_ad = pd.merge(de_cn_ad, meta_info, how = 'left', on='Compound')\n",
    "de_cn_ad.to_csv('Results/multi/de_metabolites_CNvsAD.csv', index=False)"
   ],
   "id": "d25c7cd9d9928c66",
   "outputs": [],
   "execution_count": 270
  },
  {
   "metadata": {},
   "cell_type": "markdown",
   "source": "### MCI vs AD",
   "id": "31ecbe9edd666721"
  },
  {
   "metadata": {},
   "cell_type": "markdown",
   "source": "#### Application",
   "id": "18f6fbb3e9c49b9a"
  },
  {
   "metadata": {
    "ExecuteTime": {
     "end_time": "2025-05-28T15:18:57.235957Z",
     "start_time": "2025-05-28T15:18:57.230661Z"
    }
   },
   "cell_type": "code",
   "source": [
    "meta_ana_mci_ad = meta_ana[meta_ana['DX.bl'].str.contains('MCI|AD', case=False, na=False)].copy()\n",
    "\n",
    "# Binarization of gender for model\n",
    "meta_ana_mci_ad['PTGENDER'] = meta_ana_mci_ad['PTGENDER'].map({'Male': 1, 'Female': 0})\n",
    "meta_ana_mci_ad['DX.bl'] = meta_ana_mci_ad['DX.bl'].map({'AD': 1, 'MCI': 0})\n",
    "\n",
    "# Define columns\n",
    "meta_cols = [col for col in meta_ana_mci_ad.columns if col.startswith('X')]"
   ],
   "id": "6ff72818fc16284a",
   "outputs": [],
   "execution_count": 271
  },
  {
   "metadata": {
    "ExecuteTime": {
     "end_time": "2025-05-28T15:18:57.768675Z",
     "start_time": "2025-05-28T15:18:57.262244Z"
    }
   },
   "cell_type": "code",
   "source": [
    "logreg_results = []\n",
    "\n",
    "for comp in meta_cols:\n",
    "    model = log_reg(comp, meta_ana_mci_ad)\n",
    "    stats = extract_protein_stats(comp, model)\n",
    "    logreg_results.append(stats)\n",
    "\n",
    "logreg_results = pd.DataFrame(logreg_results)"
   ],
   "id": "49c35a42542d9986",
   "outputs": [],
   "execution_count": 272
  },
  {
   "metadata": {
    "ExecuteTime": {
     "end_time": "2025-05-28T15:18:57.807962Z",
     "start_time": "2025-05-28T15:18:57.804694Z"
    }
   },
   "cell_type": "code",
   "source": [
    "# fdr\n",
    "rejected, pvals_corrected, _, _ = multipletests(logreg_results['p_value'], method='fdr_bh')\n",
    "logreg_results['padj_fdr'] = pvals_corrected\n",
    "\n",
    "# -log10(pval_fdr)\n",
    "logreg_results['-log10(fdr)'] = -np.log10(logreg_results['padj_fdr'])"
   ],
   "id": "d58c5b876180dc9a",
   "outputs": [],
   "execution_count": 273
  },
  {
   "metadata": {
    "ExecuteTime": {
     "end_time": "2025-05-28T15:18:57.853016Z",
     "start_time": "2025-05-28T15:18:57.847957Z"
    }
   },
   "cell_type": "code",
   "source": "logreg_results",
   "id": "1c55bc26f7c6d65c",
   "outputs": [
    {
     "data": {
      "text/plain": [
       "       Compound  Estimate    StdErr   z_score   p_value  padj_fdr  -log10(fdr)\n",
       "0           X35  0.236629  0.119092  1.986933  0.046930  0.502705     0.298687\n",
       "1           X41 -0.045029  0.114144 -0.394495  0.693215  0.895678     0.047848\n",
       "2           X50 -0.191666  0.111942 -1.712194  0.086861  0.593812     0.226351\n",
       "3           X55 -0.177964  0.115016 -1.547299  0.121791  0.593812     0.226351\n",
       "4           X92  0.029808  0.109971  0.271048  0.786354  0.917038     0.037613\n",
       "..          ...       ...       ...       ...       ...       ...          ...\n",
       "402  X999925936 -0.222260  0.113017 -1.966604  0.049229  0.502705     0.298687\n",
       "403  X999925948 -0.165630  0.114366 -1.448247  0.147548  0.608812     0.215517\n",
       "404  X999925957 -0.203900  0.109338 -1.864862  0.062201  0.538632     0.268707\n",
       "405  X999925983  0.053835  0.113219  0.475494  0.634435  0.868675     0.061143\n",
       "406  X999926062  0.124639  0.111610  1.116737  0.264107  0.739610     0.130998\n",
       "\n",
       "[407 rows x 7 columns]"
      ],
      "text/html": [
       "<div>\n",
       "<style scoped>\n",
       "    .dataframe tbody tr th:only-of-type {\n",
       "        vertical-align: middle;\n",
       "    }\n",
       "\n",
       "    .dataframe tbody tr th {\n",
       "        vertical-align: top;\n",
       "    }\n",
       "\n",
       "    .dataframe thead th {\n",
       "        text-align: right;\n",
       "    }\n",
       "</style>\n",
       "<table border=\"1\" class=\"dataframe\">\n",
       "  <thead>\n",
       "    <tr style=\"text-align: right;\">\n",
       "      <th></th>\n",
       "      <th>Compound</th>\n",
       "      <th>Estimate</th>\n",
       "      <th>StdErr</th>\n",
       "      <th>z_score</th>\n",
       "      <th>p_value</th>\n",
       "      <th>padj_fdr</th>\n",
       "      <th>-log10(fdr)</th>\n",
       "    </tr>\n",
       "  </thead>\n",
       "  <tbody>\n",
       "    <tr>\n",
       "      <th>0</th>\n",
       "      <td>X35</td>\n",
       "      <td>0.236629</td>\n",
       "      <td>0.119092</td>\n",
       "      <td>1.986933</td>\n",
       "      <td>0.046930</td>\n",
       "      <td>0.502705</td>\n",
       "      <td>0.298687</td>\n",
       "    </tr>\n",
       "    <tr>\n",
       "      <th>1</th>\n",
       "      <td>X41</td>\n",
       "      <td>-0.045029</td>\n",
       "      <td>0.114144</td>\n",
       "      <td>-0.394495</td>\n",
       "      <td>0.693215</td>\n",
       "      <td>0.895678</td>\n",
       "      <td>0.047848</td>\n",
       "    </tr>\n",
       "    <tr>\n",
       "      <th>2</th>\n",
       "      <td>X50</td>\n",
       "      <td>-0.191666</td>\n",
       "      <td>0.111942</td>\n",
       "      <td>-1.712194</td>\n",
       "      <td>0.086861</td>\n",
       "      <td>0.593812</td>\n",
       "      <td>0.226351</td>\n",
       "    </tr>\n",
       "    <tr>\n",
       "      <th>3</th>\n",
       "      <td>X55</td>\n",
       "      <td>-0.177964</td>\n",
       "      <td>0.115016</td>\n",
       "      <td>-1.547299</td>\n",
       "      <td>0.121791</td>\n",
       "      <td>0.593812</td>\n",
       "      <td>0.226351</td>\n",
       "    </tr>\n",
       "    <tr>\n",
       "      <th>4</th>\n",
       "      <td>X92</td>\n",
       "      <td>0.029808</td>\n",
       "      <td>0.109971</td>\n",
       "      <td>0.271048</td>\n",
       "      <td>0.786354</td>\n",
       "      <td>0.917038</td>\n",
       "      <td>0.037613</td>\n",
       "    </tr>\n",
       "    <tr>\n",
       "      <th>...</th>\n",
       "      <td>...</td>\n",
       "      <td>...</td>\n",
       "      <td>...</td>\n",
       "      <td>...</td>\n",
       "      <td>...</td>\n",
       "      <td>...</td>\n",
       "      <td>...</td>\n",
       "    </tr>\n",
       "    <tr>\n",
       "      <th>402</th>\n",
       "      <td>X999925936</td>\n",
       "      <td>-0.222260</td>\n",
       "      <td>0.113017</td>\n",
       "      <td>-1.966604</td>\n",
       "      <td>0.049229</td>\n",
       "      <td>0.502705</td>\n",
       "      <td>0.298687</td>\n",
       "    </tr>\n",
       "    <tr>\n",
       "      <th>403</th>\n",
       "      <td>X999925948</td>\n",
       "      <td>-0.165630</td>\n",
       "      <td>0.114366</td>\n",
       "      <td>-1.448247</td>\n",
       "      <td>0.147548</td>\n",
       "      <td>0.608812</td>\n",
       "      <td>0.215517</td>\n",
       "    </tr>\n",
       "    <tr>\n",
       "      <th>404</th>\n",
       "      <td>X999925957</td>\n",
       "      <td>-0.203900</td>\n",
       "      <td>0.109338</td>\n",
       "      <td>-1.864862</td>\n",
       "      <td>0.062201</td>\n",
       "      <td>0.538632</td>\n",
       "      <td>0.268707</td>\n",
       "    </tr>\n",
       "    <tr>\n",
       "      <th>405</th>\n",
       "      <td>X999925983</td>\n",
       "      <td>0.053835</td>\n",
       "      <td>0.113219</td>\n",
       "      <td>0.475494</td>\n",
       "      <td>0.634435</td>\n",
       "      <td>0.868675</td>\n",
       "      <td>0.061143</td>\n",
       "    </tr>\n",
       "    <tr>\n",
       "      <th>406</th>\n",
       "      <td>X999926062</td>\n",
       "      <td>0.124639</td>\n",
       "      <td>0.111610</td>\n",
       "      <td>1.116737</td>\n",
       "      <td>0.264107</td>\n",
       "      <td>0.739610</td>\n",
       "      <td>0.130998</td>\n",
       "    </tr>\n",
       "  </tbody>\n",
       "</table>\n",
       "<p>407 rows × 7 columns</p>\n",
       "</div>"
      ]
     },
     "execution_count": 274,
     "metadata": {},
     "output_type": "execute_result"
    }
   ],
   "execution_count": 274
  },
  {
   "metadata": {},
   "cell_type": "markdown",
   "source": [
    "#### Volcano plot\n",
    "Significance = abs(Estimate) > 0.5 and -log10(fdr) < 0.05"
   ],
   "id": "2e22595835368174"
  },
  {
   "metadata": {
    "ExecuteTime": {
     "end_time": "2025-05-28T15:18:57.942641Z",
     "start_time": "2025-05-28T15:18:57.937471Z"
    }
   },
   "cell_type": "code",
   "source": "logreg_results['color'] = logreg_results.apply(assign_color, axis=1)",
   "id": "b4e32ab700fda9fc",
   "outputs": [],
   "execution_count": 275
  },
  {
   "metadata": {
    "ExecuteTime": {
     "end_time": "2025-05-28T15:18:58.145446Z",
     "start_time": "2025-05-28T15:18:58.014633Z"
    }
   },
   "cell_type": "code",
   "source": [
    "plt.figure(figsize=(15, 10))\n",
    "# colours\n",
    "plt.scatter(logreg_results['Estimate'], logreg_results['-log10(fdr)'],c=logreg_results['color'])\n",
    "\n",
    "# text\n",
    "for _, row in logreg_results.iterrows():\n",
    "    if row['color'] == 'red':\n",
    "        plt.text(\n",
    "            row['Estimate'],\n",
    "            row['-log10(fdr)'],\n",
    "            row['Compound'],\n",
    "            fontsize=8,\n",
    "            ha='right' if row['Estimate'] < 0 else 'left',\n",
    "            va='bottom'\n",
    "        )\n",
    "\n",
    "# other notations\n",
    "plt.axhline(y=-np.log10(0.05), color='black', linestyle='--')\n",
    "plt.axvline(x= 0.4, color='black', linestyle='--')\n",
    "plt.axvline(x=-0.4, color='black', linestyle='--')\n",
    "plt.xlabel('Estimate')\n",
    "plt.ylabel('-log10(fdr)')\n",
    "plt.title('Metabolites - MCIvsAD')\n",
    "plt.show()"
   ],
   "id": "d44d071ef8320282",
   "outputs": [
    {
     "data": {
      "text/plain": [
       "<Figure size 1500x1000 with 1 Axes>"
      ],
      "image/png": "[encoded data removed]"
     },
     "metadata": {},
     "output_type": "display_data"
    }
   ],
   "execution_count": 276
  },
  {
   "metadata": {},
   "cell_type": "markdown",
   "source": [
    "X999912462 - 999912462,NA,NA,NA,UNNAMED,NA,NA,X-12462,X-12462,NA,NA,NA,NA,NA,46620,400,157261,Pos Early,X999912462\n",
    "\n",
    "\n",
    "X1090 - 1090,Cofactors and Vitamins,Hemoglobin and Porphyrin Metabolism,4409,NAMED,BPYKTIZUTYGOLE-KDUUSRDASA-N,CC(C(N\\1)=O)=C(C=C)C1=C/C2=C(C)C(CCC(O)=O)=C(CC3=C(CCC(O)=O)C(C)=C(/C=C4NC(C(C=C)=C/4C)=O)N3)N2,\"bilirubin (Z,Z)\",bilirubin,635-65-4,4444055,HMDB0000054,C00486,5280352,43807,402,159596,Pos Late,X1090\n",
    "\n",
    "\n",
    "X1084 -1084,Amino Acid,\"Leucine, Isoleucine and Valine Metabolism\",417,NAMED,IHYJTAOFMMMOPX-LURJTMIESA-N,O=C(O)[C@@H](NC(C)=O)C(C)C,N-acetylvaline,N-acetylvaline,96-81-1,60154,HMDB0011757,NA,66789,1591,209,124807,Neg,X1084\n",
    "\n",
    "\n",
    "X100020361 - 100020361,Amino Acid,Urea cycle; Arginine and Proline Metabolism,489,NAMED,YCCMTCQQDULIFE-UHFFFAOYSA-N,NC1CCCNC1=O,3-amino-2-piperidone,3-amino-2-piperidone,1892-22-4,4371576,HMDB0000323,NA,5200225,62853,400,220624,Pos Early,X100020361\n",
    "\n",
    "\n",
    "X100002154 - 100002154,Xenobiotics,Food Component/Plant,4894,NAMED,SSISHJJTAXXQAX-UHFFFAOYSA-N,S=C1NC(CC(C([O-])=O)[N+](C)(C)C)=CN1,ergothioneine,ergothioneine,58511-63-0,2297320,HMDB0003045,C05570,5351619,37459,400,156384,Pos Early,X100002154"
   ],
   "id": "cd3d14d21bfdf6"
  },
  {
   "metadata": {},
   "cell_type": "markdown",
   "source": "#### Differentially expressed metabolites and AUC",
   "id": "6c48968473c92719"
  },
  {
   "metadata": {
    "ExecuteTime": {
     "end_time": "2025-05-28T15:18:58.246303Z",
     "start_time": "2025-05-28T15:18:58.233781Z"
    }
   },
   "cell_type": "code",
   "source": [
    "# subset\n",
    "de_mci_ad = logreg_results[logreg_results['color'] == 'red'].drop(columns='color')\n",
    "\n",
    "auc_scores = []\n",
    "# calculate AUC\n",
    "for _, row in de_mci_ad.iterrows():\n",
    "    auc_scores.append(compute_protein_auc(row['Compound'], meta_ana_mci_ad))\n",
    "\n",
    "de_mci_ad['auc_score'] = auc_scores\n",
    "de_mci_ad['Compare'] = 'MCIvsAD'\n",
    "de_mci_ad = pd.merge(de_mci_ad, meta_info, how = 'left', on='Compound')\n",
    "de_mci_ad.to_csv('Results/multi/de_metabolites_MCIvsAD.csv', index=False)"
   ],
   "id": "d3f15b8368f1ab8c",
   "outputs": [],
   "execution_count": 277
  },
  {
   "metadata": {},
   "cell_type": "markdown",
   "source": "### CN vs MCI",
   "id": "7c8a94240709fcbd"
  },
  {
   "metadata": {},
   "cell_type": "markdown",
   "source": "#### Application",
   "id": "9fde4c68869a2545"
  },
  {
   "metadata": {
    "ExecuteTime": {
     "end_time": "2025-05-28T15:18:58.282091Z",
     "start_time": "2025-05-28T15:18:58.276498Z"
    }
   },
   "cell_type": "code",
   "source": [
    "meta_ana_cn_mci = meta_ana[meta_ana['DX.bl'].str.contains('MCI|CN', case=False, na=False)].copy()\n",
    "\n",
    "# Binarization of gender for model\n",
    "meta_ana_cn_mci['PTGENDER'] = meta_ana_cn_mci['PTGENDER'].map({'Male': 1, 'Female': 0})\n",
    "meta_ana_cn_mci['DX.bl'] = meta_ana_cn_mci['DX.bl'].map({'MCI': 1, 'CN': 0})\n",
    "\n",
    "# Define columns\n",
    "meta_cols = [col for col in meta_ana_cn_mci.columns if col.startswith('X')]"
   ],
   "id": "dfb89c759cbe575b",
   "outputs": [],
   "execution_count": 278
  },
  {
   "metadata": {
    "ExecuteTime": {
     "end_time": "2025-05-28T15:18:59.111416Z",
     "start_time": "2025-05-28T15:18:58.335066Z"
    }
   },
   "cell_type": "code",
   "source": [
    "logreg_results = []\n",
    "\n",
    "for comp in meta_cols:\n",
    "    model = log_reg(comp, meta_ana_cn_mci)\n",
    "    stats = extract_protein_stats(comp, model)\n",
    "    logreg_results.append(stats)\n",
    "\n",
    "logreg_results = pd.DataFrame(logreg_results)"
   ],
   "id": "80d344363fb55a17",
   "outputs": [],
   "execution_count": 279
  },
  {
   "metadata": {
    "ExecuteTime": {
     "end_time": "2025-05-28T15:18:59.185056Z",
     "start_time": "2025-05-28T15:18:59.180800Z"
    }
   },
   "cell_type": "code",
   "source": [
    "# fdr\n",
    "rejected, pvals_corrected, _, _ = multipletests(logreg_results['p_value'], method='fdr_bh')\n",
    "logreg_results['padj_fdr'] = pvals_corrected\n",
    "\n",
    "# -log10(pval_fdr)\n",
    "logreg_results['-log10(fdr)'] = -np.log10(logreg_results['padj_fdr'])"
   ],
   "id": "df03bb310b9c1383",
   "outputs": [],
   "execution_count": 280
  },
  {
   "metadata": {
    "ExecuteTime": {
     "end_time": "2025-05-28T15:18:59.260334Z",
     "start_time": "2025-05-28T15:18:59.249448Z"
    }
   },
   "cell_type": "code",
   "source": "logreg_results",
   "id": "c4a1f7c2c45e6f82",
   "outputs": [
    {
     "data": {
      "text/plain": [
       "       Compound  Estimate    StdErr   z_score   p_value  padj_fdr  -log10(fdr)\n",
       "0           X35  0.169007  0.111317  1.518255  0.128950  0.823766     0.084196\n",
       "1           X41  0.054474  0.104749  0.520044  0.603033  0.924984     0.033866\n",
       "2           X50  0.137978  0.106036  1.301235  0.193178  0.823766     0.084196\n",
       "3           X55 -0.040685  0.110097 -0.369543  0.711723  0.939475     0.027115\n",
       "4           X92 -0.179556  0.106289 -1.689312  0.091160  0.823766     0.084196\n",
       "..          ...       ...       ...       ...       ...       ...          ...\n",
       "402  X999925936 -0.153216  0.103793 -1.476176  0.139897  0.823766     0.084196\n",
       "403  X999925948 -0.110083  0.105986 -1.038661  0.298962  0.867719     0.061621\n",
       "404  X999925957  0.099833  0.106271  0.939422  0.347514  0.867719     0.061621\n",
       "405  X999925983 -0.176114  0.111934 -1.573381  0.115631  0.823766     0.084196\n",
       "406  X999926062 -0.137484  0.105410 -1.304283  0.192137  0.823766     0.084196\n",
       "\n",
       "[407 rows x 7 columns]"
      ],
      "text/html": [
       "<div>\n",
       "<style scoped>\n",
       "    .dataframe tbody tr th:only-of-type {\n",
       "        vertical-align: middle;\n",
       "    }\n",
       "\n",
       "    .dataframe tbody tr th {\n",
       "        vertical-align: top;\n",
       "    }\n",
       "\n",
       "    .dataframe thead th {\n",
       "        text-align: right;\n",
       "    }\n",
       "</style>\n",
       "<table border=\"1\" class=\"dataframe\">\n",
       "  <thead>\n",
       "    <tr style=\"text-align: right;\">\n",
       "      <th></th>\n",
       "      <th>Compound</th>\n",
       "      <th>Estimate</th>\n",
       "      <th>StdErr</th>\n",
       "      <th>z_score</th>\n",
       "      <th>p_value</th>\n",
       "      <th>padj_fdr</th>\n",
       "      <th>-log10(fdr)</th>\n",
       "    </tr>\n",
       "  </thead>\n",
       "  <tbody>\n",
       "    <tr>\n",
       "      <th>0</th>\n",
       "      <td>X35</td>\n",
       "      <td>0.169007</td>\n",
       "      <td>0.111317</td>\n",
       "      <td>1.518255</td>\n",
       "      <td>0.128950</td>\n",
       "      <td>0.823766</td>\n",
       "      <td>0.084196</td>\n",
       "    </tr>\n",
       "    <tr>\n",
       "      <th>1</th>\n",
       "      <td>X41</td>\n",
       "      <td>0.054474</td>\n",
       "      <td>0.104749</td>\n",
       "      <td>0.520044</td>\n",
       "      <td>0.603033</td>\n",
       "      <td>0.924984</td>\n",
       "      <td>0.033866</td>\n",
       "    </tr>\n",
       "    <tr>\n",
       "      <th>2</th>\n",
       "      <td>X50</td>\n",
       "      <td>0.137978</td>\n",
       "      <td>0.106036</td>\n",
       "      <td>1.301235</td>\n",
       "      <td>0.193178</td>\n",
       "      <td>0.823766</td>\n",
       "      <td>0.084196</td>\n",
       "    </tr>\n",
       "    <tr>\n",
       "      <th>3</th>\n",
       "      <td>X55</td>\n",
       "      <td>-0.040685</td>\n",
       "      <td>0.110097</td>\n",
       "      <td>-0.369543</td>\n",
       "      <td>0.711723</td>\n",
       "      <td>0.939475</td>\n",
       "      <td>0.027115</td>\n",
       "    </tr>\n",
       "    <tr>\n",
       "      <th>4</th>\n",
       "      <td>X92</td>\n",
       "      <td>-0.179556</td>\n",
       "      <td>0.106289</td>\n",
       "      <td>-1.689312</td>\n",
       "      <td>0.091160</td>\n",
       "      <td>0.823766</td>\n",
       "      <td>0.084196</td>\n",
       "    </tr>\n",
       "    <tr>\n",
       "      <th>...</th>\n",
       "      <td>...</td>\n",
       "      <td>...</td>\n",
       "      <td>...</td>\n",
       "      <td>...</td>\n",
       "      <td>...</td>\n",
       "      <td>...</td>\n",
       "      <td>...</td>\n",
       "    </tr>\n",
       "    <tr>\n",
       "      <th>402</th>\n",
       "      <td>X999925936</td>\n",
       "      <td>-0.153216</td>\n",
       "      <td>0.103793</td>\n",
       "      <td>-1.476176</td>\n",
       "      <td>0.139897</td>\n",
       "      <td>0.823766</td>\n",
       "      <td>0.084196</td>\n",
       "    </tr>\n",
       "    <tr>\n",
       "      <th>403</th>\n",
       "      <td>X999925948</td>\n",
       "      <td>-0.110083</td>\n",
       "      <td>0.105986</td>\n",
       "      <td>-1.038661</td>\n",
       "      <td>0.298962</td>\n",
       "      <td>0.867719</td>\n",
       "      <td>0.061621</td>\n",
       "    </tr>\n",
       "    <tr>\n",
       "      <th>404</th>\n",
       "      <td>X999925957</td>\n",
       "      <td>0.099833</td>\n",
       "      <td>0.106271</td>\n",
       "      <td>0.939422</td>\n",
       "      <td>0.347514</td>\n",
       "      <td>0.867719</td>\n",
       "      <td>0.061621</td>\n",
       "    </tr>\n",
       "    <tr>\n",
       "      <th>405</th>\n",
       "      <td>X999925983</td>\n",
       "      <td>-0.176114</td>\n",
       "      <td>0.111934</td>\n",
       "      <td>-1.573381</td>\n",
       "      <td>0.115631</td>\n",
       "      <td>0.823766</td>\n",
       "      <td>0.084196</td>\n",
       "    </tr>\n",
       "    <tr>\n",
       "      <th>406</th>\n",
       "      <td>X999926062</td>\n",
       "      <td>-0.137484</td>\n",
       "      <td>0.105410</td>\n",
       "      <td>-1.304283</td>\n",
       "      <td>0.192137</td>\n",
       "      <td>0.823766</td>\n",
       "      <td>0.084196</td>\n",
       "    </tr>\n",
       "  </tbody>\n",
       "</table>\n",
       "<p>407 rows × 7 columns</p>\n",
       "</div>"
      ]
     },
     "execution_count": 281,
     "metadata": {},
     "output_type": "execute_result"
    }
   ],
   "execution_count": 281
  },
  {
   "metadata": {},
   "cell_type": "markdown",
   "source": [
    "#### Volcano plot\n",
    "Significance = abs(Estimate) > 0.5 and -log10(fdr) < 0.05"
   ],
   "id": "46a763d7a1bfad71"
  },
  {
   "metadata": {
    "ExecuteTime": {
     "end_time": "2025-05-28T15:18:59.350761Z",
     "start_time": "2025-05-28T15:18:59.344191Z"
    }
   },
   "cell_type": "code",
   "source": "logreg_results['color'] = logreg_results.apply(assign_color, axis=1)",
   "id": "1b0d4197ca7c7de",
   "outputs": [],
   "execution_count": 282
  },
  {
   "metadata": {
    "ExecuteTime": {
     "end_time": "2025-05-28T15:18:59.547672Z",
     "start_time": "2025-05-28T15:18:59.398432Z"
    }
   },
   "cell_type": "code",
   "source": [
    "plt.figure(figsize=(15, 10))\n",
    "# colours\n",
    "plt.scatter(logreg_results['Estimate'], logreg_results['-log10(fdr)'],c=logreg_results['color'])\n",
    "\n",
    "# text\n",
    "for _, row in logreg_results.iterrows():\n",
    "    if row['color'] in ['red','blue']:\n",
    "        plt.text(\n",
    "            row['Estimate'],\n",
    "            row['-log10(fdr)'],\n",
    "            row['Compound'],\n",
    "            fontsize=8,\n",
    "            ha='right' if row['Estimate'] < 0 else 'left',\n",
    "            va='bottom'\n",
    "        )\n",
    "\n",
    "# other notations\n",
    "plt.axhline(y=-np.log10(0.05), color='black', linestyle='--')\n",
    "plt.axvline(x= 0.4, color='black', linestyle='--')\n",
    "plt.axvline(x=-0.4, color='black', linestyle='--')\n",
    "plt.xlabel('Estimate')\n",
    "plt.ylabel('-log10(fdr)')\n",
    "plt.title('Metabolites - CNvsMCI')\n",
    "plt.show()"
   ],
   "id": "14951a58d48e217c",
   "outputs": [
    {
     "data": {
      "text/plain": [
       "<Figure size 1500x1000 with 1 Axes>"
      ],
      "image/png": "[encoded data removed]"
     },
     "metadata": {},
     "output_type": "display_data"
    }
   ],
   "execution_count": 283
  },
  {
   "metadata": {},
   "cell_type": "markdown",
   "source": "#### Differentially expressed metabolites and AUC",
   "id": "90dee76b532de592"
  },
  {
   "metadata": {
    "ExecuteTime": {
     "end_time": "2025-05-28T15:18:59.643809Z",
     "start_time": "2025-05-28T15:18:59.639401Z"
    }
   },
   "cell_type": "code",
   "source": [
    "# subset\n",
    "de_cn_mci = logreg_results[logreg_results['color'] == 'red'].drop(columns='color')\n",
    "\n",
    "auc_scores = []\n",
    "# calculate AUC\n",
    "for _, row in de_cn_mci.iterrows():\n",
    "    auc_scores.append(compute_protein_auc(row['Compound'], meta_ana_cn_mci))\n",
    "\n",
    "de_cn_mci['auc_score'] = auc_scores\n",
    "de_cn_mci['Compare'] = 'CnvsMCI'\n",
    "de_cn_mci = pd.merge(de_cn_mci, meta_info, how = 'left', on='Compound')\n",
    "de_cn_mci.to_csv('Results/multi/de_metabolites_CNvsMCI.csv', index=False)"
   ],
   "id": "8480e98e5f83bd53",
   "outputs": [],
   "execution_count": 284
  }
 ],
 "metadata": {
  "kernelspec": {
   "display_name": "Python 3",
   "language": "python",
   "name": "python3"
  },
  "language_info": {
   "codemirror_mode": {
    "name": "ipython",
    "version": 2
   },
   "file_extension": ".py",
   "mimetype": "text/x-python",
   "name": "python",
   "nbconvert_exporter": "python",
   "pygments_lexer": "ipython2",
   "version": "2.7.6"
  }
 },
 "nbformat": 4,
 "nbformat_minor": 5
}
