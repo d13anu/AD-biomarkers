{
 "cells": [
  {
   "cell_type": "code",
   "id": "initial_id",
   "metadata": {
    "collapsed": true,
    "ExecuteTime": {
     "end_time": "2025-05-27T14:57:17.792410Z",
     "start_time": "2025-05-27T14:57:17.409219Z"
    }
   },
   "source": [
    "import pandas as pd\n",
    "import numpy as np\n",
    "import statsmodels.api as sm\n",
    "from sklearn.metrics import roc_auc_score\n",
    "import matplotlib.pyplot as plt\n",
    "from statsmodels.stats.multitest import multipletests\n",
    "from adjustText import adjust_text"
   ],
   "outputs": [],
   "execution_count": 1
  },
  {
   "metadata": {
    "ExecuteTime": {
     "end_time": "2025-05-27T14:57:17.918145Z",
     "start_time": "2025-05-27T14:57:17.876263Z"
    }
   },
   "cell_type": "code",
   "source": "meta_ana = pd.read_csv('SourceData/meta_exp_data.csv').set_index('RID')",
   "id": "6569d7bb69866717",
   "outputs": [],
   "execution_count": 2
  },
  {
   "metadata": {},
   "cell_type": "markdown",
   "source": "### Define functions",
   "id": "93896d7f70e7f970"
  },
  {
   "metadata": {
    "ExecuteTime": {
     "end_time": "2025-05-27T14:57:17.942686Z",
     "start_time": "2025-05-27T14:57:17.939325Z"
    }
   },
   "cell_type": "code",
   "source": [
    "# Apply log reg and return the model\n",
    "def log_reg(compound, data):\n",
    "    # Define data\n",
    "    X = data[[compound, 'AGE', 'PTGENDER', 'APOE4', 'PTEDUCAT']].copy()\n",
    "    X = sm.add_constant(X)\n",
    "    y = data['DX.bl']\n",
    "\n",
    "    try:\n",
    "        model = sm.Logit(y, X).fit(disp=0)\n",
    "        return(model)\n",
    "\n",
    "    except Exception as e:\n",
    "        print(f\"Model fitting failed for {compound}: {e}\")\n",
    "        return(None)"
   ],
   "id": "fee3159fb95d0001",
   "outputs": [],
   "execution_count": 3
  },
  {
   "metadata": {
    "ExecuteTime": {
     "end_time": "2025-05-27T14:57:17.971239Z",
     "start_time": "2025-05-27T14:57:17.968703Z"
    }
   },
   "cell_type": "code",
   "source": [
    "# Return parameters for the model\n",
    "def extract_protein_stats(compound, model):\n",
    "\n",
    "    coef = model.params[compound]\n",
    "    pval = model.pvalues[compound]\n",
    "    stderr = model.bse[compound]\n",
    "    tvalue = model.tvalues[compound]\n",
    "\n",
    "    return({'Compound': compound,\n",
    "            'Estimate': coef,\n",
    "            'StdErr': stderr,\n",
    "            'z_score': tvalue,      # zscore and t-value are same in results\n",
    "            'p_value': pval\n",
    "            })\n"
   ],
   "id": "77051dc227bc47dc",
   "outputs": [],
   "execution_count": 4
  },
  {
   "metadata": {
    "ExecuteTime": {
     "end_time": "2025-05-27T14:57:18.001673Z",
     "start_time": "2025-05-27T14:57:17.999054Z"
    }
   },
   "cell_type": "code",
   "source": [
    "# Compute AUC for the model\n",
    "def compute_protein_auc(compound, model, data):\n",
    "    # Define data\n",
    "    X = data[[compound, 'AGE', 'PTGENDER', 'APOE4', 'PTEDUCAT']]\n",
    "    X = sm.add_constant(X)\n",
    "    y = data['DX.bl']\n",
    "\n",
    "    try:\n",
    "        y_pred_prob = model.predict(X)\n",
    "        return(roc_auc_score(y, y_pred_prob))\n",
    "\n",
    "    except Exception as e:\n",
    "        print(f\"AUC calculation failed for {compound}: {e}\")\n",
    "        return(None)"
   ],
   "id": "c0207e33e5004cf5",
   "outputs": [],
   "execution_count": 5
  },
  {
   "metadata": {},
   "cell_type": "markdown",
   "source": "### CN vs AD",
   "id": "e3388499c3cbed1f"
  },
  {
   "metadata": {
    "ExecuteTime": {
     "end_time": "2025-05-27T14:57:18.025068Z",
     "start_time": "2025-05-27T14:57:18.018966Z"
    }
   },
   "cell_type": "code",
   "source": [
    "meta_ana_cn_ad = meta_ana[meta_ana['DX.bl'].str.contains('CN|AD', case=False, na=False)].copy()\n",
    "\n",
    "# Binarization of gender for model\n",
    "meta_ana_cn_ad['PTGENDER'] = meta_ana_cn_ad['PTGENDER'].map({'Male': 1, 'Female': 0})\n",
    "meta_ana_cn_ad['DX.bl'] = meta_ana_cn_ad['DX.bl'].map({'AD': 1, 'CN': 0})\n",
    "\n",
    "# Define columns\n",
    "meta_cols = [col for col in meta_ana_cn_ad.columns if col.startswith('X')]"
   ],
   "id": "7aa520f5098dd8f3",
   "outputs": [],
   "execution_count": 6
  },
  {
   "metadata": {},
   "cell_type": "markdown",
   "source": "#### Sample entry",
   "id": "30d46e2ecb41ae4e"
  },
  {
   "metadata": {
    "ExecuteTime": {
     "end_time": "2025-05-27T14:57:18.199119Z",
     "start_time": "2025-05-27T14:57:18.050055Z"
    }
   },
   "cell_type": "code",
   "source": [
    "model = log_reg('X41', meta_ana_cn_ad)\n",
    "model.summary()"
   ],
   "id": "b8700baf86ba8f12",
   "outputs": [
    {
     "data": {
      "text/plain": [
       "<class 'statsmodels.iolib.summary.Summary'>\n",
       "\"\"\"\n",
       "                           Logit Regression Results                           \n",
       "==============================================================================\n",
       "Dep. Variable:                  DX.bl   No. Observations:                  266\n",
       "Model:                          Logit   Df Residuals:                      260\n",
       "Method:                           MLE   Df Model:                            5\n",
       "Date:                Tue, 27 May 2025   Pseudo R-squ.:                  0.2162\n",
       "Time:                        10:57:18   Log-Likelihood:                -143.66\n",
       "converged:                       True   LL-Null:                       -183.29\n",
       "Covariance Type:            nonrobust   LLR p-value:                 1.199e-15\n",
       "==============================================================================\n",
       "                 coef    std err          z      P>|z|      [0.025      0.975]\n",
       "------------------------------------------------------------------------------\n",
       "const         -2.7728      1.826     -1.519      0.129      -6.352       0.806\n",
       "X41            0.0050      0.218      0.023      0.982      -0.423       0.433\n",
       "AGE            0.0455      0.021      2.210      0.027       0.005       0.086\n",
       "PTGENDER       0.2268      0.315      0.720      0.471      -0.390       0.844\n",
       "APOE4          1.8088      0.253      7.149      0.000       1.313       2.305\n",
       "PTEDUCAT      -0.1227      0.053     -2.313      0.021      -0.227      -0.019\n",
       "==============================================================================\n",
       "\"\"\""
      ],
      "text/html": [
       "<table class=\"simpletable\">\n",
       "<caption>Logit Regression Results</caption>\n",
       "<tr>\n",
       "  <th>Dep. Variable:</th>         <td>DX.bl</td>      <th>  No. Observations:  </th>  <td>   266</td>  \n",
       "</tr>\n",
       "<tr>\n",
       "  <th>Model:</th>                 <td>Logit</td>      <th>  Df Residuals:      </th>  <td>   260</td>  \n",
       "</tr>\n",
       "<tr>\n",
       "  <th>Method:</th>                 <td>MLE</td>       <th>  Df Model:          </th>  <td>     5</td>  \n",
       "</tr>\n",
       "<tr>\n",
       "  <th>Date:</th>            <td>Tue, 27 May 2025</td> <th>  Pseudo R-squ.:     </th>  <td>0.2162</td>  \n",
       "</tr>\n",
       "<tr>\n",
       "  <th>Time:</th>                <td>10:57:18</td>     <th>  Log-Likelihood:    </th> <td> -143.66</td> \n",
       "</tr>\n",
       "<tr>\n",
       "  <th>converged:</th>             <td>True</td>       <th>  LL-Null:           </th> <td> -183.29</td> \n",
       "</tr>\n",
       "<tr>\n",
       "  <th>Covariance Type:</th>     <td>nonrobust</td>    <th>  LLR p-value:       </th> <td>1.199e-15</td>\n",
       "</tr>\n",
       "</table>\n",
       "<table class=\"simpletable\">\n",
       "<tr>\n",
       "      <td></td>        <th>coef</th>     <th>std err</th>      <th>z</th>      <th>P>|z|</th>  <th>[0.025</th>    <th>0.975]</th>  \n",
       "</tr>\n",
       "<tr>\n",
       "  <th>const</th>    <td>   -2.7728</td> <td>    1.826</td> <td>   -1.519</td> <td> 0.129</td> <td>   -6.352</td> <td>    0.806</td>\n",
       "</tr>\n",
       "<tr>\n",
       "  <th>X41</th>      <td>    0.0050</td> <td>    0.218</td> <td>    0.023</td> <td> 0.982</td> <td>   -0.423</td> <td>    0.433</td>\n",
       "</tr>\n",
       "<tr>\n",
       "  <th>AGE</th>      <td>    0.0455</td> <td>    0.021</td> <td>    2.210</td> <td> 0.027</td> <td>    0.005</td> <td>    0.086</td>\n",
       "</tr>\n",
       "<tr>\n",
       "  <th>PTGENDER</th> <td>    0.2268</td> <td>    0.315</td> <td>    0.720</td> <td> 0.471</td> <td>   -0.390</td> <td>    0.844</td>\n",
       "</tr>\n",
       "<tr>\n",
       "  <th>APOE4</th>    <td>    1.8088</td> <td>    0.253</td> <td>    7.149</td> <td> 0.000</td> <td>    1.313</td> <td>    2.305</td>\n",
       "</tr>\n",
       "<tr>\n",
       "  <th>PTEDUCAT</th> <td>   -0.1227</td> <td>    0.053</td> <td>   -2.313</td> <td> 0.021</td> <td>   -0.227</td> <td>   -0.019</td>\n",
       "</tr>\n",
       "</table>"
      ],
      "text/latex": "\\begin{center}\n\\begin{tabular}{lclc}\n\\toprule\n\\textbf{Dep. Variable:}   &      DX.bl       & \\textbf{  No. Observations:  } &      266    \\\\\n\\textbf{Model:}           &      Logit       & \\textbf{  Df Residuals:      } &      260    \\\\\n\\textbf{Method:}          &       MLE        & \\textbf{  Df Model:          } &        5    \\\\\n\\textbf{Date:}            & Tue, 27 May 2025 & \\textbf{  Pseudo R-squ.:     } &   0.2162    \\\\\n\\textbf{Time:}            &     10:57:18     & \\textbf{  Log-Likelihood:    } &   -143.66   \\\\\n\\textbf{converged:}       &       True       & \\textbf{  LL-Null:           } &   -183.29   \\\\\n\\textbf{Covariance Type:} &    nonrobust     & \\textbf{  LLR p-value:       } & 1.199e-15   \\\\\n\\bottomrule\n\\end{tabular}\n\\begin{tabular}{lcccccc}\n                  & \\textbf{coef} & \\textbf{std err} & \\textbf{z} & \\textbf{P$> |$z$|$} & \\textbf{[0.025} & \\textbf{0.975]}  \\\\\n\\midrule\n\\textbf{const}    &      -2.7728  &        1.826     &    -1.519  &         0.129        &       -6.352    &        0.806     \\\\\n\\textbf{X41}      &       0.0050  &        0.218     &     0.023  &         0.982        &       -0.423    &        0.433     \\\\\n\\textbf{AGE}      &       0.0455  &        0.021     &     2.210  &         0.027        &        0.005    &        0.086     \\\\\n\\textbf{PTGENDER} &       0.2268  &        0.315     &     0.720  &         0.471        &       -0.390    &        0.844     \\\\\n\\textbf{APOE4}    &       1.8088  &        0.253     &     7.149  &         0.000        &        1.313    &        2.305     \\\\\n\\textbf{PTEDUCAT} &      -0.1227  &        0.053     &    -2.313  &         0.021        &       -0.227    &       -0.019     \\\\\n\\bottomrule\n\\end{tabular}\n%\\caption{Logit Regression Results}\n\\end{center}"
     },
     "execution_count": 7,
     "metadata": {},
     "output_type": "execute_result"
    }
   ],
   "execution_count": 7
  },
  {
   "metadata": {
    "ExecuteTime": {
     "end_time": "2025-05-27T14:57:18.233900Z",
     "start_time": "2025-05-27T14:57:18.229847Z"
    }
   },
   "cell_type": "code",
   "source": "extract_protein_stats('X41', model)",
   "id": "5b42e61d7373e9c5",
   "outputs": [
    {
     "data": {
      "text/plain": [
       "{'Compound': 'X41',\n",
       " 'Estimate': 0.005035382079103786,\n",
       " 'StdErr': 0.21827395490175716,\n",
       " 'z_score': 0.023069092605987548,\n",
       " 'p_value': 0.9815951596497237}"
      ]
     },
     "execution_count": 8,
     "metadata": {},
     "output_type": "execute_result"
    }
   ],
   "execution_count": 8
  },
  {
   "metadata": {
    "ExecuteTime": {
     "end_time": "2025-05-27T14:57:18.263710Z",
     "start_time": "2025-05-27T14:57:18.254532Z"
    }
   },
   "cell_type": "code",
   "source": "compute_protein_auc('X41',model, meta_ana_cn_ad)",
   "id": "4f18a8305862082c",
   "outputs": [
    {
     "data": {
      "text/plain": [
       "0.8014249073810202"
      ]
     },
     "execution_count": 9,
     "metadata": {},
     "output_type": "execute_result"
    }
   ],
   "execution_count": 9
  },
  {
   "metadata": {},
   "cell_type": "markdown",
   "source": "#### Application",
   "id": "df5067cdfda3071f"
  },
  {
   "metadata": {
    "ExecuteTime": {
     "end_time": "2025-05-27T14:57:19.092430Z",
     "start_time": "2025-05-27T14:57:18.301688Z"
    }
   },
   "cell_type": "code",
   "source": [
    "logreg_results = []\n",
    "\n",
    "for comp in meta_cols:\n",
    "    model = log_reg(comp, meta_ana_cn_ad)\n",
    "    stats = extract_protein_stats(comp, model)\n",
    "    logreg_results.append(stats)\n",
    "\n",
    "logreg_results = pd.DataFrame(logreg_results)"
   ],
   "id": "7a525457552458f4",
   "outputs": [],
   "execution_count": 10
  },
  {
   "metadata": {
    "ExecuteTime": {
     "end_time": "2025-05-27T14:57:19.202193Z",
     "start_time": "2025-05-27T14:57:19.179501Z"
    }
   },
   "cell_type": "code",
   "source": [
    "# fdr\n",
    "rejected, pvals_corrected, _, _ = multipletests(logreg_results['p_value'], method='fdr_bh')\n",
    "logreg_results['padj_fdr'] = pvals_corrected\n",
    "\n",
    "# -log10(pval_fdr)\n",
    "logreg_results['-log10(fdr)'] = -np.log10(logreg_results['padj_fdr'])"
   ],
   "id": "8ef1b102aabf34ca",
   "outputs": [],
   "execution_count": 11
  },
  {
   "metadata": {
    "ExecuteTime": {
     "end_time": "2025-05-27T14:57:19.273111Z",
     "start_time": "2025-05-27T14:57:19.262767Z"
    }
   },
   "cell_type": "code",
   "source": "logreg_results",
   "id": "8b7f1f420aba1ec",
   "outputs": [
    {
     "data": {
      "text/plain": [
       "       Compound  Estimate    StdErr   z_score   p_value  padj_fdr  -log10(fdr)\n",
       "0           X35  1.324896  0.455085  2.911317  0.003599  0.097895     1.009239\n",
       "1           X41  0.005035  0.218274  0.023069  0.981595  0.990695     0.004060\n",
       "2           X50 -0.078981  0.347507 -0.227278  0.820208  0.940013     0.026866\n",
       "3           X55 -0.558756  0.319970 -1.746279  0.080763  0.350544     0.455258\n",
       "4           X92 -0.117779  0.120443 -0.977882  0.328133  0.633640     0.198158\n",
       "..          ...       ...       ...       ...       ...       ...          ...\n",
       "403  X999925936 -2.482907  0.763613 -3.251526  0.001148  0.074968     1.125127\n",
       "404  X999925948 -1.130778  0.577529 -1.957960  0.050235  0.292797     0.533434\n",
       "405  X999925957 -1.011248  0.640573 -1.578662  0.114414  0.432523     0.363991\n",
       "406  X999925983 -0.399441  0.338607 -1.179660  0.238135  0.585166     0.232721\n",
       "407  X999926062 -0.038243  0.079032 -0.483896  0.628460  0.835217     0.078201\n",
       "\n",
       "[408 rows x 7 columns]"
      ],
      "text/html": [
       "<div>\n",
       "<style scoped>\n",
       "    .dataframe tbody tr th:only-of-type {\n",
       "        vertical-align: middle;\n",
       "    }\n",
       "\n",
       "    .dataframe tbody tr th {\n",
       "        vertical-align: top;\n",
       "    }\n",
       "\n",
       "    .dataframe thead th {\n",
       "        text-align: right;\n",
       "    }\n",
       "</style>\n",
       "<table border=\"1\" class=\"dataframe\">\n",
       "  <thead>\n",
       "    <tr style=\"text-align: right;\">\n",
       "      <th></th>\n",
       "      <th>Compound</th>\n",
       "      <th>Estimate</th>\n",
       "      <th>StdErr</th>\n",
       "      <th>z_score</th>\n",
       "      <th>p_value</th>\n",
       "      <th>padj_fdr</th>\n",
       "      <th>-log10(fdr)</th>\n",
       "    </tr>\n",
       "  </thead>\n",
       "  <tbody>\n",
       "    <tr>\n",
       "      <th>0</th>\n",
       "      <td>X35</td>\n",
       "      <td>1.324896</td>\n",
       "      <td>0.455085</td>\n",
       "      <td>2.911317</td>\n",
       "      <td>0.003599</td>\n",
       "      <td>0.097895</td>\n",
       "      <td>1.009239</td>\n",
       "    </tr>\n",
       "    <tr>\n",
       "      <th>1</th>\n",
       "      <td>X41</td>\n",
       "      <td>0.005035</td>\n",
       "      <td>0.218274</td>\n",
       "      <td>0.023069</td>\n",
       "      <td>0.981595</td>\n",
       "      <td>0.990695</td>\n",
       "      <td>0.004060</td>\n",
       "    </tr>\n",
       "    <tr>\n",
       "      <th>2</th>\n",
       "      <td>X50</td>\n",
       "      <td>-0.078981</td>\n",
       "      <td>0.347507</td>\n",
       "      <td>-0.227278</td>\n",
       "      <td>0.820208</td>\n",
       "      <td>0.940013</td>\n",
       "      <td>0.026866</td>\n",
       "    </tr>\n",
       "    <tr>\n",
       "      <th>3</th>\n",
       "      <td>X55</td>\n",
       "      <td>-0.558756</td>\n",
       "      <td>0.319970</td>\n",
       "      <td>-1.746279</td>\n",
       "      <td>0.080763</td>\n",
       "      <td>0.350544</td>\n",
       "      <td>0.455258</td>\n",
       "    </tr>\n",
       "    <tr>\n",
       "      <th>4</th>\n",
       "      <td>X92</td>\n",
       "      <td>-0.117779</td>\n",
       "      <td>0.120443</td>\n",
       "      <td>-0.977882</td>\n",
       "      <td>0.328133</td>\n",
       "      <td>0.633640</td>\n",
       "      <td>0.198158</td>\n",
       "    </tr>\n",
       "    <tr>\n",
       "      <th>...</th>\n",
       "      <td>...</td>\n",
       "      <td>...</td>\n",
       "      <td>...</td>\n",
       "      <td>...</td>\n",
       "      <td>...</td>\n",
       "      <td>...</td>\n",
       "      <td>...</td>\n",
       "    </tr>\n",
       "    <tr>\n",
       "      <th>403</th>\n",
       "      <td>X999925936</td>\n",
       "      <td>-2.482907</td>\n",
       "      <td>0.763613</td>\n",
       "      <td>-3.251526</td>\n",
       "      <td>0.001148</td>\n",
       "      <td>0.074968</td>\n",
       "      <td>1.125127</td>\n",
       "    </tr>\n",
       "    <tr>\n",
       "      <th>404</th>\n",
       "      <td>X999925948</td>\n",
       "      <td>-1.130778</td>\n",
       "      <td>0.577529</td>\n",
       "      <td>-1.957960</td>\n",
       "      <td>0.050235</td>\n",
       "      <td>0.292797</td>\n",
       "      <td>0.533434</td>\n",
       "    </tr>\n",
       "    <tr>\n",
       "      <th>405</th>\n",
       "      <td>X999925957</td>\n",
       "      <td>-1.011248</td>\n",
       "      <td>0.640573</td>\n",
       "      <td>-1.578662</td>\n",
       "      <td>0.114414</td>\n",
       "      <td>0.432523</td>\n",
       "      <td>0.363991</td>\n",
       "    </tr>\n",
       "    <tr>\n",
       "      <th>406</th>\n",
       "      <td>X999925983</td>\n",
       "      <td>-0.399441</td>\n",
       "      <td>0.338607</td>\n",
       "      <td>-1.179660</td>\n",
       "      <td>0.238135</td>\n",
       "      <td>0.585166</td>\n",
       "      <td>0.232721</td>\n",
       "    </tr>\n",
       "    <tr>\n",
       "      <th>407</th>\n",
       "      <td>X999926062</td>\n",
       "      <td>-0.038243</td>\n",
       "      <td>0.079032</td>\n",
       "      <td>-0.483896</td>\n",
       "      <td>0.628460</td>\n",
       "      <td>0.835217</td>\n",
       "      <td>0.078201</td>\n",
       "    </tr>\n",
       "  </tbody>\n",
       "</table>\n",
       "<p>408 rows × 7 columns</p>\n",
       "</div>"
      ]
     },
     "execution_count": 12,
     "metadata": {},
     "output_type": "execute_result"
    }
   ],
   "execution_count": 12
  },
  {
   "metadata": {},
   "cell_type": "markdown",
   "source": [
    "#### Volcano plot\n",
    "Significance = abs(Estimate) > 0.5 and -log10(fdr) < 0.05"
   ],
   "id": "1be56f5ddfc608ce"
  },
  {
   "metadata": {
    "ExecuteTime": {
     "end_time": "2025-05-27T14:57:19.316639Z",
     "start_time": "2025-05-27T14:57:19.307840Z"
    }
   },
   "cell_type": "code",
   "source": [
    "def assign_color(row):\n",
    "    abs_est = abs(row['Estimate'])\n",
    "    padj = row['padj_fdr']\n",
    "    if abs_est > 0.5 and padj < 0.05:\n",
    "        return 'red'  # significant + strong effect\n",
    "    elif abs_est > 0.5 or padj < 0.05:\n",
    "        return 'blue'  # either effect or significance\n",
    "    else:\n",
    "        return 'grey'\n",
    "\n",
    "logreg_results['color'] = logreg_results.apply(assign_color, axis=1)"
   ],
   "id": "c931de09c07d5495",
   "outputs": [],
   "execution_count": 13
  },
  {
   "metadata": {
    "ExecuteTime": {
     "end_time": "2025-05-27T14:57:19.543616Z",
     "start_time": "2025-05-27T14:57:19.421504Z"
    }
   },
   "cell_type": "code",
   "source": [
    "# colours\n",
    "plt.scatter(logreg_results['Estimate'], logreg_results['-log10(fdr)'],c=logreg_results['color'])\n",
    "\n",
    "# text\n",
    "for _, row in logreg_results.iterrows():\n",
    "    if row['color'] == 'red':\n",
    "        plt.text(\n",
    "            row['Estimate'],\n",
    "            row['-log10(fdr)'],\n",
    "            row['Compound'],\n",
    "            fontsize=8,\n",
    "            ha='right' if row['Estimate'] < 0 else 'left',\n",
    "            va='bottom'\n",
    "        )\n",
    "\n",
    "# other notations\n",
    "plt.axhline(y=-np.log10(0.05), color='black', linestyle='--')\n",
    "plt.axvline(x= 0.5, color='black', linestyle='--')\n",
    "plt.axvline(x=-0.5, color='black', linestyle='--')\n",
    "plt.xlabel('Estimate')\n",
    "plt.ylabel('-log10(fdr)')\n",
    "plt.title('Volcano Plot')\n",
    "plt.show()"
   ],
   "id": "cc1a47007c826739",
   "outputs": [
    {
     "data": {
      "text/plain": [
       "<Figure size 640x480 with 1 Axes>"
      ],
      "image/png": "[encoded data removed]"
     },
     "metadata": {},
     "output_type": "display_data"
    }
   ],
   "execution_count": 14
  },
  {
   "metadata": {},
   "cell_type": "markdown",
   "source": [
    "X100002154 = 100002154,Xenobiotics,Food Component/Plant,4894,NAMED,SSISHJJTAXXQAX-UHFFFAOYSA-N,S=C1NC(CC(C([O-])=O)[N+](C)(C)C)=CN1,ergothioneine,ergothioneine,58511-63-0,2297320,HMDB0003045,C05570,5351619,37459,400,156384,Pos Early,X100002154\n",
    "\n",
    "\n",
    "X100001851 = 100001851,Amino Acid,\"Glycine, Serine and Threonine Metabolism\",11,NAMED,JJIHLJJYMXLCOY-BYPYZUCNSA-N,OC[C@@H](C(O)=O)NC(C)=O,N-acetylserine,N-acetylserine,97-14-3,58744,HMDB0002931,NA,65249,37076,305,147598,Polar,X100001851\n",
    "\n",
    "\n",
    "X1084 = 1084,Amino Acid,\"Leucine, Isoleucine and Valine Metabolism\",417,NAMED,IHYJTAOFMMMOPX-LURJTMIESA-N,O=C(O)[C@@H](NC(C)=O)C(C)C,N-acetylvaline,N-acetylvaline,96-81-1,60154,HMDB0011757,NA,66789,1591,209,124807,Neg,X1084"
   ],
   "id": "c833b8bb511c74da"
  },
  {
   "metadata": {},
   "cell_type": "markdown",
   "source": "### MCI vs AD",
   "id": "31ecbe9edd666721"
  },
  {
   "metadata": {},
   "cell_type": "markdown",
   "source": "#### Application",
   "id": "18f6fbb3e9c49b9a"
  },
  {
   "metadata": {
    "ExecuteTime": {
     "end_time": "2025-05-27T14:58:35.739637Z",
     "start_time": "2025-05-27T14:58:35.733813Z"
    }
   },
   "cell_type": "code",
   "source": [
    "meta_ana_mci_ad = meta_ana[meta_ana['DX.bl'].str.contains('MCI|AD', case=False, na=False)].copy()\n",
    "\n",
    "# Binarization of gender for model\n",
    "meta_ana_mci_ad['PTGENDER'] = meta_ana_mci_ad['PTGENDER'].map({'Male': 1, 'Female': 0})\n",
    "meta_ana_mci_ad['DX.bl'] = meta_ana_mci_ad['DX.bl'].map({'AD': 1, 'MCI': 0})\n",
    "\n",
    "# Define columns\n",
    "meta_cols = [col for col in meta_ana_mci_ad.columns if col.startswith('X')]"
   ],
   "id": "6ff72818fc16284a",
   "outputs": [],
   "execution_count": 21
  },
  {
   "metadata": {
    "ExecuteTime": {
     "end_time": "2025-05-27T14:57:20.460301Z",
     "start_time": "2025-05-27T14:57:19.703587Z"
    }
   },
   "cell_type": "code",
   "source": [
    "logreg_results = []\n",
    "\n",
    "for comp in meta_cols:\n",
    "    model = log_reg(comp, meta_ana_mci_ad)\n",
    "    stats = extract_protein_stats(comp, model)\n",
    "    logreg_results.append(stats)\n",
    "\n",
    "logreg_results = pd.DataFrame(logreg_results)"
   ],
   "id": "49c35a42542d9986",
   "outputs": [],
   "execution_count": 16
  },
  {
   "metadata": {
    "ExecuteTime": {
     "end_time": "2025-05-27T14:57:20.501419Z",
     "start_time": "2025-05-27T14:57:20.497368Z"
    }
   },
   "cell_type": "code",
   "source": [
    "# fdr\n",
    "rejected, pvals_corrected, _, _ = multipletests(logreg_results['p_value'], method='fdr_bh')\n",
    "logreg_results['padj_fdr'] = pvals_corrected\n",
    "\n",
    "# -log10(pval_fdr)\n",
    "logreg_results['-log10(fdr)'] = -np.log10(logreg_results['padj_fdr'])"
   ],
   "id": "d58c5b876180dc9a",
   "outputs": [],
   "execution_count": 17
  },
  {
   "metadata": {
    "ExecuteTime": {
     "end_time": "2025-05-27T14:57:20.523475Z",
     "start_time": "2025-05-27T14:57:20.515734Z"
    }
   },
   "cell_type": "code",
   "source": "logreg_results",
   "id": "1c55bc26f7c6d65c",
   "outputs": [
    {
     "data": {
      "text/plain": [
       "       Compound  Estimate    StdErr   z_score   p_value  padj_fdr  -log10(fdr)\n",
       "0           X35  0.615721  0.309885  1.986933  0.046930  0.491942     0.308086\n",
       "1           X41 -0.063373  0.160642 -0.394495  0.693215  0.895038     0.048159\n",
       "2           X50 -0.442718  0.258568 -1.712194  0.086861  0.588656     0.230138\n",
       "3           X55 -0.374135  0.241799 -1.547299  0.121791  0.588656     0.230138\n",
       "4           X92  0.024573  0.090661  0.271048  0.786354  0.916664     0.037790\n",
       "..          ...       ...       ...       ...       ...       ...          ...\n",
       "403  X999925936 -1.073377  0.545802 -1.966604  0.049229  0.491942     0.308086\n",
       "404  X999925948 -0.631776  0.436235 -1.448247  0.147548  0.604324     0.218730\n",
       "405  X999925957 -0.848009  0.454730 -1.864862  0.062201  0.528707     0.276785\n",
       "406  X999925983  0.121891  0.256345  0.475494  0.634435  0.867897     0.061532\n",
       "407  X999926062  0.066308  0.059376  1.116737  0.264107  0.736850     0.132621\n",
       "\n",
       "[408 rows x 7 columns]"
      ],
      "text/html": [
       "<div>\n",
       "<style scoped>\n",
       "    .dataframe tbody tr th:only-of-type {\n",
       "        vertical-align: middle;\n",
       "    }\n",
       "\n",
       "    .dataframe tbody tr th {\n",
       "        vertical-align: top;\n",
       "    }\n",
       "\n",
       "    .dataframe thead th {\n",
       "        text-align: right;\n",
       "    }\n",
       "</style>\n",
       "<table border=\"1\" class=\"dataframe\">\n",
       "  <thead>\n",
       "    <tr style=\"text-align: right;\">\n",
       "      <th></th>\n",
       "      <th>Compound</th>\n",
       "      <th>Estimate</th>\n",
       "      <th>StdErr</th>\n",
       "      <th>z_score</th>\n",
       "      <th>p_value</th>\n",
       "      <th>padj_fdr</th>\n",
       "      <th>-log10(fdr)</th>\n",
       "    </tr>\n",
       "  </thead>\n",
       "  <tbody>\n",
       "    <tr>\n",
       "      <th>0</th>\n",
       "      <td>X35</td>\n",
       "      <td>0.615721</td>\n",
       "      <td>0.309885</td>\n",
       "      <td>1.986933</td>\n",
       "      <td>0.046930</td>\n",
       "      <td>0.491942</td>\n",
       "      <td>0.308086</td>\n",
       "    </tr>\n",
       "    <tr>\n",
       "      <th>1</th>\n",
       "      <td>X41</td>\n",
       "      <td>-0.063373</td>\n",
       "      <td>0.160642</td>\n",
       "      <td>-0.394495</td>\n",
       "      <td>0.693215</td>\n",
       "      <td>0.895038</td>\n",
       "      <td>0.048159</td>\n",
       "    </tr>\n",
       "    <tr>\n",
       "      <th>2</th>\n",
       "      <td>X50</td>\n",
       "      <td>-0.442718</td>\n",
       "      <td>0.258568</td>\n",
       "      <td>-1.712194</td>\n",
       "      <td>0.086861</td>\n",
       "      <td>0.588656</td>\n",
       "      <td>0.230138</td>\n",
       "    </tr>\n",
       "    <tr>\n",
       "      <th>3</th>\n",
       "      <td>X55</td>\n",
       "      <td>-0.374135</td>\n",
       "      <td>0.241799</td>\n",
       "      <td>-1.547299</td>\n",
       "      <td>0.121791</td>\n",
       "      <td>0.588656</td>\n",
       "      <td>0.230138</td>\n",
       "    </tr>\n",
       "    <tr>\n",
       "      <th>4</th>\n",
       "      <td>X92</td>\n",
       "      <td>0.024573</td>\n",
       "      <td>0.090661</td>\n",
       "      <td>0.271048</td>\n",
       "      <td>0.786354</td>\n",
       "      <td>0.916664</td>\n",
       "      <td>0.037790</td>\n",
       "    </tr>\n",
       "    <tr>\n",
       "      <th>...</th>\n",
       "      <td>...</td>\n",
       "      <td>...</td>\n",
       "      <td>...</td>\n",
       "      <td>...</td>\n",
       "      <td>...</td>\n",
       "      <td>...</td>\n",
       "      <td>...</td>\n",
       "    </tr>\n",
       "    <tr>\n",
       "      <th>403</th>\n",
       "      <td>X999925936</td>\n",
       "      <td>-1.073377</td>\n",
       "      <td>0.545802</td>\n",
       "      <td>-1.966604</td>\n",
       "      <td>0.049229</td>\n",
       "      <td>0.491942</td>\n",
       "      <td>0.308086</td>\n",
       "    </tr>\n",
       "    <tr>\n",
       "      <th>404</th>\n",
       "      <td>X999925948</td>\n",
       "      <td>-0.631776</td>\n",
       "      <td>0.436235</td>\n",
       "      <td>-1.448247</td>\n",
       "      <td>0.147548</td>\n",
       "      <td>0.604324</td>\n",
       "      <td>0.218730</td>\n",
       "    </tr>\n",
       "    <tr>\n",
       "      <th>405</th>\n",
       "      <td>X999925957</td>\n",
       "      <td>-0.848009</td>\n",
       "      <td>0.454730</td>\n",
       "      <td>-1.864862</td>\n",
       "      <td>0.062201</td>\n",
       "      <td>0.528707</td>\n",
       "      <td>0.276785</td>\n",
       "    </tr>\n",
       "    <tr>\n",
       "      <th>406</th>\n",
       "      <td>X999925983</td>\n",
       "      <td>0.121891</td>\n",
       "      <td>0.256345</td>\n",
       "      <td>0.475494</td>\n",
       "      <td>0.634435</td>\n",
       "      <td>0.867897</td>\n",
       "      <td>0.061532</td>\n",
       "    </tr>\n",
       "    <tr>\n",
       "      <th>407</th>\n",
       "      <td>X999926062</td>\n",
       "      <td>0.066308</td>\n",
       "      <td>0.059376</td>\n",
       "      <td>1.116737</td>\n",
       "      <td>0.264107</td>\n",
       "      <td>0.736850</td>\n",
       "      <td>0.132621</td>\n",
       "    </tr>\n",
       "  </tbody>\n",
       "</table>\n",
       "<p>408 rows × 7 columns</p>\n",
       "</div>"
      ]
     },
     "execution_count": 18,
     "metadata": {},
     "output_type": "execute_result"
    }
   ],
   "execution_count": 18
  },
  {
   "metadata": {},
   "cell_type": "markdown",
   "source": [
    "#### Volcano plot\n",
    "Significance = abs(Estimate) > 0.5 and -log10(fdr) < 0.05"
   ],
   "id": "2e22595835368174"
  },
  {
   "metadata": {
    "ExecuteTime": {
     "end_time": "2025-05-27T14:57:20.596748Z",
     "start_time": "2025-05-27T14:57:20.590780Z"
    }
   },
   "cell_type": "code",
   "source": [
    "def assign_color(row):\n",
    "    abs_est = abs(row['Estimate'])\n",
    "    padj = row['padj_fdr']\n",
    "    if abs_est > 0.5 and padj < 0.05:\n",
    "        return 'red'  # significant + strong effect\n",
    "    elif abs_est > 0.5 or padj < 0.05:\n",
    "        return 'blue'  # either effect or significance\n",
    "    else:\n",
    "        return 'grey'\n",
    "\n",
    "logreg_results['color'] = logreg_results.apply(assign_color, axis=1)"
   ],
   "id": "b4e32ab700fda9fc",
   "outputs": [],
   "execution_count": 19
  },
  {
   "metadata": {
    "ExecuteTime": {
     "end_time": "2025-05-27T14:57:20.770734Z",
     "start_time": "2025-05-27T14:57:20.655545Z"
    }
   },
   "cell_type": "code",
   "source": [
    "# colours\n",
    "plt.scatter(logreg_results['Estimate'], logreg_results['-log10(fdr)'],c=logreg_results['color'])\n",
    "\n",
    "# text\n",
    "for _, row in logreg_results.iterrows():\n",
    "    if row['color'] == 'red':\n",
    "        plt.text(\n",
    "            row['Estimate'],\n",
    "            row['-log10(fdr)'],\n",
    "            row['Compound'],\n",
    "            fontsize=8,\n",
    "            ha='right' if row['Estimate'] < 0 else 'left',\n",
    "            va='bottom'\n",
    "        )\n",
    "\n",
    "# other notations\n",
    "plt.axhline(y=-np.log10(0.05), color='black', linestyle='--')\n",
    "plt.axvline(x= 0.5, color='black', linestyle='--')\n",
    "plt.axvline(x=-0.5, color='black', linestyle='--')\n",
    "plt.xlabel('Estimate')\n",
    "plt.ylabel('-log10(fdr)')\n",
    "plt.title('Volcano Plot')\n",
    "plt.show()"
   ],
   "id": "d44d071ef8320282",
   "outputs": [
    {
     "data": {
      "text/plain": [
       "<Figure size 640x480 with 1 Axes>"
      ],
      "image/png": "[encoded data removed]"
     },
     "metadata": {},
     "output_type": "display_data"
    }
   ],
   "execution_count": 20
  },
  {
   "metadata": {},
   "cell_type": "markdown",
   "source": [
    "### MCI vs AD\n",
    "#### Application\n",
    "meta_ana_mci_ad = meta_ana[meta_ana['DX.bl'].str.contains('MCI|AD', case=False, na=False)].copy()\n",
    "\n",
    "# Binarization of gender for model\n",
    "meta_ana_mci_ad['PTGENDER'] = meta_ana_mci_ad['PTGENDER'].map({'Male': 1, 'Female': 0})\n",
    "meta_ana_mci_ad['DX.bl'] = meta_ana_mci_ad['DX.bl'].map({'AD': 1, 'MCI': 0})\n",
    "\n",
    "# Define columns\n",
    "meta_cols = [col for col in meta_ana_mci_ad.columns if col.startswith('X')]\n",
    "logreg_results = []\n",
    "\n",
    "for comp in meta_cols:\n",
    "    model = log_reg(comp, meta_ana_mci_ad)\n",
    "    stats = extract_protein_stats(comp, model)\n",
    "    logreg_results.append(stats)\n",
    "\n",
    "logreg_results = pd.DataFrame(logreg_results)\n",
    "# fdr\n",
    "rejected, pvals_corrected, _, _ = multipletests(logreg_results['p_value'], method='fdr_bh')\n",
    "logreg_results['padj_fdr'] = pvals_corrected\n",
    "\n",
    "# -log10(pval_fdr)\n",
    "logreg_results['-log10(fdr)'] = -np.log10(logreg_results['padj_fdr'])\n",
    "logreg_results\n",
    "#### Volcano plot\n",
    "Significance = abs(Estimate) > 0.5 and -log10(fdr) < 0.05\n",
    "def assign_color(row):\n",
    "    abs_est = abs(row['Estimate'])\n",
    "    padj = row['padj_fdr']\n",
    "    if abs_est > 0.5 and padj < 0.05:\n",
    "        return 'red'  # significant + strong effect\n",
    "    elif abs_est > 0.5 or padj < 0.05:\n",
    "        return 'blue'  # either effect or significance\n",
    "    else:\n",
    "        return 'grey'\n",
    "\n",
    "logreg_results['color'] = logreg_results.apply(assign_color, axis=1)\n",
    "# colours\n",
    "plt.scatter(logreg_results['Estimate'], logreg_results['-log10(fdr)'],c=logreg_results['color'])\n",
    "\n",
    "# text\n",
    "for _, row in logreg_results.iterrows():\n",
    "    if row['color'] == 'red':\n",
    "        plt.text(\n",
    "            row['Estimate'],\n",
    "            row['-log10(fdr)'],\n",
    "            row['Compound'],\n",
    "            fontsize=8,\n",
    "            ha='right' if row['Estimate'] < 0 else 'left',\n",
    "            va='bottom'\n",
    "        )\n",
    "\n",
    "# other notations\n",
    "plt.axhline(y=-np.log10(0.05), color='black', linestyle='--')\n",
    "plt.axvline(x= 0.5, color='black', linestyle='--')\n",
    "plt.axvline(x=-0.5, color='black', linestyle='--')\n",
    "plt.xlabel('Estimate')\n",
    "plt.ylabel('-log10(fdr)')\n",
    "plt.title('Volcano Plot')\n",
    "plt.show()X999912462 - 999912462,NA,NA,NA,UNNAMED,NA,NA,X-12462,X-12462,NA,NA,NA,NA,NA,46620,400,157261,Pos Early,X999912462\n",
    "\n",
    "\n",
    "X1090 - 1090,Cofactors and Vitamins,Hemoglobin and Porphyrin Metabolism,4409,NAMED,BPYKTIZUTYGOLE-KDUUSRDASA-N,CC(C(N\\1)=O)=C(C=C)C1=C/C2=C(C)C(CCC(O)=O)=C(CC3=C(CCC(O)=O)C(C)=C(/C=C4NC(C(C=C)=C/4C)=O)N3)N2,\"bilirubin (Z,Z)\",bilirubin,635-65-4,4444055,HMDB0000054,C00486,5280352,43807,402,159596,Pos Late,X1090\n",
    "\n",
    "\n",
    "X1084 -1084,Amino Acid,\"Leucine, Isoleucine and Valine Metabolism\",417,NAMED,IHYJTAOFMMMOPX-LURJTMIESA-N,O=C(O)[C@@H](NC(C)=O)C(C)C,N-acetylvaline,N-acetylvaline,96-81-1,60154,HMDB0011757,NA,66789,1591,209,124807,Neg,X1084\n",
    "\n",
    "\n",
    "X100020361 - 100020361,Amino Acid,Urea cycle; Arginine and Proline Metabolism,489,NAMED,YCCMTCQQDULIFE-UHFFFAOYSA-N,NC1CCCNC1=O,3-amino-2-piperidone,3-amino-2-piperidone,1892-22-4,4371576,HMDB0000323,NA,5200225,62853,400,220624,Pos Early,X100020361\n",
    "\n",
    "\n",
    "X100002154 - 100002154,Xenobiotics,Food Component/Plant,4894,NAMED,SSISHJJTAXXQAX-UHFFFAOYSA-N,S=C1NC(CC(C([O-])=O)[N+](C)(C)C)=CN1,ergothioneine,ergothioneine,58511-63-0,2297320,HMDB0003045,C05570,5351619,37459,400,156384,Pos Early,X100002154"
   ],
   "id": "cd3d14d21bfdf6"
  },
  {
   "metadata": {},
   "cell_type": "markdown",
   "source": "### CN vs MCI",
   "id": "7c8a94240709fcbd"
  },
  {
   "metadata": {},
   "cell_type": "markdown",
   "source": "#### Application",
   "id": "9fde4c68869a2545"
  },
  {
   "metadata": {
    "ExecuteTime": {
     "end_time": "2025-05-27T15:00:49.618586Z",
     "start_time": "2025-05-27T15:00:49.612139Z"
    }
   },
   "cell_type": "code",
   "source": [
    "meta_ana_cn_mci = meta_ana[meta_ana['DX.bl'].str.contains('MCI|CN', case=False, na=False)].copy()\n",
    "\n",
    "# Binarization of gender for model\n",
    "meta_ana_cn_mci['PTGENDER'] = meta_ana_cn_mci['PTGENDER'].map({'Male': 1, 'Female': 0})\n",
    "meta_ana_cn_mci['DX.bl'] = meta_ana_cn_mci['DX.bl'].map({'MCI': 1, 'CN': 0})\n",
    "\n",
    "# Define columns\n",
    "meta_cols = [col for col in meta_ana_cn_mci.columns if col.startswith('X')]"
   ],
   "id": "dfb89c759cbe575b",
   "outputs": [],
   "execution_count": 22
  },
  {
   "metadata": {
    "ExecuteTime": {
     "end_time": "2025-05-27T15:00:51.100696Z",
     "start_time": "2025-05-27T15:00:50.545018Z"
    }
   },
   "cell_type": "code",
   "source": [
    "logreg_results = []\n",
    "\n",
    "for comp in meta_cols:\n",
    "    model = log_reg(comp, meta_ana_cn_mci)\n",
    "    stats = extract_protein_stats(comp, model)\n",
    "    logreg_results.append(stats)\n",
    "\n",
    "logreg_results = pd.DataFrame(logreg_results)"
   ],
   "id": "80d344363fb55a17",
   "outputs": [],
   "execution_count": 23
  },
  {
   "metadata": {
    "ExecuteTime": {
     "end_time": "2025-05-27T15:00:52.465151Z",
     "start_time": "2025-05-27T15:00:52.461835Z"
    }
   },
   "cell_type": "code",
   "source": [
    "# fdr\n",
    "rejected, pvals_corrected, _, _ = multipletests(logreg_results['p_value'], method='fdr_bh')\n",
    "logreg_results['padj_fdr'] = pvals_corrected\n",
    "\n",
    "# -log10(pval_fdr)\n",
    "logreg_results['-log10(fdr)'] = -np.log10(logreg_results['padj_fdr'])"
   ],
   "id": "df03bb310b9c1383",
   "outputs": [],
   "execution_count": 24
  },
  {
   "metadata": {
    "ExecuteTime": {
     "end_time": "2025-05-27T15:00:53.261316Z",
     "start_time": "2025-05-27T15:00:53.255443Z"
    }
   },
   "cell_type": "code",
   "source": "logreg_results",
   "id": "c4a1f7c2c45e6f82",
   "outputs": [
    {
     "data": {
      "text/plain": [
       "       Compound  Estimate    StdErr   z_score   p_value  padj_fdr  -log10(fdr)\n",
       "0           X35  0.439767  0.289653  1.518255  0.128950  0.817926     0.087286\n",
       "1           X41  0.076665  0.147420  0.520044  0.603033  0.923957     0.034348\n",
       "2           X50  0.318707  0.244927  1.301235  0.193178  0.817926     0.087286\n",
       "3           X55 -0.085533  0.231456 -0.369543  0.711723  0.938755     0.027448\n",
       "4           X92 -0.148026  0.087625 -1.689312  0.091160  0.817926     0.087286\n",
       "..          ...       ...       ...       ...       ...       ...          ...\n",
       "403  X999925936 -0.739938  0.501253 -1.476176  0.139897  0.817926     0.087286\n",
       "404  X999925948 -0.419899  0.404269 -1.038661  0.298962  0.864547     0.063212\n",
       "405  X999925957  0.415201  0.441975  0.939422  0.347514  0.864547     0.063212\n",
       "406  X999925983 -0.398751  0.253436 -1.573381  0.115631  0.817926     0.087286\n",
       "407  X999926062 -0.073141  0.056078 -1.304283  0.192137  0.817926     0.087286\n",
       "\n",
       "[408 rows x 7 columns]"
      ],
      "text/html": [
       "<div>\n",
       "<style scoped>\n",
       "    .dataframe tbody tr th:only-of-type {\n",
       "        vertical-align: middle;\n",
       "    }\n",
       "\n",
       "    .dataframe tbody tr th {\n",
       "        vertical-align: top;\n",
       "    }\n",
       "\n",
       "    .dataframe thead th {\n",
       "        text-align: right;\n",
       "    }\n",
       "</style>\n",
       "<table border=\"1\" class=\"dataframe\">\n",
       "  <thead>\n",
       "    <tr style=\"text-align: right;\">\n",
       "      <th></th>\n",
       "      <th>Compound</th>\n",
       "      <th>Estimate</th>\n",
       "      <th>StdErr</th>\n",
       "      <th>z_score</th>\n",
       "      <th>p_value</th>\n",
       "      <th>padj_fdr</th>\n",
       "      <th>-log10(fdr)</th>\n",
       "    </tr>\n",
       "  </thead>\n",
       "  <tbody>\n",
       "    <tr>\n",
       "      <th>0</th>\n",
       "      <td>X35</td>\n",
       "      <td>0.439767</td>\n",
       "      <td>0.289653</td>\n",
       "      <td>1.518255</td>\n",
       "      <td>0.128950</td>\n",
       "      <td>0.817926</td>\n",
       "      <td>0.087286</td>\n",
       "    </tr>\n",
       "    <tr>\n",
       "      <th>1</th>\n",
       "      <td>X41</td>\n",
       "      <td>0.076665</td>\n",
       "      <td>0.147420</td>\n",
       "      <td>0.520044</td>\n",
       "      <td>0.603033</td>\n",
       "      <td>0.923957</td>\n",
       "      <td>0.034348</td>\n",
       "    </tr>\n",
       "    <tr>\n",
       "      <th>2</th>\n",
       "      <td>X50</td>\n",
       "      <td>0.318707</td>\n",
       "      <td>0.244927</td>\n",
       "      <td>1.301235</td>\n",
       "      <td>0.193178</td>\n",
       "      <td>0.817926</td>\n",
       "      <td>0.087286</td>\n",
       "    </tr>\n",
       "    <tr>\n",
       "      <th>3</th>\n",
       "      <td>X55</td>\n",
       "      <td>-0.085533</td>\n",
       "      <td>0.231456</td>\n",
       "      <td>-0.369543</td>\n",
       "      <td>0.711723</td>\n",
       "      <td>0.938755</td>\n",
       "      <td>0.027448</td>\n",
       "    </tr>\n",
       "    <tr>\n",
       "      <th>4</th>\n",
       "      <td>X92</td>\n",
       "      <td>-0.148026</td>\n",
       "      <td>0.087625</td>\n",
       "      <td>-1.689312</td>\n",
       "      <td>0.091160</td>\n",
       "      <td>0.817926</td>\n",
       "      <td>0.087286</td>\n",
       "    </tr>\n",
       "    <tr>\n",
       "      <th>...</th>\n",
       "      <td>...</td>\n",
       "      <td>...</td>\n",
       "      <td>...</td>\n",
       "      <td>...</td>\n",
       "      <td>...</td>\n",
       "      <td>...</td>\n",
       "      <td>...</td>\n",
       "    </tr>\n",
       "    <tr>\n",
       "      <th>403</th>\n",
       "      <td>X999925936</td>\n",
       "      <td>-0.739938</td>\n",
       "      <td>0.501253</td>\n",
       "      <td>-1.476176</td>\n",
       "      <td>0.139897</td>\n",
       "      <td>0.817926</td>\n",
       "      <td>0.087286</td>\n",
       "    </tr>\n",
       "    <tr>\n",
       "      <th>404</th>\n",
       "      <td>X999925948</td>\n",
       "      <td>-0.419899</td>\n",
       "      <td>0.404269</td>\n",
       "      <td>-1.038661</td>\n",
       "      <td>0.298962</td>\n",
       "      <td>0.864547</td>\n",
       "      <td>0.063212</td>\n",
       "    </tr>\n",
       "    <tr>\n",
       "      <th>405</th>\n",
       "      <td>X999925957</td>\n",
       "      <td>0.415201</td>\n",
       "      <td>0.441975</td>\n",
       "      <td>0.939422</td>\n",
       "      <td>0.347514</td>\n",
       "      <td>0.864547</td>\n",
       "      <td>0.063212</td>\n",
       "    </tr>\n",
       "    <tr>\n",
       "      <th>406</th>\n",
       "      <td>X999925983</td>\n",
       "      <td>-0.398751</td>\n",
       "      <td>0.253436</td>\n",
       "      <td>-1.573381</td>\n",
       "      <td>0.115631</td>\n",
       "      <td>0.817926</td>\n",
       "      <td>0.087286</td>\n",
       "    </tr>\n",
       "    <tr>\n",
       "      <th>407</th>\n",
       "      <td>X999926062</td>\n",
       "      <td>-0.073141</td>\n",
       "      <td>0.056078</td>\n",
       "      <td>-1.304283</td>\n",
       "      <td>0.192137</td>\n",
       "      <td>0.817926</td>\n",
       "      <td>0.087286</td>\n",
       "    </tr>\n",
       "  </tbody>\n",
       "</table>\n",
       "<p>408 rows × 7 columns</p>\n",
       "</div>"
      ]
     },
     "execution_count": 25,
     "metadata": {},
     "output_type": "execute_result"
    }
   ],
   "execution_count": 25
  },
  {
   "metadata": {},
   "cell_type": "markdown",
   "source": [
    "#### Volcano plot\n",
    "Significance = abs(Estimate) > 0.5 and -log10(fdr) < 0.05"
   ],
   "id": "46a763d7a1bfad71"
  },
  {
   "metadata": {
    "ExecuteTime": {
     "end_time": "2025-05-27T15:00:55.544241Z",
     "start_time": "2025-05-27T15:00:55.539184Z"
    }
   },
   "cell_type": "code",
   "source": [
    "def assign_color(row):\n",
    "    abs_est = abs(row['Estimate'])\n",
    "    padj = row['padj_fdr']\n",
    "    if abs_est > 0.5 and padj < 0.05:\n",
    "        return 'red'  # significant + strong effect\n",
    "    elif abs_est > 0.5 or padj < 0.05:\n",
    "        return 'blue'  # either effect or significance\n",
    "    else:\n",
    "        return 'grey'\n",
    "\n",
    "logreg_results['color'] = logreg_results.apply(assign_color, axis=1)"
   ],
   "id": "1b0d4197ca7c7de",
   "outputs": [],
   "execution_count": 26
  },
  {
   "metadata": {
    "ExecuteTime": {
     "end_time": "2025-05-27T15:00:57.563527Z",
     "start_time": "2025-05-27T15:00:57.475926Z"
    }
   },
   "cell_type": "code",
   "source": [
    "# colours\n",
    "plt.scatter(logreg_results['Estimate'], logreg_results['-log10(fdr)'],c=logreg_results['color'])\n",
    "\n",
    "# text\n",
    "for _, row in logreg_results.iterrows():\n",
    "    if row['color'] == 'red':\n",
    "        plt.text(\n",
    "            row['Estimate'],\n",
    "            row['-log10(fdr)'],\n",
    "            row['Compound'],\n",
    "            fontsize=8,\n",
    "            ha='right' if row['Estimate'] < 0 else 'left',\n",
    "            va='bottom'\n",
    "        )\n",
    "\n",
    "# other notations\n",
    "plt.axhline(y=-np.log10(0.05), color='black', linestyle='--')\n",
    "plt.axvline(x= 0.5, color='black', linestyle='--')\n",
    "plt.axvline(x=-0.5, color='black', linestyle='--')\n",
    "plt.xlabel('Estimate')\n",
    "plt.ylabel('-log10(fdr)')\n",
    "plt.title('Volcano Plot')\n",
    "plt.show()"
   ],
   "id": "14951a58d48e217c",
   "outputs": [
    {
     "data": {
      "text/plain": [
       "<Figure size 640x480 with 1 Axes>"
      ],
      "image/png": "[encoded data removed]"
     },
     "metadata": {},
     "output_type": "display_data"
    }
   ],
   "execution_count": 27
  }
 ],
 "metadata": {
  "kernelspec": {
   "display_name": "Python 3",
   "language": "python",
   "name": "python3"
  },
  "language_info": {
   "codemirror_mode": {
    "name": "ipython",
    "version": 2
   },
   "file_extension": ".py",
   "mimetype": "text/x-python",
   "name": "python",
   "nbconvert_exporter": "python",
   "pygments_lexer": "ipython2",
   "version": "2.7.6"
  }
 },
 "nbformat": 4,
 "nbformat_minor": 5
}
