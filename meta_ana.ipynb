{
 "cells": [
  {
   "cell_type": "code",
   "id": "initial_id",
   "metadata": {
    "collapsed": true,
    "ExecuteTime": {
     "end_time": "2025-05-26T18:27:30.938825Z",
     "start_time": "2025-05-26T18:27:30.936118Z"
    }
   },
   "source": [
    "import pandas as pd\n",
    "import numpy as np\n",
    "import statsmodels.api as sm\n",
    "from sklearn.metrics import roc_auc_score\n",
    "import matplotlib.pyplot as plt\n",
    "from statsmodels.stats.multitest import multipletests\n",
    "from adjustText import adjust_text"
   ],
   "outputs": [],
   "execution_count": 42
  },
  {
   "metadata": {
    "ExecuteTime": {
     "end_time": "2025-05-26T18:27:32.602940Z",
     "start_time": "2025-05-26T18:27:31.920127Z"
    }
   },
   "cell_type": "code",
   "source": [
    "meta_ana = pd.read_csv('SourceData/meta_exp_data.csv').set_index('RID')\n",
    "prot_ana = pd.read_csv('SourceData/prot_exp_data.csv').set_index('RID')\n",
    "prot_info = pd.read_csv('SourceData/ADNI_Analyte_protein_info.csv')[['Analytes','EntrezGeneSymbol']].rename(columns={'Analytes': 'Compound'})"
   ],
   "id": "6569d7bb69866717",
   "outputs": [],
   "execution_count": 43
  },
  {
   "metadata": {},
   "cell_type": "markdown",
   "source": "### Define functions",
   "id": "93896d7f70e7f970"
  },
  {
   "metadata": {
    "ExecuteTime": {
     "end_time": "2025-05-26T16:52:49.961952Z",
     "start_time": "2025-05-26T16:52:49.960140Z"
    }
   },
   "cell_type": "code",
   "source": [
    "# Apply log reg and return the model\n",
    "def log_reg(compound, data):\n",
    "    # Define data\n",
    "    X = data[[compound, 'AGE', 'PTGENDER', 'APOE4', 'PTEDUCAT']].copy()\n",
    "    X = sm.add_constant(X)\n",
    "    y = data['DX.bl']\n",
    "\n",
    "    try:\n",
    "        model = sm.Logit(y, X).fit(disp=0)\n",
    "        return(model)\n",
    "\n",
    "    except Exception as e:\n",
    "        print(f\"Model fitting failed for {compound}: {e}\")\n",
    "        return(None)"
   ],
   "id": "fee3159fb95d0001",
   "outputs": [],
   "execution_count": 3
  },
  {
   "metadata": {
    "ExecuteTime": {
     "end_time": "2025-05-26T16:52:49.975837Z",
     "start_time": "2025-05-26T16:52:49.973858Z"
    }
   },
   "cell_type": "code",
   "source": [
    "# Return parameters for the model\n",
    "def extract_protein_stats(compound, model):\n",
    "\n",
    "    coef = model.params[compound]\n",
    "    pval = model.pvalues[compound]\n",
    "    stderr = model.bse[compound]\n",
    "    tvalue = model.tvalues[compound]\n",
    "\n",
    "    return({'Compound': compound,\n",
    "            'Estimate': coef,\n",
    "            'StdErr': stderr,\n",
    "            'z_score': tvalue,      # zscore and t-value are same in results\n",
    "            'p_value': pval\n",
    "            })\n"
   ],
   "id": "77051dc227bc47dc",
   "outputs": [],
   "execution_count": 4
  },
  {
   "metadata": {
    "ExecuteTime": {
     "end_time": "2025-05-26T16:52:49.994146Z",
     "start_time": "2025-05-26T16:52:49.992117Z"
    }
   },
   "cell_type": "code",
   "source": [
    "# Compute AUC for the model\n",
    "def compute_protein_auc(compound, model, data):\n",
    "    # Define data\n",
    "    X = data[[compound, 'AGE', 'PTGENDER', 'APOE4', 'PTEDUCAT']]\n",
    "    X = sm.add_constant(X)\n",
    "    y = data['DX.bl']\n",
    "\n",
    "    try:\n",
    "        y_pred_prob = model.predict(X)\n",
    "        return(roc_auc_score(y, y_pred_prob))\n",
    "\n",
    "    except Exception as e:\n",
    "        print(f\"AUC calculation failed for {compound}: {e}\")\n",
    "        return(None)"
   ],
   "id": "c0207e33e5004cf5",
   "outputs": [],
   "execution_count": 5
  },
  {
   "metadata": {},
   "cell_type": "markdown",
   "source": "## Metabolomics Analysis",
   "id": "136c215d85cbe9cf"
  },
  {
   "metadata": {},
   "cell_type": "markdown",
   "source": "### CN vs AD",
   "id": "e3388499c3cbed1f"
  },
  {
   "metadata": {
    "ExecuteTime": {
     "end_time": "2025-05-26T16:52:50.013895Z",
     "start_time": "2025-05-26T16:52:50.009928Z"
    }
   },
   "cell_type": "code",
   "source": [
    "meta_ana_cn_ad = meta_ana[meta_ana['DX.bl'].str.contains('CN|AD', case=False, na=False)].copy()\n",
    "\n",
    "# Binarization of gender for model\n",
    "meta_ana_cn_ad['PTGENDER'] = meta_ana_cn_ad['PTGENDER'].map({'Male': 1, 'Female': 0})\n",
    "meta_ana_cn_ad['DX.bl'] = meta_ana_cn_ad['DX.bl'].map({'AD': 1, 'CN': 0})\n",
    "\n",
    "# Define columns\n",
    "meta_cols = [col for col in meta_ana_cn_ad.columns if col.startswith('X')]"
   ],
   "id": "7aa520f5098dd8f3",
   "outputs": [],
   "execution_count": 6
  },
  {
   "metadata": {},
   "cell_type": "markdown",
   "source": "#### Sample entry",
   "id": "30d46e2ecb41ae4e"
  },
  {
   "metadata": {},
   "cell_type": "code",
   "outputs": [
    {
     "data": {
      "text/plain": [
       "<class 'statsmodels.iolib.summary.Summary'>\n",
       "\"\"\"\n",
       "                           Logit Regression Results                           \n",
       "==============================================================================\n",
       "Dep. Variable:                  DX.bl   No. Observations:                  266\n",
       "Model:                          Logit   Df Residuals:                      260\n",
       "Method:                           MLE   Df Model:                            5\n",
       "Date:                Mon, 26 May 2025   Pseudo R-squ.:                  0.2162\n",
       "Time:                        12:52:50   Log-Likelihood:                -143.66\n",
       "converged:                       True   LL-Null:                       -183.29\n",
       "Covariance Type:            nonrobust   LLR p-value:                 1.199e-15\n",
       "==============================================================================\n",
       "                 coef    std err          z      P>|z|      [0.025      0.975]\n",
       "------------------------------------------------------------------------------\n",
       "const         -2.7728      1.826     -1.519      0.129      -6.352       0.806\n",
       "X41            0.0050      0.218      0.023      0.982      -0.423       0.433\n",
       "AGE            0.0455      0.021      2.210      0.027       0.005       0.086\n",
       "PTGENDER       0.2268      0.315      0.720      0.471      -0.390       0.844\n",
       "APOE4          1.8088      0.253      7.149      0.000       1.313       2.305\n",
       "PTEDUCAT      -0.1227      0.053     -2.313      0.021      -0.227      -0.019\n",
       "==============================================================================\n",
       "\"\"\""
      ],
      "text/html": [
       "<table class=\"simpletable\">\n",
       "<caption>Logit Regression Results</caption>\n",
       "<tr>\n",
       "  <th>Dep. Variable:</th>         <td>DX.bl</td>      <th>  No. Observations:  </th>  <td>   266</td>  \n",
       "</tr>\n",
       "<tr>\n",
       "  <th>Model:</th>                 <td>Logit</td>      <th>  Df Residuals:      </th>  <td>   260</td>  \n",
       "</tr>\n",
       "<tr>\n",
       "  <th>Method:</th>                 <td>MLE</td>       <th>  Df Model:          </th>  <td>     5</td>  \n",
       "</tr>\n",
       "<tr>\n",
       "  <th>Date:</th>            <td>Mon, 26 May 2025</td> <th>  Pseudo R-squ.:     </th>  <td>0.2162</td>  \n",
       "</tr>\n",
       "<tr>\n",
       "  <th>Time:</th>                <td>12:52:50</td>     <th>  Log-Likelihood:    </th> <td> -143.66</td> \n",
       "</tr>\n",
       "<tr>\n",
       "  <th>converged:</th>             <td>True</td>       <th>  LL-Null:           </th> <td> -183.29</td> \n",
       "</tr>\n",
       "<tr>\n",
       "  <th>Covariance Type:</th>     <td>nonrobust</td>    <th>  LLR p-value:       </th> <td>1.199e-15</td>\n",
       "</tr>\n",
       "</table>\n",
       "<table class=\"simpletable\">\n",
       "<tr>\n",
       "      <td></td>        <th>coef</th>     <th>std err</th>      <th>z</th>      <th>P>|z|</th>  <th>[0.025</th>    <th>0.975]</th>  \n",
       "</tr>\n",
       "<tr>\n",
       "  <th>const</th>    <td>   -2.7728</td> <td>    1.826</td> <td>   -1.519</td> <td> 0.129</td> <td>   -6.352</td> <td>    0.806</td>\n",
       "</tr>\n",
       "<tr>\n",
       "  <th>X41</th>      <td>    0.0050</td> <td>    0.218</td> <td>    0.023</td> <td> 0.982</td> <td>   -0.423</td> <td>    0.433</td>\n",
       "</tr>\n",
       "<tr>\n",
       "  <th>AGE</th>      <td>    0.0455</td> <td>    0.021</td> <td>    2.210</td> <td> 0.027</td> <td>    0.005</td> <td>    0.086</td>\n",
       "</tr>\n",
       "<tr>\n",
       "  <th>PTGENDER</th> <td>    0.2268</td> <td>    0.315</td> <td>    0.720</td> <td> 0.471</td> <td>   -0.390</td> <td>    0.844</td>\n",
       "</tr>\n",
       "<tr>\n",
       "  <th>APOE4</th>    <td>    1.8088</td> <td>    0.253</td> <td>    7.149</td> <td> 0.000</td> <td>    1.313</td> <td>    2.305</td>\n",
       "</tr>\n",
       "<tr>\n",
       "  <th>PTEDUCAT</th> <td>   -0.1227</td> <td>    0.053</td> <td>   -2.313</td> <td> 0.021</td> <td>   -0.227</td> <td>   -0.019</td>\n",
       "</tr>\n",
       "</table>"
      ],
      "text/latex": "\\begin{center}\n\\begin{tabular}{lclc}\n\\toprule\n\\textbf{Dep. Variable:}   &      DX.bl       & \\textbf{  No. Observations:  } &      266    \\\\\n\\textbf{Model:}           &      Logit       & \\textbf{  Df Residuals:      } &      260    \\\\\n\\textbf{Method:}          &       MLE        & \\textbf{  Df Model:          } &        5    \\\\\n\\textbf{Date:}            & Mon, 26 May 2025 & \\textbf{  Pseudo R-squ.:     } &   0.2162    \\\\\n\\textbf{Time:}            &     12:52:50     & \\textbf{  Log-Likelihood:    } &   -143.66   \\\\\n\\textbf{converged:}       &       True       & \\textbf{  LL-Null:           } &   -183.29   \\\\\n\\textbf{Covariance Type:} &    nonrobust     & \\textbf{  LLR p-value:       } & 1.199e-15   \\\\\n\\bottomrule\n\\end{tabular}\n\\begin{tabular}{lcccccc}\n                  & \\textbf{coef} & \\textbf{std err} & \\textbf{z} & \\textbf{P$> |$z$|$} & \\textbf{[0.025} & \\textbf{0.975]}  \\\\\n\\midrule\n\\textbf{const}    &      -2.7728  &        1.826     &    -1.519  &         0.129        &       -6.352    &        0.806     \\\\\n\\textbf{X41}      &       0.0050  &        0.218     &     0.023  &         0.982        &       -0.423    &        0.433     \\\\\n\\textbf{AGE}      &       0.0455  &        0.021     &     2.210  &         0.027        &        0.005    &        0.086     \\\\\n\\textbf{PTGENDER} &       0.2268  &        0.315     &     0.720  &         0.471        &       -0.390    &        0.844     \\\\\n\\textbf{APOE4}    &       1.8088  &        0.253     &     7.149  &         0.000        &        1.313    &        2.305     \\\\\n\\textbf{PTEDUCAT} &      -0.1227  &        0.053     &    -2.313  &         0.021        &       -0.227    &       -0.019     \\\\\n\\bottomrule\n\\end{tabular}\n%\\caption{Logit Regression Results}\n\\end{center}"
     },
     "execution_count": 7,
     "metadata": {},
     "output_type": "execute_result"
    }
   ],
   "execution_count": 7,
   "source": [
    "model = log_reg('X41', meta_ana_cn_ad)\n",
    "model.summary()"
   ],
   "id": "b8700baf86ba8f12"
  },
  {
   "metadata": {
    "ExecuteTime": {
     "end_time": "2025-05-26T16:52:50.185249Z",
     "start_time": "2025-05-26T16:52:50.182169Z"
    }
   },
   "cell_type": "code",
   "source": "extract_protein_stats('X41', model)",
   "id": "5b42e61d7373e9c5",
   "outputs": [
    {
     "data": {
      "text/plain": [
       "{'Compound': 'X41',\n",
       " 'Estimate': 0.005035382079103786,\n",
       " 'StdErr': 0.21827395490175716,\n",
       " 'z_score': 0.023069092605987548,\n",
       " 'p_value': 0.9815951596497237}"
      ]
     },
     "execution_count": 9,
     "metadata": {},
     "output_type": "execute_result"
    }
   ],
   "execution_count": 9
  },
  {
   "metadata": {
    "ExecuteTime": {
     "end_time": "2025-05-26T16:52:50.229504Z",
     "start_time": "2025-05-26T16:52:50.222174Z"
    }
   },
   "cell_type": "code",
   "source": "compute_protein_auc('X41',model, meta_ana_cn_ad)",
   "id": "4f18a8305862082c",
   "outputs": [
    {
     "data": {
      "text/plain": [
       "0.8014249073810202"
      ]
     },
     "execution_count": 10,
     "metadata": {},
     "output_type": "execute_result"
    }
   ],
   "execution_count": 10
  },
  {
   "metadata": {},
   "cell_type": "markdown",
   "source": "#### Application",
   "id": "df5067cdfda3071f"
  },
  {
   "metadata": {
    "ExecuteTime": {
     "end_time": "2025-05-26T16:53:44.025564Z",
     "start_time": "2025-05-26T16:53:43.513858Z"
    }
   },
   "cell_type": "code",
   "source": [
    "logreg_results = []\n",
    "\n",
    "for comp in meta_cols:\n",
    "    model = log_reg(comp, meta_ana_cn_ad)\n",
    "    stats = extract_protein_stats(comp, model)\n",
    "    logreg_results.append(stats)\n",
    "\n",
    "logreg_results = pd.DataFrame(logreg_results)"
   ],
   "id": "7a525457552458f4",
   "outputs": [],
   "execution_count": 28
  },
  {
   "metadata": {
    "ExecuteTime": {
     "end_time": "2025-05-26T16:53:44.361786Z",
     "start_time": "2025-05-26T16:53:44.358769Z"
    }
   },
   "cell_type": "code",
   "source": [
    "# fdr\n",
    "rejected, pvals_corrected, _, _ = multipletests(logreg_results['p_value'], method='fdr_bh')\n",
    "logreg_results['padj_fdr'] = pvals_corrected\n",
    "\n",
    "# -log10(pval_fdr)\n",
    "logreg_results['-log10(fdr)'] = -np.log10(logreg_results['padj_fdr'])"
   ],
   "id": "8ef1b102aabf34ca",
   "outputs": [],
   "execution_count": 29
  },
  {
   "metadata": {
    "ExecuteTime": {
     "end_time": "2025-05-26T16:53:45.383669Z",
     "start_time": "2025-05-26T16:53:45.376015Z"
    }
   },
   "cell_type": "code",
   "source": "logreg_results",
   "id": "8b7f1f420aba1ec",
   "outputs": [
    {
     "data": {
      "text/plain": [
       "       Compound  Estimate    StdErr   z_score   p_value  padj_fdr  -log10(fdr)\n",
       "0           X35  1.324896  0.455085  2.911317  0.003599  0.097895     1.009239\n",
       "1           X41  0.005035  0.218274  0.023069  0.981595  0.990695     0.004060\n",
       "2           X50 -0.078981  0.347507 -0.227278  0.820208  0.940013     0.026866\n",
       "3           X55 -0.558756  0.319970 -1.746279  0.080763  0.350544     0.455258\n",
       "4           X92 -0.117779  0.120443 -0.977882  0.328133  0.633640     0.198158\n",
       "..          ...       ...       ...       ...       ...       ...          ...\n",
       "403  X999925936 -2.482907  0.763613 -3.251526  0.001148  0.074968     1.125127\n",
       "404  X999925948 -1.130778  0.577529 -1.957960  0.050235  0.292797     0.533434\n",
       "405  X999925957 -1.011248  0.640573 -1.578662  0.114414  0.432523     0.363991\n",
       "406  X999925983 -0.399441  0.338607 -1.179660  0.238135  0.585166     0.232721\n",
       "407  X999926062 -0.038243  0.079032 -0.483896  0.628460  0.835217     0.078201\n",
       "\n",
       "[408 rows x 7 columns]"
      ],
      "text/html": [
       "<div>\n",
       "<style scoped>\n",
       "    .dataframe tbody tr th:only-of-type {\n",
       "        vertical-align: middle;\n",
       "    }\n",
       "\n",
       "    .dataframe tbody tr th {\n",
       "        vertical-align: top;\n",
       "    }\n",
       "\n",
       "    .dataframe thead th {\n",
       "        text-align: right;\n",
       "    }\n",
       "</style>\n",
       "<table border=\"1\" class=\"dataframe\">\n",
       "  <thead>\n",
       "    <tr style=\"text-align: right;\">\n",
       "      <th></th>\n",
       "      <th>Compound</th>\n",
       "      <th>Estimate</th>\n",
       "      <th>StdErr</th>\n",
       "      <th>z_score</th>\n",
       "      <th>p_value</th>\n",
       "      <th>padj_fdr</th>\n",
       "      <th>-log10(fdr)</th>\n",
       "    </tr>\n",
       "  </thead>\n",
       "  <tbody>\n",
       "    <tr>\n",
       "      <th>0</th>\n",
       "      <td>X35</td>\n",
       "      <td>1.324896</td>\n",
       "      <td>0.455085</td>\n",
       "      <td>2.911317</td>\n",
       "      <td>0.003599</td>\n",
       "      <td>0.097895</td>\n",
       "      <td>1.009239</td>\n",
       "    </tr>\n",
       "    <tr>\n",
       "      <th>1</th>\n",
       "      <td>X41</td>\n",
       "      <td>0.005035</td>\n",
       "      <td>0.218274</td>\n",
       "      <td>0.023069</td>\n",
       "      <td>0.981595</td>\n",
       "      <td>0.990695</td>\n",
       "      <td>0.004060</td>\n",
       "    </tr>\n",
       "    <tr>\n",
       "      <th>2</th>\n",
       "      <td>X50</td>\n",
       "      <td>-0.078981</td>\n",
       "      <td>0.347507</td>\n",
       "      <td>-0.227278</td>\n",
       "      <td>0.820208</td>\n",
       "      <td>0.940013</td>\n",
       "      <td>0.026866</td>\n",
       "    </tr>\n",
       "    <tr>\n",
       "      <th>3</th>\n",
       "      <td>X55</td>\n",
       "      <td>-0.558756</td>\n",
       "      <td>0.319970</td>\n",
       "      <td>-1.746279</td>\n",
       "      <td>0.080763</td>\n",
       "      <td>0.350544</td>\n",
       "      <td>0.455258</td>\n",
       "    </tr>\n",
       "    <tr>\n",
       "      <th>4</th>\n",
       "      <td>X92</td>\n",
       "      <td>-0.117779</td>\n",
       "      <td>0.120443</td>\n",
       "      <td>-0.977882</td>\n",
       "      <td>0.328133</td>\n",
       "      <td>0.633640</td>\n",
       "      <td>0.198158</td>\n",
       "    </tr>\n",
       "    <tr>\n",
       "      <th>...</th>\n",
       "      <td>...</td>\n",
       "      <td>...</td>\n",
       "      <td>...</td>\n",
       "      <td>...</td>\n",
       "      <td>...</td>\n",
       "      <td>...</td>\n",
       "      <td>...</td>\n",
       "    </tr>\n",
       "    <tr>\n",
       "      <th>403</th>\n",
       "      <td>X999925936</td>\n",
       "      <td>-2.482907</td>\n",
       "      <td>0.763613</td>\n",
       "      <td>-3.251526</td>\n",
       "      <td>0.001148</td>\n",
       "      <td>0.074968</td>\n",
       "      <td>1.125127</td>\n",
       "    </tr>\n",
       "    <tr>\n",
       "      <th>404</th>\n",
       "      <td>X999925948</td>\n",
       "      <td>-1.130778</td>\n",
       "      <td>0.577529</td>\n",
       "      <td>-1.957960</td>\n",
       "      <td>0.050235</td>\n",
       "      <td>0.292797</td>\n",
       "      <td>0.533434</td>\n",
       "    </tr>\n",
       "    <tr>\n",
       "      <th>405</th>\n",
       "      <td>X999925957</td>\n",
       "      <td>-1.011248</td>\n",
       "      <td>0.640573</td>\n",
       "      <td>-1.578662</td>\n",
       "      <td>0.114414</td>\n",
       "      <td>0.432523</td>\n",
       "      <td>0.363991</td>\n",
       "    </tr>\n",
       "    <tr>\n",
       "      <th>406</th>\n",
       "      <td>X999925983</td>\n",
       "      <td>-0.399441</td>\n",
       "      <td>0.338607</td>\n",
       "      <td>-1.179660</td>\n",
       "      <td>0.238135</td>\n",
       "      <td>0.585166</td>\n",
       "      <td>0.232721</td>\n",
       "    </tr>\n",
       "    <tr>\n",
       "      <th>407</th>\n",
       "      <td>X999926062</td>\n",
       "      <td>-0.038243</td>\n",
       "      <td>0.079032</td>\n",
       "      <td>-0.483896</td>\n",
       "      <td>0.628460</td>\n",
       "      <td>0.835217</td>\n",
       "      <td>0.078201</td>\n",
       "    </tr>\n",
       "  </tbody>\n",
       "</table>\n",
       "<p>408 rows × 7 columns</p>\n",
       "</div>"
      ]
     },
     "execution_count": 30,
     "metadata": {},
     "output_type": "execute_result"
    }
   ],
   "execution_count": 30
  },
  {
   "metadata": {},
   "cell_type": "markdown",
   "source": [
    "#### Volcano plot\n",
    "Significance = abs(Estimate) > 0.5 and -log10(fdr) < 0.05"
   ],
   "id": "1be56f5ddfc608ce"
  },
  {
   "metadata": {
    "ExecuteTime": {
     "end_time": "2025-05-26T16:54:03.231401Z",
     "start_time": "2025-05-26T16:54:03.226967Z"
    }
   },
   "cell_type": "code",
   "source": [
    "def assign_color(row):\n",
    "    abs_est = abs(row['Estimate'])\n",
    "    padj = row['padj_fdr']\n",
    "    if abs_est > 0.5 and padj < 0.05:\n",
    "        return 'red'  # significant + strong effect\n",
    "    elif abs_est > 0.5 or padj < 0.05:\n",
    "        return 'blue'  # either effect or significance\n",
    "    else:\n",
    "        return 'grey'\n",
    "\n",
    "logreg_results['color'] = logreg_results.apply(assign_color, axis=1)"
   ],
   "id": "c931de09c07d5495",
   "outputs": [],
   "execution_count": 33
  },
  {
   "metadata": {
    "ExecuteTime": {
     "end_time": "2025-05-26T16:54:05.437553Z",
     "start_time": "2025-05-26T16:54:05.356799Z"
    }
   },
   "cell_type": "code",
   "source": [
    "# colours\n",
    "plt.scatter(logreg_results['Estimate'], logreg_results['-log10(fdr)'],c=logreg_results['color'])\n",
    "\n",
    "# text\n",
    "for _, row in logreg_results.iterrows():\n",
    "    if row['color'] == 'red':\n",
    "        plt.text(\n",
    "            row['Estimate'],\n",
    "            row['-log10(fdr)'],\n",
    "            row['Compound'],\n",
    "            fontsize=8,\n",
    "            ha='right' if row['Estimate'] < 0 else 'left',\n",
    "            va='bottom'\n",
    "        )\n",
    "\n",
    "# other notations\n",
    "plt.axhline(y=-np.log10(0.05), color='black', linestyle='--')\n",
    "plt.axvline(x= 0.5, color='black', linestyle='--')\n",
    "plt.axvline(x=-0.5, color='black', linestyle='--')\n",
    "plt.xlabel('Estimate')\n",
    "plt.ylabel('-log10(fdr)')\n",
    "plt.title('Volcano Plot')\n",
    "plt.show()"
   ],
   "id": "cc1a47007c826739",
   "outputs": [
    {
     "data": {
      "text/plain": [
       "<Figure size 640x480 with 1 Axes>"
      ],
      "image/png": "[encoded data removed]"
     },
     "metadata": {},
     "output_type": "display_data"
    }
   ],
   "execution_count": 34
  },
  {
   "metadata": {},
   "cell_type": "markdown",
   "source": [
    "X100002154 = 100002154,Xenobiotics,Food Component/Plant,4894,NAMED,SSISHJJTAXXQAX-UHFFFAOYSA-N,S=C1NC(CC(C([O-])=O)[N+](C)(C)C)=CN1,ergothioneine,ergothioneine,58511-63-0,2297320,HMDB0003045,C05570,5351619,37459,400,156384,Pos Early,X100002154\n",
    "\n",
    "\n",
    "X100001851 = 100001851,Amino Acid,\"Glycine, Serine and Threonine Metabolism\",11,NAMED,JJIHLJJYMXLCOY-BYPYZUCNSA-N,OC[C@@H](C(O)=O)NC(C)=O,N-acetylserine,N-acetylserine,97-14-3,58744,HMDB0002931,NA,65249,37076,305,147598,Polar,X100001851\n",
    "\n",
    "\n",
    "X1084 = 1084,Amino Acid,\"Leucine, Isoleucine and Valine Metabolism\",417,NAMED,IHYJTAOFMMMOPX-LURJTMIESA-N,O=C(O)[C@@H](NC(C)=O)C(C)C,N-acetylvaline,N-acetylvaline,96-81-1,60154,HMDB0011757,NA,66789,1591,209,124807,Neg,X1084"
   ],
   "id": "c833b8bb511c74da"
  },
  {
   "metadata": {},
   "cell_type": "markdown",
   "source": "### MCI vs AD",
   "id": "31ecbe9edd666721"
  },
  {
   "metadata": {},
   "cell_type": "markdown",
   "source": "#### Application",
   "id": "18f6fbb3e9c49b9a"
  },
  {
   "metadata": {
    "ExecuteTime": {
     "end_time": "2025-05-26T18:27:44.373634Z",
     "start_time": "2025-05-26T18:27:44.367647Z"
    }
   },
   "cell_type": "code",
   "source": [
    "meta_ana_mci_ad = meta_ana[meta_ana['DX.bl'].str.contains('MCI|AD', case=False, na=False)].copy()\n",
    "\n",
    "# Binarization of gender for model\n",
    "meta_ana_mci_ad['PTGENDER'] = meta_ana_mci_ad['PTGENDER'].map({'Male': 1, 'Female': 0})\n",
    "meta_ana_mci_ad['DX.bl'] = meta_ana_mci_ad['DX.bl'].map({'AD': 1, 'MCI': 0})\n",
    "\n",
    "# Define columns\n",
    "meta_cols = [col for col in meta_ana_mci_ad.columns if col.startswith('X')]"
   ],
   "id": "6ff72818fc16284a",
   "outputs": [],
   "execution_count": 46
  },
  {
   "metadata": {
    "ExecuteTime": {
     "end_time": "2025-05-26T18:27:45.838944Z",
     "start_time": "2025-05-26T18:27:45.327444Z"
    }
   },
   "cell_type": "code",
   "source": [
    "logreg_results = []\n",
    "\n",
    "for comp in meta_cols:\n",
    "    model = log_reg(comp, meta_ana_mci_ad)\n",
    "    stats = extract_protein_stats(comp, model)\n",
    "    logreg_results.append(stats)\n",
    "\n",
    "logreg_results = pd.DataFrame(logreg_results)"
   ],
   "id": "49c35a42542d9986",
   "outputs": [],
   "execution_count": 47
  },
  {
   "metadata": {
    "ExecuteTime": {
     "end_time": "2025-05-26T18:27:47.349771Z",
     "start_time": "2025-05-26T18:27:47.345945Z"
    }
   },
   "cell_type": "code",
   "source": [
    "# fdr\n",
    "rejected, pvals_corrected, _, _ = multipletests(logreg_results['p_value'], method='fdr_bh')\n",
    "logreg_results['padj_fdr'] = pvals_corrected\n",
    "\n",
    "# -log10(pval_fdr)\n",
    "logreg_results['-log10(fdr)'] = -np.log10(logreg_results['padj_fdr'])"
   ],
   "id": "d58c5b876180dc9a",
   "outputs": [],
   "execution_count": 48
  },
  {
   "metadata": {
    "ExecuteTime": {
     "end_time": "2025-05-26T18:27:48.335666Z",
     "start_time": "2025-05-26T18:27:48.328664Z"
    }
   },
   "cell_type": "code",
   "source": "logreg_results",
   "id": "1c55bc26f7c6d65c",
   "outputs": [
    {
     "data": {
      "text/plain": [
       "       Compound  Estimate    StdErr   z_score   p_value  padj_fdr  -log10(fdr)\n",
       "0           X35  0.615721  0.309885  1.986933  0.046930  0.491942     0.308086\n",
       "1           X41 -0.063373  0.160642 -0.394495  0.693215  0.895038     0.048159\n",
       "2           X50 -0.442718  0.258568 -1.712194  0.086861  0.588656     0.230138\n",
       "3           X55 -0.374135  0.241799 -1.547299  0.121791  0.588656     0.230138\n",
       "4           X92  0.024573  0.090661  0.271048  0.786354  0.916664     0.037790\n",
       "..          ...       ...       ...       ...       ...       ...          ...\n",
       "403  X999925936 -1.073377  0.545802 -1.966604  0.049229  0.491942     0.308086\n",
       "404  X999925948 -0.631776  0.436235 -1.448247  0.147548  0.604324     0.218730\n",
       "405  X999925957 -0.848009  0.454730 -1.864862  0.062201  0.528707     0.276785\n",
       "406  X999925983  0.121891  0.256345  0.475494  0.634435  0.867897     0.061532\n",
       "407  X999926062  0.066308  0.059376  1.116737  0.264107  0.736850     0.132621\n",
       "\n",
       "[408 rows x 7 columns]"
      ],
      "text/html": [
       "<div>\n",
       "<style scoped>\n",
       "    .dataframe tbody tr th:only-of-type {\n",
       "        vertical-align: middle;\n",
       "    }\n",
       "\n",
       "    .dataframe tbody tr th {\n",
       "        vertical-align: top;\n",
       "    }\n",
       "\n",
       "    .dataframe thead th {\n",
       "        text-align: right;\n",
       "    }\n",
       "</style>\n",
       "<table border=\"1\" class=\"dataframe\">\n",
       "  <thead>\n",
       "    <tr style=\"text-align: right;\">\n",
       "      <th></th>\n",
       "      <th>Compound</th>\n",
       "      <th>Estimate</th>\n",
       "      <th>StdErr</th>\n",
       "      <th>z_score</th>\n",
       "      <th>p_value</th>\n",
       "      <th>padj_fdr</th>\n",
       "      <th>-log10(fdr)</th>\n",
       "    </tr>\n",
       "  </thead>\n",
       "  <tbody>\n",
       "    <tr>\n",
       "      <th>0</th>\n",
       "      <td>X35</td>\n",
       "      <td>0.615721</td>\n",
       "      <td>0.309885</td>\n",
       "      <td>1.986933</td>\n",
       "      <td>0.046930</td>\n",
       "      <td>0.491942</td>\n",
       "      <td>0.308086</td>\n",
       "    </tr>\n",
       "    <tr>\n",
       "      <th>1</th>\n",
       "      <td>X41</td>\n",
       "      <td>-0.063373</td>\n",
       "      <td>0.160642</td>\n",
       "      <td>-0.394495</td>\n",
       "      <td>0.693215</td>\n",
       "      <td>0.895038</td>\n",
       "      <td>0.048159</td>\n",
       "    </tr>\n",
       "    <tr>\n",
       "      <th>2</th>\n",
       "      <td>X50</td>\n",
       "      <td>-0.442718</td>\n",
       "      <td>0.258568</td>\n",
       "      <td>-1.712194</td>\n",
       "      <td>0.086861</td>\n",
       "      <td>0.588656</td>\n",
       "      <td>0.230138</td>\n",
       "    </tr>\n",
       "    <tr>\n",
       "      <th>3</th>\n",
       "      <td>X55</td>\n",
       "      <td>-0.374135</td>\n",
       "      <td>0.241799</td>\n",
       "      <td>-1.547299</td>\n",
       "      <td>0.121791</td>\n",
       "      <td>0.588656</td>\n",
       "      <td>0.230138</td>\n",
       "    </tr>\n",
       "    <tr>\n",
       "      <th>4</th>\n",
       "      <td>X92</td>\n",
       "      <td>0.024573</td>\n",
       "      <td>0.090661</td>\n",
       "      <td>0.271048</td>\n",
       "      <td>0.786354</td>\n",
       "      <td>0.916664</td>\n",
       "      <td>0.037790</td>\n",
       "    </tr>\n",
       "    <tr>\n",
       "      <th>...</th>\n",
       "      <td>...</td>\n",
       "      <td>...</td>\n",
       "      <td>...</td>\n",
       "      <td>...</td>\n",
       "      <td>...</td>\n",
       "      <td>...</td>\n",
       "      <td>...</td>\n",
       "    </tr>\n",
       "    <tr>\n",
       "      <th>403</th>\n",
       "      <td>X999925936</td>\n",
       "      <td>-1.073377</td>\n",
       "      <td>0.545802</td>\n",
       "      <td>-1.966604</td>\n",
       "      <td>0.049229</td>\n",
       "      <td>0.491942</td>\n",
       "      <td>0.308086</td>\n",
       "    </tr>\n",
       "    <tr>\n",
       "      <th>404</th>\n",
       "      <td>X999925948</td>\n",
       "      <td>-0.631776</td>\n",
       "      <td>0.436235</td>\n",
       "      <td>-1.448247</td>\n",
       "      <td>0.147548</td>\n",
       "      <td>0.604324</td>\n",
       "      <td>0.218730</td>\n",
       "    </tr>\n",
       "    <tr>\n",
       "      <th>405</th>\n",
       "      <td>X999925957</td>\n",
       "      <td>-0.848009</td>\n",
       "      <td>0.454730</td>\n",
       "      <td>-1.864862</td>\n",
       "      <td>0.062201</td>\n",
       "      <td>0.528707</td>\n",
       "      <td>0.276785</td>\n",
       "    </tr>\n",
       "    <tr>\n",
       "      <th>406</th>\n",
       "      <td>X999925983</td>\n",
       "      <td>0.121891</td>\n",
       "      <td>0.256345</td>\n",
       "      <td>0.475494</td>\n",
       "      <td>0.634435</td>\n",
       "      <td>0.867897</td>\n",
       "      <td>0.061532</td>\n",
       "    </tr>\n",
       "    <tr>\n",
       "      <th>407</th>\n",
       "      <td>X999926062</td>\n",
       "      <td>0.066308</td>\n",
       "      <td>0.059376</td>\n",
       "      <td>1.116737</td>\n",
       "      <td>0.264107</td>\n",
       "      <td>0.736850</td>\n",
       "      <td>0.132621</td>\n",
       "    </tr>\n",
       "  </tbody>\n",
       "</table>\n",
       "<p>408 rows × 7 columns</p>\n",
       "</div>"
      ]
     },
     "execution_count": 49,
     "metadata": {},
     "output_type": "execute_result"
    }
   ],
   "execution_count": 49
  },
  {
   "metadata": {},
   "cell_type": "markdown",
   "source": [
    "#### Volcano plot\n",
    "Significance = abs(Estimate) > 0.5 and -log10(fdr) < 0.05"
   ],
   "id": "2e22595835368174"
  },
  {
   "metadata": {
    "ExecuteTime": {
     "end_time": "2025-05-26T18:27:53.105889Z",
     "start_time": "2025-05-26T18:27:53.099875Z"
    }
   },
   "cell_type": "code",
   "source": [
    "def assign_color(row):\n",
    "    abs_est = abs(row['Estimate'])\n",
    "    padj = row['padj_fdr']\n",
    "    if abs_est > 0.5 and padj < 0.05:\n",
    "        return 'red'  # significant + strong effect\n",
    "    elif abs_est > 0.5 or padj < 0.05:\n",
    "        return 'blue'  # either effect or significance\n",
    "    else:\n",
    "        return 'grey'\n",
    "\n",
    "logreg_results['color'] = logreg_results.apply(assign_color, axis=1)"
   ],
   "id": "b4e32ab700fda9fc",
   "outputs": [],
   "execution_count": 50
  },
  {
   "metadata": {
    "ExecuteTime": {
     "end_time": "2025-05-26T18:27:54.759203Z",
     "start_time": "2025-05-26T18:27:54.673456Z"
    }
   },
   "cell_type": "code",
   "source": [
    "# colours\n",
    "plt.scatter(logreg_results['Estimate'], logreg_results['-log10(fdr)'],c=logreg_results['color'])\n",
    "\n",
    "# text\n",
    "for _, row in logreg_results.iterrows():\n",
    "    if row['color'] == 'red':\n",
    "        plt.text(\n",
    "            row['Estimate'],\n",
    "            row['-log10(fdr)'],\n",
    "            row['Compound'],\n",
    "            fontsize=8,\n",
    "            ha='right' if row['Estimate'] < 0 else 'left',\n",
    "            va='bottom'\n",
    "        )\n",
    "\n",
    "# other notations\n",
    "plt.axhline(y=-np.log10(0.05), color='black', linestyle='--')\n",
    "plt.axvline(x= 0.5, color='black', linestyle='--')\n",
    "plt.axvline(x=-0.5, color='black', linestyle='--')\n",
    "plt.xlabel('Estimate')\n",
    "plt.ylabel('-log10(fdr)')\n",
    "plt.title('Volcano Plot')\n",
    "plt.show()"
   ],
   "id": "d44d071ef8320282",
   "outputs": [
    {
     "data": {
      "text/plain": [
       "<Figure size 640x480 with 1 Axes>"
      ],
      "image/png": "[encoded data removed]"
     },
     "metadata": {},
     "output_type": "display_data"
    }
   ],
   "execution_count": 51
  },
  {
   "metadata": {},
   "cell_type": "markdown",
   "source": [
    "X999912462 - 999912462,NA,NA,NA,UNNAMED,NA,NA,X-12462,X-12462,NA,NA,NA,NA,NA,46620,400,157261,Pos Early,X999912462\n",
    "\n",
    "\n",
    "X1090 - 1090,Cofactors and Vitamins,Hemoglobin and Porphyrin Metabolism,4409,NAMED,BPYKTIZUTYGOLE-KDUUSRDASA-N,CC(C(N\\1)=O)=C(C=C)C1=C/C2=C(C)C(CCC(O)=O)=C(CC3=C(CCC(O)=O)C(C)=C(/C=C4NC(C(C=C)=C/4C)=O)N3)N2,\"bilirubin (Z,Z)\",bilirubin,635-65-4,4444055,HMDB0000054,C00486,5280352,43807,402,159596,Pos Late,X1090\n",
    "\n",
    "\n",
    "X1084 -1084,Amino Acid,\"Leucine, Isoleucine and Valine Metabolism\",417,NAMED,IHYJTAOFMMMOPX-LURJTMIESA-N,O=C(O)[C@@H](NC(C)=O)C(C)C,N-acetylvaline,N-acetylvaline,96-81-1,60154,HMDB0011757,NA,66789,1591,209,124807,Neg,X1084\n",
    "\n",
    "\n",
    "X100020361 - 100020361,Amino Acid,Urea cycle; Arginine and Proline Metabolism,489,NAMED,YCCMTCQQDULIFE-UHFFFAOYSA-N,NC1CCCNC1=O,3-amino-2-piperidone,3-amino-2-piperidone,1892-22-4,4371576,HMDB0000323,NA,5200225,62853,400,220624,Pos Early,X100020361\n",
    "\n",
    "\n",
    "X100002154 - 100002154,Xenobiotics,Food Component/Plant,4894,NAMED,SSISHJJTAXXQAX-UHFFFAOYSA-N,S=C1NC(CC(C([O-])=O)[N+](C)(C)C)=CN1,ergothioneine,ergothioneine,58511-63-0,2297320,HMDB0003045,C05570,5351619,37459,400,156384,Pos Early,X100002154"
   ],
   "id": "cd3d14d21bfdf6"
  },
  {
   "metadata": {},
   "cell_type": "markdown",
   "source": "## Proteomics Analysis",
   "id": "3598179b15bd3780"
  },
  {
   "metadata": {},
   "cell_type": "markdown",
   "source": "### Proteins CN vs AD",
   "id": "ac5a20aad823f81"
  },
  {
   "metadata": {
    "ExecuteTime": {
     "end_time": "2025-05-26T16:52:51.311973Z",
     "start_time": "2025-05-26T16:52:51.294014Z"
    }
   },
   "cell_type": "code",
   "source": [
    "# Filter to CN and AD\n",
    "prot_ana_cn_ad = prot_ana[prot_ana['DX.bl'].str.contains('CN|AD', case=False, na=False)].copy()  # <-- important!\n",
    "\n",
    "# Binarization\n",
    "prot_ana_cn_ad['PTGENDER'] = prot_ana_cn_ad['PTGENDER'].map({'Male': 1, 'Female': 0})\n",
    "prot_ana_cn_ad['DX.bl'] = prot_ana_cn_ad['DX.bl'].map({'AD': 1, 'CN': 0})\n",
    "\n",
    "# Define protein columns\n",
    "prot_cols = [col for col in prot_ana_cn_ad.columns if col.startswith('X')]"
   ],
   "id": "35fb50320af5e54d",
   "outputs": [],
   "execution_count": 16
  },
  {
   "metadata": {},
   "cell_type": "markdown",
   "source": "#### Sample",
   "id": "551e85fdb7b97a72"
  },
  {
   "metadata": {
    "ExecuteTime": {
     "end_time": "2025-05-26T16:52:51.352398Z",
     "start_time": "2025-05-26T16:52:51.346607Z"
    }
   },
   "cell_type": "code",
   "source": "prot_ana_cn_ad[['AGE', 'PTGENDER','DX.bl', 'X4179.57', 'PTEDUCAT', 'APOE4']]",
   "id": "ae032cf6a3172890",
   "outputs": [
    {
     "data": {
      "text/plain": [
       "       AGE  PTGENDER  DX.bl  X4179.57  PTEDUCAT  APOE4\n",
       "RID                                                   \n",
       "4488  72.6         1      0 -1.119295      18.0    0.0\n",
       "4516  71.4         1      0 -1.288589      20.0    0.0\n",
       "4464  70.4         1      0 -0.266295      16.0    1.0\n",
       "4376  76.5         0      0 -0.400652      16.0    0.0\n",
       "4900  59.8         0      0 -1.584072      18.0    0.0\n",
       "...    ...       ...    ...       ...       ...    ...\n",
       "459   72.9         1      0  0.266462      16.0    0.0\n",
       "321   68.3         1      1  1.099447      18.0    2.0\n",
       "866   80.0         0      0 -1.210787      13.0    0.0\n",
       "886   71.3         0      0 -1.826495      15.0    0.0\n",
       "1161  79.8         1      1  1.508239      16.0    0.0\n",
       "\n",
       "[305 rows x 6 columns]"
      ],
      "text/html": [
       "<div>\n",
       "<style scoped>\n",
       "    .dataframe tbody tr th:only-of-type {\n",
       "        vertical-align: middle;\n",
       "    }\n",
       "\n",
       "    .dataframe tbody tr th {\n",
       "        vertical-align: top;\n",
       "    }\n",
       "\n",
       "    .dataframe thead th {\n",
       "        text-align: right;\n",
       "    }\n",
       "</style>\n",
       "<table border=\"1\" class=\"dataframe\">\n",
       "  <thead>\n",
       "    <tr style=\"text-align: right;\">\n",
       "      <th></th>\n",
       "      <th>AGE</th>\n",
       "      <th>PTGENDER</th>\n",
       "      <th>DX.bl</th>\n",
       "      <th>X4179.57</th>\n",
       "      <th>PTEDUCAT</th>\n",
       "      <th>APOE4</th>\n",
       "    </tr>\n",
       "    <tr>\n",
       "      <th>RID</th>\n",
       "      <th></th>\n",
       "      <th></th>\n",
       "      <th></th>\n",
       "      <th></th>\n",
       "      <th></th>\n",
       "      <th></th>\n",
       "    </tr>\n",
       "  </thead>\n",
       "  <tbody>\n",
       "    <tr>\n",
       "      <th>4488</th>\n",
       "      <td>72.6</td>\n",
       "      <td>1</td>\n",
       "      <td>0</td>\n",
       "      <td>-1.119295</td>\n",
       "      <td>18.0</td>\n",
       "      <td>0.0</td>\n",
       "    </tr>\n",
       "    <tr>\n",
       "      <th>4516</th>\n",
       "      <td>71.4</td>\n",
       "      <td>1</td>\n",
       "      <td>0</td>\n",
       "      <td>-1.288589</td>\n",
       "      <td>20.0</td>\n",
       "      <td>0.0</td>\n",
       "    </tr>\n",
       "    <tr>\n",
       "      <th>4464</th>\n",
       "      <td>70.4</td>\n",
       "      <td>1</td>\n",
       "      <td>0</td>\n",
       "      <td>-0.266295</td>\n",
       "      <td>16.0</td>\n",
       "      <td>1.0</td>\n",
       "    </tr>\n",
       "    <tr>\n",
       "      <th>4376</th>\n",
       "      <td>76.5</td>\n",
       "      <td>0</td>\n",
       "      <td>0</td>\n",
       "      <td>-0.400652</td>\n",
       "      <td>16.0</td>\n",
       "      <td>0.0</td>\n",
       "    </tr>\n",
       "    <tr>\n",
       "      <th>4900</th>\n",
       "      <td>59.8</td>\n",
       "      <td>0</td>\n",
       "      <td>0</td>\n",
       "      <td>-1.584072</td>\n",
       "      <td>18.0</td>\n",
       "      <td>0.0</td>\n",
       "    </tr>\n",
       "    <tr>\n",
       "      <th>...</th>\n",
       "      <td>...</td>\n",
       "      <td>...</td>\n",
       "      <td>...</td>\n",
       "      <td>...</td>\n",
       "      <td>...</td>\n",
       "      <td>...</td>\n",
       "    </tr>\n",
       "    <tr>\n",
       "      <th>459</th>\n",
       "      <td>72.9</td>\n",
       "      <td>1</td>\n",
       "      <td>0</td>\n",
       "      <td>0.266462</td>\n",
       "      <td>16.0</td>\n",
       "      <td>0.0</td>\n",
       "    </tr>\n",
       "    <tr>\n",
       "      <th>321</th>\n",
       "      <td>68.3</td>\n",
       "      <td>1</td>\n",
       "      <td>1</td>\n",
       "      <td>1.099447</td>\n",
       "      <td>18.0</td>\n",
       "      <td>2.0</td>\n",
       "    </tr>\n",
       "    <tr>\n",
       "      <th>866</th>\n",
       "      <td>80.0</td>\n",
       "      <td>0</td>\n",
       "      <td>0</td>\n",
       "      <td>-1.210787</td>\n",
       "      <td>13.0</td>\n",
       "      <td>0.0</td>\n",
       "    </tr>\n",
       "    <tr>\n",
       "      <th>886</th>\n",
       "      <td>71.3</td>\n",
       "      <td>0</td>\n",
       "      <td>0</td>\n",
       "      <td>-1.826495</td>\n",
       "      <td>15.0</td>\n",
       "      <td>0.0</td>\n",
       "    </tr>\n",
       "    <tr>\n",
       "      <th>1161</th>\n",
       "      <td>79.8</td>\n",
       "      <td>1</td>\n",
       "      <td>1</td>\n",
       "      <td>1.508239</td>\n",
       "      <td>16.0</td>\n",
       "      <td>0.0</td>\n",
       "    </tr>\n",
       "  </tbody>\n",
       "</table>\n",
       "<p>305 rows × 6 columns</p>\n",
       "</div>"
      ]
     },
     "execution_count": 17,
     "metadata": {},
     "output_type": "execute_result"
    }
   ],
   "execution_count": 17
  },
  {
   "metadata": {
    "ExecuteTime": {
     "end_time": "2025-05-26T16:52:51.386067Z",
     "start_time": "2025-05-26T16:52:51.380870Z"
    }
   },
   "cell_type": "code",
   "source": "model = log_reg('X4179.57', prot_ana_cn_ad)",
   "id": "443ebddaa73beab7",
   "outputs": [],
   "execution_count": 18
  },
  {
   "metadata": {
    "ExecuteTime": {
     "end_time": "2025-05-26T16:52:51.436442Z",
     "start_time": "2025-05-26T16:52:51.430400Z"
    }
   },
   "cell_type": "code",
   "source": "extract_protein_stats('X4179.57', model)",
   "id": "425537d16f9e8ff6",
   "outputs": [
    {
     "data": {
      "text/plain": [
       "{'Compound': 'X4179.57',\n",
       " 'Estimate': 1.6454865172866324,\n",
       " 'StdErr': 0.22277197406474292,\n",
       " 'z_score': 7.386416196179212,\n",
       " 'p_value': 1.508391446261621e-13}"
      ]
     },
     "execution_count": 19,
     "metadata": {},
     "output_type": "execute_result"
    }
   ],
   "execution_count": 19
  },
  {
   "metadata": {
    "ExecuteTime": {
     "end_time": "2025-05-26T16:52:51.498767Z",
     "start_time": "2025-05-26T16:52:51.486950Z"
    }
   },
   "cell_type": "code",
   "source": "compute_protein_auc('X4179.57',model, prot_ana_cn_ad)",
   "id": "13f229d2ac93ade5",
   "outputs": [
    {
     "data": {
      "text/plain": [
       "0.8884405102837803"
      ]
     },
     "execution_count": 20,
     "metadata": {},
     "output_type": "execute_result"
    }
   ],
   "execution_count": 20
  },
  {
   "metadata": {},
   "cell_type": "markdown",
   "source": "#### Application",
   "id": "90b7d597742ed9d2"
  },
  {
   "metadata": {
    "ExecuteTime": {
     "end_time": "2025-05-26T16:53:00.575102Z",
     "start_time": "2025-05-26T16:52:51.524672Z"
    }
   },
   "cell_type": "code",
   "source": [
    "logreg_results = []\n",
    "\n",
    "for comp in prot_cols:\n",
    "    model = log_reg(comp, prot_ana_cn_ad)\n",
    "    stats = extract_protein_stats(comp, model)\n",
    "    logreg_results.append(stats)\n",
    "\n",
    "logreg_results = pd.DataFrame(logreg_results)"
   ],
   "id": "a29b6735f84c86b4",
   "outputs": [],
   "execution_count": 21
  },
  {
   "metadata": {
    "ExecuteTime": {
     "end_time": "2025-05-26T16:53:00.620832Z",
     "start_time": "2025-05-26T16:53:00.617853Z"
    }
   },
   "cell_type": "code",
   "source": [
    "# fdr\n",
    "rejected, pvals_corrected, _, _ = multipletests(logreg_results['p_value'], method='fdr_bh')\n",
    "logreg_results['padj_fdr'] = pvals_corrected\n",
    "\n",
    "# -log10(pval_fdr)\n",
    "logreg_results['-log10(fdr)'] = -np.log10(logreg_results['padj_fdr'])"
   ],
   "id": "2083414636c4b575",
   "outputs": [],
   "execution_count": 22
  },
  {
   "metadata": {
    "ExecuteTime": {
     "end_time": "2025-05-26T16:53:00.663221Z",
     "start_time": "2025-05-26T16:53:00.657755Z"
    }
   },
   "cell_type": "code",
   "source": "logreg_results",
   "id": "2ef9cd8b7e11edf7",
   "outputs": [
    {
     "data": {
      "text/plain": [
       "       Compound  Estimate    StdErr   z_score   p_value  padj_fdr  -log10(fdr)\n",
       "0     X10000.28 -0.018222  0.139720 -0.130415  0.896238  0.980897     0.008377\n",
       "1      X10001.7  0.058485  0.141972  0.411951  0.680375  0.949739     0.022396\n",
       "2     X10003.15  0.115247  0.135736  0.849057  0.395850  0.874903     0.058040\n",
       "3     X10006.25  0.011494  0.135691  0.084711  0.932492  0.987813     0.005325\n",
       "4     X10008.43 -0.052454  0.127475 -0.411488  0.680715  0.949739     0.022396\n",
       "...         ...       ...       ...       ...       ...       ...          ...\n",
       "6893   X9993.11  0.062589  0.144930  0.431861  0.665843  0.943241     0.025377\n",
       "6894  X9994.217 -0.208289  0.135441 -1.537857  0.124084  0.662997     0.178489\n",
       "6895    X9995.6  0.206584  0.149033  1.386158  0.165699  0.716607     0.144719\n",
       "6896   X9997.12  0.315647  0.151272  2.086620  0.036923  0.392437     0.406230\n",
       "6897    X9999.1 -0.234852  0.179366 -1.309346  0.190417  0.739166     0.131258\n",
       "\n",
       "[6898 rows x 7 columns]"
      ],
      "text/html": [
       "<div>\n",
       "<style scoped>\n",
       "    .dataframe tbody tr th:only-of-type {\n",
       "        vertical-align: middle;\n",
       "    }\n",
       "\n",
       "    .dataframe tbody tr th {\n",
       "        vertical-align: top;\n",
       "    }\n",
       "\n",
       "    .dataframe thead th {\n",
       "        text-align: right;\n",
       "    }\n",
       "</style>\n",
       "<table border=\"1\" class=\"dataframe\">\n",
       "  <thead>\n",
       "    <tr style=\"text-align: right;\">\n",
       "      <th></th>\n",
       "      <th>Compound</th>\n",
       "      <th>Estimate</th>\n",
       "      <th>StdErr</th>\n",
       "      <th>z_score</th>\n",
       "      <th>p_value</th>\n",
       "      <th>padj_fdr</th>\n",
       "      <th>-log10(fdr)</th>\n",
       "    </tr>\n",
       "  </thead>\n",
       "  <tbody>\n",
       "    <tr>\n",
       "      <th>0</th>\n",
       "      <td>X10000.28</td>\n",
       "      <td>-0.018222</td>\n",
       "      <td>0.139720</td>\n",
       "      <td>-0.130415</td>\n",
       "      <td>0.896238</td>\n",
       "      <td>0.980897</td>\n",
       "      <td>0.008377</td>\n",
       "    </tr>\n",
       "    <tr>\n",
       "      <th>1</th>\n",
       "      <td>X10001.7</td>\n",
       "      <td>0.058485</td>\n",
       "      <td>0.141972</td>\n",
       "      <td>0.411951</td>\n",
       "      <td>0.680375</td>\n",
       "      <td>0.949739</td>\n",
       "      <td>0.022396</td>\n",
       "    </tr>\n",
       "    <tr>\n",
       "      <th>2</th>\n",
       "      <td>X10003.15</td>\n",
       "      <td>0.115247</td>\n",
       "      <td>0.135736</td>\n",
       "      <td>0.849057</td>\n",
       "      <td>0.395850</td>\n",
       "      <td>0.874903</td>\n",
       "      <td>0.058040</td>\n",
       "    </tr>\n",
       "    <tr>\n",
       "      <th>3</th>\n",
       "      <td>X10006.25</td>\n",
       "      <td>0.011494</td>\n",
       "      <td>0.135691</td>\n",
       "      <td>0.084711</td>\n",
       "      <td>0.932492</td>\n",
       "      <td>0.987813</td>\n",
       "      <td>0.005325</td>\n",
       "    </tr>\n",
       "    <tr>\n",
       "      <th>4</th>\n",
       "      <td>X10008.43</td>\n",
       "      <td>-0.052454</td>\n",
       "      <td>0.127475</td>\n",
       "      <td>-0.411488</td>\n",
       "      <td>0.680715</td>\n",
       "      <td>0.949739</td>\n",
       "      <td>0.022396</td>\n",
       "    </tr>\n",
       "    <tr>\n",
       "      <th>...</th>\n",
       "      <td>...</td>\n",
       "      <td>...</td>\n",
       "      <td>...</td>\n",
       "      <td>...</td>\n",
       "      <td>...</td>\n",
       "      <td>...</td>\n",
       "      <td>...</td>\n",
       "    </tr>\n",
       "    <tr>\n",
       "      <th>6893</th>\n",
       "      <td>X9993.11</td>\n",
       "      <td>0.062589</td>\n",
       "      <td>0.144930</td>\n",
       "      <td>0.431861</td>\n",
       "      <td>0.665843</td>\n",
       "      <td>0.943241</td>\n",
       "      <td>0.025377</td>\n",
       "    </tr>\n",
       "    <tr>\n",
       "      <th>6894</th>\n",
       "      <td>X9994.217</td>\n",
       "      <td>-0.208289</td>\n",
       "      <td>0.135441</td>\n",
       "      <td>-1.537857</td>\n",
       "      <td>0.124084</td>\n",
       "      <td>0.662997</td>\n",
       "      <td>0.178489</td>\n",
       "    </tr>\n",
       "    <tr>\n",
       "      <th>6895</th>\n",
       "      <td>X9995.6</td>\n",
       "      <td>0.206584</td>\n",
       "      <td>0.149033</td>\n",
       "      <td>1.386158</td>\n",
       "      <td>0.165699</td>\n",
       "      <td>0.716607</td>\n",
       "      <td>0.144719</td>\n",
       "    </tr>\n",
       "    <tr>\n",
       "      <th>6896</th>\n",
       "      <td>X9997.12</td>\n",
       "      <td>0.315647</td>\n",
       "      <td>0.151272</td>\n",
       "      <td>2.086620</td>\n",
       "      <td>0.036923</td>\n",
       "      <td>0.392437</td>\n",
       "      <td>0.406230</td>\n",
       "    </tr>\n",
       "    <tr>\n",
       "      <th>6897</th>\n",
       "      <td>X9999.1</td>\n",
       "      <td>-0.234852</td>\n",
       "      <td>0.179366</td>\n",
       "      <td>-1.309346</td>\n",
       "      <td>0.190417</td>\n",
       "      <td>0.739166</td>\n",
       "      <td>0.131258</td>\n",
       "    </tr>\n",
       "  </tbody>\n",
       "</table>\n",
       "<p>6898 rows × 7 columns</p>\n",
       "</div>"
      ]
     },
     "execution_count": 23,
     "metadata": {},
     "output_type": "execute_result"
    }
   ],
   "execution_count": 23
  },
  {
   "metadata": {},
   "cell_type": "markdown",
   "source": [
    "#### Volcano plot\n",
    "Significance = abs(Estimate) > 0.5 and -log10(fdr) < 0.01"
   ],
   "id": "5d874a4e47cb898d"
  },
  {
   "metadata": {
    "ExecuteTime": {
     "end_time": "2025-05-26T16:53:00.747391Z",
     "start_time": "2025-05-26T16:53:00.742100Z"
    }
   },
   "cell_type": "code",
   "source": "logreg_results = pd.merge(logreg_results, prot_info, how='left', on='Compound')",
   "id": "1a6febd605d9154",
   "outputs": [],
   "execution_count": 24
  },
  {
   "metadata": {
    "ExecuteTime": {
     "end_time": "2025-05-26T16:53:00.831724Z",
     "start_time": "2025-05-26T16:53:00.807479Z"
    }
   },
   "cell_type": "code",
   "source": [
    "def assign_color(row):\n",
    "    abs_est = abs(row['Estimate'])\n",
    "    padj = row['padj_fdr']\n",
    "    if abs_est > 0.5 and padj < 0.01:\n",
    "        return 'red'  # significant + strong effect\n",
    "    elif abs_est > 0.5 or padj < 0.01:\n",
    "        return 'blue'  # either effect or significance\n",
    "    else:\n",
    "        return 'grey'\n",
    "\n",
    "logreg_results['color'] = logreg_results.apply(assign_color, axis=1)"
   ],
   "id": "79f5f8492d85ff3a",
   "outputs": [],
   "execution_count": 25
  },
  {
   "metadata": {
    "ExecuteTime": {
     "end_time": "2025-05-26T16:53:02.288828Z",
     "start_time": "2025-05-26T16:53:00.894992Z"
    }
   },
   "cell_type": "code",
   "source": [
    "plt.figure(figsize=(15, 7))\n",
    "# colours\n",
    "plt.scatter(logreg_results['Estimate'], logreg_results['-log10(fdr)'],c=logreg_results['color'])\n",
    "# text\n",
    "texts = []\n",
    "for _, row in logreg_results.iterrows():\n",
    "    if row['color'] == 'red':\n",
    "        texts.append(\n",
    "            plt.text(\n",
    "                row['Estimate'],\n",
    "                row['-log10(fdr)'],\n",
    "                row['EntrezGeneSymbol'],\n",
    "                fontsize=8\n",
    "            )\n",
    "        )\n",
    "\n",
    "# Repel labels to prevent overlaps\n",
    "adjust_text(texts, arrowprops=dict(arrowstyle='-', color='black'))\n",
    "\n",
    "# other notations\n",
    "\n",
    "plt.axhline(y=-np.log10(0.01), color='black', linestyle='--')\n",
    "plt.axvline(x= 0.5, color='black', linestyle='--')\n",
    "plt.axvline(x=-0.5, color='black', linestyle='--')\n",
    "plt.xlabel('Estimate')\n",
    "plt.ylabel('-log10(fdr)')\n",
    "plt.title('Volcano Plot')\n",
    "plt.show()"
   ],
   "id": "5a117ea0ea91c7b1",
   "outputs": [
    {
     "data": {
      "text/plain": [
       "<Figure size 1500x700 with 1 Axes>"
      ],
      "image/png": "[encoded data removed]"
     },
     "metadata": {},
     "output_type": "display_data"
    }
   ],
   "execution_count": 26
  },
  {
   "metadata": {
    "ExecuteTime": {
     "end_time": "2025-05-26T16:53:02.330136Z",
     "start_time": "2025-05-26T16:53:02.328924Z"
    }
   },
   "cell_type": "code",
   "source": "",
   "id": "58d23762563622ee",
   "outputs": [],
   "execution_count": null
  }
 ],
 "metadata": {
  "kernelspec": {
   "display_name": "Python 3",
   "language": "python",
   "name": "python3"
  },
  "language_info": {
   "codemirror_mode": {
    "name": "ipython",
    "version": 2
   },
   "file_extension": ".py",
   "mimetype": "text/x-python",
   "name": "python",
   "nbconvert_exporter": "python",
   "pygments_lexer": "ipython2",
   "version": "2.7.6"
  }
 },
 "nbformat": 4,
 "nbformat_minor": 5
}
