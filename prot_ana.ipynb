{
 "cells": [
  {
   "cell_type": "code",
   "id": "initial_id",
   "metadata": {
    "collapsed": true,
    "ExecuteTime": {
     "end_time": "2025-05-27T15:07:55.102475Z",
     "start_time": "2025-05-27T15:07:55.099815Z"
    }
   },
   "source": [
    "import pandas as pd\n",
    "import numpy as np\n",
    "import statsmodels.api as sm\n",
    "from sklearn.metrics import roc_auc_score\n",
    "import matplotlib.pyplot as plt\n",
    "from statsmodels.stats.multitest import multipletests\n",
    "from adjustText import adjust_text"
   ],
   "outputs": [],
   "execution_count": 39
  },
  {
   "metadata": {
    "ExecuteTime": {
     "end_time": "2025-05-27T15:07:55.744405Z",
     "start_time": "2025-05-27T15:07:55.135888Z"
    }
   },
   "cell_type": "code",
   "source": [
    "prot_ana = pd.read_csv('SourceData/prot_exp_data.csv').set_index('RID')\n",
    "prot_info = pd.read_csv('SourceData/ADNI_Analyte_protein_info.csv')[['Analytes','EntrezGeneSymbol']].rename(columns={'Analytes': 'Compound'})"
   ],
   "id": "39166e93303fabbb",
   "outputs": [],
   "execution_count": 40
  },
  {
   "metadata": {},
   "cell_type": "markdown",
   "source": "### Define functions",
   "id": "16b6c2734dc71215"
  },
  {
   "metadata": {
    "ExecuteTime": {
     "end_time": "2025-05-27T15:07:55.763999Z",
     "start_time": "2025-05-27T15:07:55.761973Z"
    }
   },
   "cell_type": "code",
   "source": [
    "# Apply log reg and return the model\n",
    "def log_reg(compound, data):\n",
    "    # Define data\n",
    "    X = data[[compound, 'AGE', 'PTGENDER', 'APOE4', 'PTEDUCAT']].copy()\n",
    "    X = sm.add_constant(X)\n",
    "    y = data['DX.bl']\n",
    "\n",
    "    try:\n",
    "        model = sm.Logit(y, X).fit(disp=0)\n",
    "        return(model)\n",
    "\n",
    "    except Exception as e:\n",
    "        print(f\"Model fitting failed for {compound}: {e}\")\n",
    "        return(None)"
   ],
   "id": "b456032781ce8cb6",
   "outputs": [],
   "execution_count": 41
  },
  {
   "metadata": {
    "ExecuteTime": {
     "end_time": "2025-05-27T15:07:55.784908Z",
     "start_time": "2025-05-27T15:07:55.783016Z"
    }
   },
   "cell_type": "code",
   "source": [
    "# Return parameters for the model\n",
    "def extract_protein_stats(compound, model):\n",
    "\n",
    "    coef = model.params[compound]\n",
    "    pval = model.pvalues[compound]\n",
    "    stderr = model.bse[compound]\n",
    "    tvalue = model.tvalues[compound]\n",
    "\n",
    "    return({'Compound': compound,\n",
    "            'Estimate': coef,\n",
    "            'StdErr': stderr,\n",
    "            'z_score': tvalue,      # zscore and t-value are same in results\n",
    "            'p_value': pval\n",
    "            })\n"
   ],
   "id": "b60b8088ed1b5bd",
   "outputs": [],
   "execution_count": 42
  },
  {
   "metadata": {
    "ExecuteTime": {
     "end_time": "2025-05-27T15:07:55.811075Z",
     "start_time": "2025-05-27T15:07:55.808973Z"
    }
   },
   "cell_type": "code",
   "source": [
    "# Compute AUC for the model\n",
    "def compute_protein_auc(compound, model, data):\n",
    "    # Define data\n",
    "    X = data[[compound, 'AGE', 'PTGENDER', 'APOE4', 'PTEDUCAT']]\n",
    "    X = sm.add_constant(X)\n",
    "    y = data['DX.bl']\n",
    "\n",
    "    try:\n",
    "        y_pred_prob = model.predict(X)\n",
    "        return(roc_auc_score(y, y_pred_prob))\n",
    "\n",
    "    except Exception as e:\n",
    "        print(f\"AUC calculation failed for {compound}: {e}\")\n",
    "        return(None)"
   ],
   "id": "3ea4d8543a8e3cb5",
   "outputs": [],
   "execution_count": 43
  },
  {
   "metadata": {},
   "cell_type": "markdown",
   "source": "### Proteins CN vs AD",
   "id": "aecdab10794b3dbd"
  },
  {
   "metadata": {
    "ExecuteTime": {
     "end_time": "2025-05-27T15:07:55.848496Z",
     "start_time": "2025-05-27T15:07:55.833229Z"
    }
   },
   "cell_type": "code",
   "source": [
    "# Filter to CN and AD\n",
    "prot_ana_cn_ad = prot_ana[prot_ana['DX.bl'].str.contains('CN|AD', case=False, na=False)].copy()  # <-- important!\n",
    "\n",
    "# Binarization\n",
    "prot_ana_cn_ad['PTGENDER'] = prot_ana_cn_ad['PTGENDER'].map({'Male': 1, 'Female': 0})\n",
    "prot_ana_cn_ad['DX.bl'] = prot_ana_cn_ad['DX.bl'].map({'AD': 1, 'CN': 0})\n",
    "\n",
    "# Define protein columns\n",
    "prot_cols = [col for col in prot_ana_cn_ad.columns if col.startswith('X')]"
   ],
   "id": "cd1fe1195569e896",
   "outputs": [],
   "execution_count": 44
  },
  {
   "metadata": {},
   "cell_type": "markdown",
   "source": "#### Sample",
   "id": "70b46c92a72f45eb"
  },
  {
   "metadata": {
    "ExecuteTime": {
     "end_time": "2025-05-27T15:07:55.875899Z",
     "start_time": "2025-05-27T15:07:55.871382Z"
    }
   },
   "cell_type": "code",
   "source": "prot_ana_cn_ad[['AGE', 'PTGENDER','DX.bl', 'X4179.57', 'PTEDUCAT', 'APOE4']]",
   "id": "254035c8eef91a17",
   "outputs": [
    {
     "data": {
      "text/plain": [
       "       AGE  PTGENDER  DX.bl  X4179.57  PTEDUCAT  APOE4\n",
       "RID                                                   \n",
       "4488  72.6         1      0 -1.119295      18.0    0.0\n",
       "4516  71.4         1      0 -1.288589      20.0    0.0\n",
       "4464  70.4         1      0 -0.266295      16.0    1.0\n",
       "4376  76.5         0      0 -0.400652      16.0    0.0\n",
       "4900  59.8         0      0 -1.584072      18.0    0.0\n",
       "...    ...       ...    ...       ...       ...    ...\n",
       "459   72.9         1      0  0.266462      16.0    0.0\n",
       "321   68.3         1      1  1.099447      18.0    2.0\n",
       "866   80.0         0      0 -1.210787      13.0    0.0\n",
       "886   71.3         0      0 -1.826495      15.0    0.0\n",
       "1161  79.8         1      1  1.508239      16.0    0.0\n",
       "\n",
       "[305 rows x 6 columns]"
      ],
      "text/html": [
       "<div>\n",
       "<style scoped>\n",
       "    .dataframe tbody tr th:only-of-type {\n",
       "        vertical-align: middle;\n",
       "    }\n",
       "\n",
       "    .dataframe tbody tr th {\n",
       "        vertical-align: top;\n",
       "    }\n",
       "\n",
       "    .dataframe thead th {\n",
       "        text-align: right;\n",
       "    }\n",
       "</style>\n",
       "<table border=\"1\" class=\"dataframe\">\n",
       "  <thead>\n",
       "    <tr style=\"text-align: right;\">\n",
       "      <th></th>\n",
       "      <th>AGE</th>\n",
       "      <th>PTGENDER</th>\n",
       "      <th>DX.bl</th>\n",
       "      <th>X4179.57</th>\n",
       "      <th>PTEDUCAT</th>\n",
       "      <th>APOE4</th>\n",
       "    </tr>\n",
       "    <tr>\n",
       "      <th>RID</th>\n",
       "      <th></th>\n",
       "      <th></th>\n",
       "      <th></th>\n",
       "      <th></th>\n",
       "      <th></th>\n",
       "      <th></th>\n",
       "    </tr>\n",
       "  </thead>\n",
       "  <tbody>\n",
       "    <tr>\n",
       "      <th>4488</th>\n",
       "      <td>72.6</td>\n",
       "      <td>1</td>\n",
       "      <td>0</td>\n",
       "      <td>-1.119295</td>\n",
       "      <td>18.0</td>\n",
       "      <td>0.0</td>\n",
       "    </tr>\n",
       "    <tr>\n",
       "      <th>4516</th>\n",
       "      <td>71.4</td>\n",
       "      <td>1</td>\n",
       "      <td>0</td>\n",
       "      <td>-1.288589</td>\n",
       "      <td>20.0</td>\n",
       "      <td>0.0</td>\n",
       "    </tr>\n",
       "    <tr>\n",
       "      <th>4464</th>\n",
       "      <td>70.4</td>\n",
       "      <td>1</td>\n",
       "      <td>0</td>\n",
       "      <td>-0.266295</td>\n",
       "      <td>16.0</td>\n",
       "      <td>1.0</td>\n",
       "    </tr>\n",
       "    <tr>\n",
       "      <th>4376</th>\n",
       "      <td>76.5</td>\n",
       "      <td>0</td>\n",
       "      <td>0</td>\n",
       "      <td>-0.400652</td>\n",
       "      <td>16.0</td>\n",
       "      <td>0.0</td>\n",
       "    </tr>\n",
       "    <tr>\n",
       "      <th>4900</th>\n",
       "      <td>59.8</td>\n",
       "      <td>0</td>\n",
       "      <td>0</td>\n",
       "      <td>-1.584072</td>\n",
       "      <td>18.0</td>\n",
       "      <td>0.0</td>\n",
       "    </tr>\n",
       "    <tr>\n",
       "      <th>...</th>\n",
       "      <td>...</td>\n",
       "      <td>...</td>\n",
       "      <td>...</td>\n",
       "      <td>...</td>\n",
       "      <td>...</td>\n",
       "      <td>...</td>\n",
       "    </tr>\n",
       "    <tr>\n",
       "      <th>459</th>\n",
       "      <td>72.9</td>\n",
       "      <td>1</td>\n",
       "      <td>0</td>\n",
       "      <td>0.266462</td>\n",
       "      <td>16.0</td>\n",
       "      <td>0.0</td>\n",
       "    </tr>\n",
       "    <tr>\n",
       "      <th>321</th>\n",
       "      <td>68.3</td>\n",
       "      <td>1</td>\n",
       "      <td>1</td>\n",
       "      <td>1.099447</td>\n",
       "      <td>18.0</td>\n",
       "      <td>2.0</td>\n",
       "    </tr>\n",
       "    <tr>\n",
       "      <th>866</th>\n",
       "      <td>80.0</td>\n",
       "      <td>0</td>\n",
       "      <td>0</td>\n",
       "      <td>-1.210787</td>\n",
       "      <td>13.0</td>\n",
       "      <td>0.0</td>\n",
       "    </tr>\n",
       "    <tr>\n",
       "      <th>886</th>\n",
       "      <td>71.3</td>\n",
       "      <td>0</td>\n",
       "      <td>0</td>\n",
       "      <td>-1.826495</td>\n",
       "      <td>15.0</td>\n",
       "      <td>0.0</td>\n",
       "    </tr>\n",
       "    <tr>\n",
       "      <th>1161</th>\n",
       "      <td>79.8</td>\n",
       "      <td>1</td>\n",
       "      <td>1</td>\n",
       "      <td>1.508239</td>\n",
       "      <td>16.0</td>\n",
       "      <td>0.0</td>\n",
       "    </tr>\n",
       "  </tbody>\n",
       "</table>\n",
       "<p>305 rows × 6 columns</p>\n",
       "</div>"
      ]
     },
     "execution_count": 45,
     "metadata": {},
     "output_type": "execute_result"
    }
   ],
   "execution_count": 45
  },
  {
   "metadata": {
    "ExecuteTime": {
     "end_time": "2025-05-27T15:07:55.902764Z",
     "start_time": "2025-05-27T15:07:55.898737Z"
    }
   },
   "cell_type": "code",
   "source": "model = log_reg('X4179.57', prot_ana_cn_ad)",
   "id": "c9dfcd13337dfd28",
   "outputs": [],
   "execution_count": 46
  },
  {
   "metadata": {
    "ExecuteTime": {
     "end_time": "2025-05-27T15:07:55.924751Z",
     "start_time": "2025-05-27T15:07:55.921258Z"
    }
   },
   "cell_type": "code",
   "source": "extract_protein_stats('X4179.57', model)",
   "id": "42e03ea6d5c90c29",
   "outputs": [
    {
     "data": {
      "text/plain": [
       "{'Compound': 'X4179.57',\n",
       " 'Estimate': 1.6454865172866324,\n",
       " 'StdErr': 0.22277197406474292,\n",
       " 'z_score': 7.386416196179212,\n",
       " 'p_value': 1.508391446261621e-13}"
      ]
     },
     "execution_count": 47,
     "metadata": {},
     "output_type": "execute_result"
    }
   ],
   "execution_count": 47
  },
  {
   "metadata": {
    "ExecuteTime": {
     "end_time": "2025-05-27T15:07:55.974208Z",
     "start_time": "2025-05-27T15:07:55.968984Z"
    }
   },
   "cell_type": "code",
   "source": "compute_protein_auc('X4179.57',model, prot_ana_cn_ad)",
   "id": "46813785f57a36b8",
   "outputs": [
    {
     "data": {
      "text/plain": [
       "0.8884405102837803"
      ]
     },
     "execution_count": 48,
     "metadata": {},
     "output_type": "execute_result"
    }
   ],
   "execution_count": 48
  },
  {
   "metadata": {},
   "cell_type": "markdown",
   "source": "#### Application",
   "id": "1138bd5eb26c869b"
  },
  {
   "metadata": {
    "ExecuteTime": {
     "end_time": "2025-05-27T15:08:04.608929Z",
     "start_time": "2025-05-27T15:07:56.009162Z"
    }
   },
   "cell_type": "code",
   "source": [
    "logreg_results = []\n",
    "\n",
    "for comp in prot_cols:\n",
    "    model = log_reg(comp, prot_ana_cn_ad)\n",
    "    stats = extract_protein_stats(comp, model)\n",
    "    logreg_results.append(stats)\n",
    "\n",
    "logreg_results = pd.DataFrame(logreg_results)"
   ],
   "id": "c9aa36a3684b68c2",
   "outputs": [],
   "execution_count": 49
  },
  {
   "metadata": {
    "ExecuteTime": {
     "end_time": "2025-05-27T15:08:04.654386Z",
     "start_time": "2025-05-27T15:08:04.650950Z"
    }
   },
   "cell_type": "code",
   "source": [
    "# fdr\n",
    "rejected, pvals_corrected, _, _ = multipletests(logreg_results['p_value'], method='fdr_bh')\n",
    "logreg_results['padj_fdr'] = pvals_corrected\n",
    "\n",
    "# -log10(pval_fdr)\n",
    "logreg_results['-log10(fdr)'] = -np.log10(logreg_results['padj_fdr'])"
   ],
   "id": "954ac109d833d49a",
   "outputs": [],
   "execution_count": 50
  },
  {
   "metadata": {
    "ExecuteTime": {
     "end_time": "2025-05-27T15:08:04.713035Z",
     "start_time": "2025-05-27T15:08:04.702870Z"
    }
   },
   "cell_type": "code",
   "source": "logreg_results",
   "id": "d2b71baee4919342",
   "outputs": [
    {
     "data": {
      "text/plain": [
       "       Compound  Estimate    StdErr   z_score   p_value  padj_fdr  -log10(fdr)\n",
       "0     X10000.28 -0.018222  0.139720 -0.130415  0.896238  0.980897     0.008377\n",
       "1      X10001.7  0.058485  0.141972  0.411951  0.680375  0.949739     0.022396\n",
       "2     X10003.15  0.115247  0.135736  0.849057  0.395850  0.874903     0.058040\n",
       "3     X10006.25  0.011494  0.135691  0.084711  0.932492  0.987813     0.005325\n",
       "4     X10008.43 -0.052454  0.127475 -0.411488  0.680715  0.949739     0.022396\n",
       "...         ...       ...       ...       ...       ...       ...          ...\n",
       "6893   X9993.11  0.062589  0.144930  0.431861  0.665843  0.943241     0.025377\n",
       "6894  X9994.217 -0.208289  0.135441 -1.537857  0.124084  0.662997     0.178489\n",
       "6895    X9995.6  0.206584  0.149033  1.386158  0.165699  0.716607     0.144719\n",
       "6896   X9997.12  0.315647  0.151272  2.086620  0.036923  0.392437     0.406230\n",
       "6897    X9999.1 -0.234852  0.179366 -1.309346  0.190417  0.739166     0.131258\n",
       "\n",
       "[6898 rows x 7 columns]"
      ],
      "text/html": [
       "<div>\n",
       "<style scoped>\n",
       "    .dataframe tbody tr th:only-of-type {\n",
       "        vertical-align: middle;\n",
       "    }\n",
       "\n",
       "    .dataframe tbody tr th {\n",
       "        vertical-align: top;\n",
       "    }\n",
       "\n",
       "    .dataframe thead th {\n",
       "        text-align: right;\n",
       "    }\n",
       "</style>\n",
       "<table border=\"1\" class=\"dataframe\">\n",
       "  <thead>\n",
       "    <tr style=\"text-align: right;\">\n",
       "      <th></th>\n",
       "      <th>Compound</th>\n",
       "      <th>Estimate</th>\n",
       "      <th>StdErr</th>\n",
       "      <th>z_score</th>\n",
       "      <th>p_value</th>\n",
       "      <th>padj_fdr</th>\n",
       "      <th>-log10(fdr)</th>\n",
       "    </tr>\n",
       "  </thead>\n",
       "  <tbody>\n",
       "    <tr>\n",
       "      <th>0</th>\n",
       "      <td>X10000.28</td>\n",
       "      <td>-0.018222</td>\n",
       "      <td>0.139720</td>\n",
       "      <td>-0.130415</td>\n",
       "      <td>0.896238</td>\n",
       "      <td>0.980897</td>\n",
       "      <td>0.008377</td>\n",
       "    </tr>\n",
       "    <tr>\n",
       "      <th>1</th>\n",
       "      <td>X10001.7</td>\n",
       "      <td>0.058485</td>\n",
       "      <td>0.141972</td>\n",
       "      <td>0.411951</td>\n",
       "      <td>0.680375</td>\n",
       "      <td>0.949739</td>\n",
       "      <td>0.022396</td>\n",
       "    </tr>\n",
       "    <tr>\n",
       "      <th>2</th>\n",
       "      <td>X10003.15</td>\n",
       "      <td>0.115247</td>\n",
       "      <td>0.135736</td>\n",
       "      <td>0.849057</td>\n",
       "      <td>0.395850</td>\n",
       "      <td>0.874903</td>\n",
       "      <td>0.058040</td>\n",
       "    </tr>\n",
       "    <tr>\n",
       "      <th>3</th>\n",
       "      <td>X10006.25</td>\n",
       "      <td>0.011494</td>\n",
       "      <td>0.135691</td>\n",
       "      <td>0.084711</td>\n",
       "      <td>0.932492</td>\n",
       "      <td>0.987813</td>\n",
       "      <td>0.005325</td>\n",
       "    </tr>\n",
       "    <tr>\n",
       "      <th>4</th>\n",
       "      <td>X10008.43</td>\n",
       "      <td>-0.052454</td>\n",
       "      <td>0.127475</td>\n",
       "      <td>-0.411488</td>\n",
       "      <td>0.680715</td>\n",
       "      <td>0.949739</td>\n",
       "      <td>0.022396</td>\n",
       "    </tr>\n",
       "    <tr>\n",
       "      <th>...</th>\n",
       "      <td>...</td>\n",
       "      <td>...</td>\n",
       "      <td>...</td>\n",
       "      <td>...</td>\n",
       "      <td>...</td>\n",
       "      <td>...</td>\n",
       "      <td>...</td>\n",
       "    </tr>\n",
       "    <tr>\n",
       "      <th>6893</th>\n",
       "      <td>X9993.11</td>\n",
       "      <td>0.062589</td>\n",
       "      <td>0.144930</td>\n",
       "      <td>0.431861</td>\n",
       "      <td>0.665843</td>\n",
       "      <td>0.943241</td>\n",
       "      <td>0.025377</td>\n",
       "    </tr>\n",
       "    <tr>\n",
       "      <th>6894</th>\n",
       "      <td>X9994.217</td>\n",
       "      <td>-0.208289</td>\n",
       "      <td>0.135441</td>\n",
       "      <td>-1.537857</td>\n",
       "      <td>0.124084</td>\n",
       "      <td>0.662997</td>\n",
       "      <td>0.178489</td>\n",
       "    </tr>\n",
       "    <tr>\n",
       "      <th>6895</th>\n",
       "      <td>X9995.6</td>\n",
       "      <td>0.206584</td>\n",
       "      <td>0.149033</td>\n",
       "      <td>1.386158</td>\n",
       "      <td>0.165699</td>\n",
       "      <td>0.716607</td>\n",
       "      <td>0.144719</td>\n",
       "    </tr>\n",
       "    <tr>\n",
       "      <th>6896</th>\n",
       "      <td>X9997.12</td>\n",
       "      <td>0.315647</td>\n",
       "      <td>0.151272</td>\n",
       "      <td>2.086620</td>\n",
       "      <td>0.036923</td>\n",
       "      <td>0.392437</td>\n",
       "      <td>0.406230</td>\n",
       "    </tr>\n",
       "    <tr>\n",
       "      <th>6897</th>\n",
       "      <td>X9999.1</td>\n",
       "      <td>-0.234852</td>\n",
       "      <td>0.179366</td>\n",
       "      <td>-1.309346</td>\n",
       "      <td>0.190417</td>\n",
       "      <td>0.739166</td>\n",
       "      <td>0.131258</td>\n",
       "    </tr>\n",
       "  </tbody>\n",
       "</table>\n",
       "<p>6898 rows × 7 columns</p>\n",
       "</div>"
      ]
     },
     "execution_count": 51,
     "metadata": {},
     "output_type": "execute_result"
    }
   ],
   "execution_count": 51
  },
  {
   "metadata": {},
   "cell_type": "markdown",
   "source": [
    "#### Volcano plot\n",
    "Significance = abs(Estimate) > 0.5 and -log10(fdr) < 0.01"
   ],
   "id": "839cc9a7a09a8171"
  },
  {
   "metadata": {
    "ExecuteTime": {
     "end_time": "2025-05-27T15:08:04.739346Z",
     "start_time": "2025-05-27T15:08:04.734722Z"
    }
   },
   "cell_type": "code",
   "source": "logreg_results = pd.merge(logreg_results, prot_info, how='left', on='Compound')",
   "id": "67ce142e11f1040a",
   "outputs": [],
   "execution_count": 52
  },
  {
   "metadata": {
    "ExecuteTime": {
     "end_time": "2025-05-27T15:08:04.803683Z",
     "start_time": "2025-05-27T15:08:04.781319Z"
    }
   },
   "cell_type": "code",
   "source": [
    "def assign_color(row):\n",
    "    abs_est = abs(row['Estimate'])\n",
    "    padj = row['padj_fdr']\n",
    "    if abs_est > 0.5 and padj < 0.01:\n",
    "        return 'red'  # significant + strong effect\n",
    "    elif abs_est > 0.5 or padj < 0.01:\n",
    "        return 'blue'  # either effect or significance\n",
    "    else:\n",
    "        return 'grey'\n",
    "\n",
    "logreg_results['color'] = logreg_results.apply(assign_color, axis=1)"
   ],
   "id": "64699173c0766a0a",
   "outputs": [],
   "execution_count": 53
  },
  {
   "metadata": {
    "ExecuteTime": {
     "end_time": "2025-05-27T15:08:06.238325Z",
     "start_time": "2025-05-27T15:08:04.822996Z"
    }
   },
   "cell_type": "code",
   "source": [
    "plt.figure(figsize=(15, 7))\n",
    "# colours\n",
    "plt.scatter(logreg_results['Estimate'], logreg_results['-log10(fdr)'],c=logreg_results['color'])\n",
    "# text\n",
    "texts = []\n",
    "for _, row in logreg_results.iterrows():\n",
    "    if row['color'] == 'red':\n",
    "        texts.append(\n",
    "            plt.text(\n",
    "                row['Estimate'],\n",
    "                row['-log10(fdr)'],\n",
    "                row['EntrezGeneSymbol'],\n",
    "                fontsize=8\n",
    "            )\n",
    "        )\n",
    "\n",
    "# Repel labels to prevent overlaps\n",
    "adjust_text(texts, arrowprops=dict(arrowstyle='-', color='black'))\n",
    "\n",
    "# other notations\n",
    "\n",
    "plt.axhline(y=-np.log10(0.01), color='black', linestyle='--')\n",
    "plt.axvline(x= 0.5, color='black', linestyle='--')\n",
    "plt.axvline(x=-0.5, color='black', linestyle='--')\n",
    "plt.xlabel('Estimate')\n",
    "plt.ylabel('-log10(fdr)')\n",
    "plt.title('Volcano Plot')\n",
    "plt.show()"
   ],
   "id": "3e709a5b898c3fd8",
   "outputs": [
    {
     "data": {
      "text/plain": [
       "<Figure size 1500x700 with 1 Axes>"
      ],
      "image/png": "[encoded data removed]"
     },
     "metadata": {},
     "output_type": "display_data"
    }
   ],
   "execution_count": 54
  },
  {
   "metadata": {},
   "cell_type": "markdown",
   "source": "### Proteins MCI vs AD",
   "id": "72ac5d6e1d0c98ad"
  },
  {
   "metadata": {
    "ExecuteTime": {
     "end_time": "2025-05-27T15:08:06.290713Z",
     "start_time": "2025-05-27T15:08:06.273005Z"
    }
   },
   "cell_type": "code",
   "source": [
    "# Filter to MCI and AD\n",
    "prot_ana_mci_ad = prot_ana[prot_ana['DX.bl'].str.contains('MCI|AD', case=False, na=False)].copy()  # <-- important!\n",
    "\n",
    "# Binarization\n",
    "prot_ana_mci_ad['PTGENDER'] = prot_ana_mci_ad['PTGENDER'].map({'Male': 1, 'Female': 0})\n",
    "prot_ana_mci_ad['DX.bl'] = prot_ana_mci_ad['DX.bl'].map({'AD': 1, 'MCI': 0})\n",
    "\n",
    "# Define protein columns\n",
    "prot_cols = [col for col in prot_ana_mci_ad.columns if col.startswith('X')]"
   ],
   "id": "92740ea892a9fb51",
   "outputs": [],
   "execution_count": 55
  },
  {
   "metadata": {},
   "cell_type": "markdown",
   "source": "#### Application",
   "id": "f2932db28db222bb"
  },
  {
   "metadata": {
    "ExecuteTime": {
     "end_time": "2025-05-27T15:08:15.772594Z",
     "start_time": "2025-05-27T15:08:06.320414Z"
    }
   },
   "cell_type": "code",
   "source": [
    "logreg_results = []\n",
    "\n",
    "for comp in prot_cols:\n",
    "    model = log_reg(comp, prot_ana_mci_ad)\n",
    "    stats = extract_protein_stats(comp, model)\n",
    "    logreg_results.append(stats)\n",
    "\n",
    "logreg_results = pd.DataFrame(logreg_results)"
   ],
   "id": "e4e34320747b2bd0",
   "outputs": [],
   "execution_count": 56
  },
  {
   "metadata": {
    "ExecuteTime": {
     "end_time": "2025-05-27T15:08:15.794557Z",
     "start_time": "2025-05-27T15:08:15.789305Z"
    }
   },
   "cell_type": "code",
   "source": [
    "# fdr\n",
    "rejected, pvals_corrected, _, _ = multipletests(logreg_results['p_value'], method='fdr_bh')\n",
    "logreg_results['padj_fdr'] = pvals_corrected\n",
    "\n",
    "# -log10(pval_fdr)\n",
    "logreg_results['-log10(fdr)'] = -np.log10(logreg_results['padj_fdr'])"
   ],
   "id": "b307c14b003f60a0",
   "outputs": [],
   "execution_count": 57
  },
  {
   "metadata": {
    "ExecuteTime": {
     "end_time": "2025-05-27T15:08:15.838849Z",
     "start_time": "2025-05-27T15:08:15.831961Z"
    }
   },
   "cell_type": "code",
   "source": "logreg_results",
   "id": "4079d6b5c7385b08",
   "outputs": [
    {
     "data": {
      "text/plain": [
       "       Compound  Estimate    StdErr   z_score   p_value  padj_fdr  -log10(fdr)\n",
       "0     X10000.28 -0.061140  0.106677 -0.573132  0.566555  0.881592     0.054732\n",
       "1      X10001.7 -0.027863  0.104027 -0.267844  0.788819  0.955119     0.019942\n",
       "2     X10003.15  0.196021  0.105459  1.858738  0.063064  0.457537     0.339574\n",
       "3     X10006.25 -0.062243  0.101400 -0.613835  0.539324  0.870236     0.060363\n",
       "4     X10008.43 -0.001099  0.103668 -0.010601  0.991542  0.997050     0.001283\n",
       "...         ...       ...       ...       ...       ...       ...          ...\n",
       "6893   X9993.11  0.037688  0.103650  0.363612  0.716147  0.933461     0.029904\n",
       "6894  X9994.217 -0.242167  0.105239 -2.301115  0.021385  0.309255     0.509683\n",
       "6895    X9995.6 -0.067512  0.104158 -0.648174  0.516872  0.863732     0.063621\n",
       "6896   X9997.12  0.082550  0.107898  0.765073  0.444228  0.838779     0.076353\n",
       "6897    X9999.1 -0.179556  0.129456 -1.387006  0.165440  0.638258     0.195004\n",
       "\n",
       "[6898 rows x 7 columns]"
      ],
      "text/html": [
       "<div>\n",
       "<style scoped>\n",
       "    .dataframe tbody tr th:only-of-type {\n",
       "        vertical-align: middle;\n",
       "    }\n",
       "\n",
       "    .dataframe tbody tr th {\n",
       "        vertical-align: top;\n",
       "    }\n",
       "\n",
       "    .dataframe thead th {\n",
       "        text-align: right;\n",
       "    }\n",
       "</style>\n",
       "<table border=\"1\" class=\"dataframe\">\n",
       "  <thead>\n",
       "    <tr style=\"text-align: right;\">\n",
       "      <th></th>\n",
       "      <th>Compound</th>\n",
       "      <th>Estimate</th>\n",
       "      <th>StdErr</th>\n",
       "      <th>z_score</th>\n",
       "      <th>p_value</th>\n",
       "      <th>padj_fdr</th>\n",
       "      <th>-log10(fdr)</th>\n",
       "    </tr>\n",
       "  </thead>\n",
       "  <tbody>\n",
       "    <tr>\n",
       "      <th>0</th>\n",
       "      <td>X10000.28</td>\n",
       "      <td>-0.061140</td>\n",
       "      <td>0.106677</td>\n",
       "      <td>-0.573132</td>\n",
       "      <td>0.566555</td>\n",
       "      <td>0.881592</td>\n",
       "      <td>0.054732</td>\n",
       "    </tr>\n",
       "    <tr>\n",
       "      <th>1</th>\n",
       "      <td>X10001.7</td>\n",
       "      <td>-0.027863</td>\n",
       "      <td>0.104027</td>\n",
       "      <td>-0.267844</td>\n",
       "      <td>0.788819</td>\n",
       "      <td>0.955119</td>\n",
       "      <td>0.019942</td>\n",
       "    </tr>\n",
       "    <tr>\n",
       "      <th>2</th>\n",
       "      <td>X10003.15</td>\n",
       "      <td>0.196021</td>\n",
       "      <td>0.105459</td>\n",
       "      <td>1.858738</td>\n",
       "      <td>0.063064</td>\n",
       "      <td>0.457537</td>\n",
       "      <td>0.339574</td>\n",
       "    </tr>\n",
       "    <tr>\n",
       "      <th>3</th>\n",
       "      <td>X10006.25</td>\n",
       "      <td>-0.062243</td>\n",
       "      <td>0.101400</td>\n",
       "      <td>-0.613835</td>\n",
       "      <td>0.539324</td>\n",
       "      <td>0.870236</td>\n",
       "      <td>0.060363</td>\n",
       "    </tr>\n",
       "    <tr>\n",
       "      <th>4</th>\n",
       "      <td>X10008.43</td>\n",
       "      <td>-0.001099</td>\n",
       "      <td>0.103668</td>\n",
       "      <td>-0.010601</td>\n",
       "      <td>0.991542</td>\n",
       "      <td>0.997050</td>\n",
       "      <td>0.001283</td>\n",
       "    </tr>\n",
       "    <tr>\n",
       "      <th>...</th>\n",
       "      <td>...</td>\n",
       "      <td>...</td>\n",
       "      <td>...</td>\n",
       "      <td>...</td>\n",
       "      <td>...</td>\n",
       "      <td>...</td>\n",
       "      <td>...</td>\n",
       "    </tr>\n",
       "    <tr>\n",
       "      <th>6893</th>\n",
       "      <td>X9993.11</td>\n",
       "      <td>0.037688</td>\n",
       "      <td>0.103650</td>\n",
       "      <td>0.363612</td>\n",
       "      <td>0.716147</td>\n",
       "      <td>0.933461</td>\n",
       "      <td>0.029904</td>\n",
       "    </tr>\n",
       "    <tr>\n",
       "      <th>6894</th>\n",
       "      <td>X9994.217</td>\n",
       "      <td>-0.242167</td>\n",
       "      <td>0.105239</td>\n",
       "      <td>-2.301115</td>\n",
       "      <td>0.021385</td>\n",
       "      <td>0.309255</td>\n",
       "      <td>0.509683</td>\n",
       "    </tr>\n",
       "    <tr>\n",
       "      <th>6895</th>\n",
       "      <td>X9995.6</td>\n",
       "      <td>-0.067512</td>\n",
       "      <td>0.104158</td>\n",
       "      <td>-0.648174</td>\n",
       "      <td>0.516872</td>\n",
       "      <td>0.863732</td>\n",
       "      <td>0.063621</td>\n",
       "    </tr>\n",
       "    <tr>\n",
       "      <th>6896</th>\n",
       "      <td>X9997.12</td>\n",
       "      <td>0.082550</td>\n",
       "      <td>0.107898</td>\n",
       "      <td>0.765073</td>\n",
       "      <td>0.444228</td>\n",
       "      <td>0.838779</td>\n",
       "      <td>0.076353</td>\n",
       "    </tr>\n",
       "    <tr>\n",
       "      <th>6897</th>\n",
       "      <td>X9999.1</td>\n",
       "      <td>-0.179556</td>\n",
       "      <td>0.129456</td>\n",
       "      <td>-1.387006</td>\n",
       "      <td>0.165440</td>\n",
       "      <td>0.638258</td>\n",
       "      <td>0.195004</td>\n",
       "    </tr>\n",
       "  </tbody>\n",
       "</table>\n",
       "<p>6898 rows × 7 columns</p>\n",
       "</div>"
      ]
     },
     "execution_count": 58,
     "metadata": {},
     "output_type": "execute_result"
    }
   ],
   "execution_count": 58
  },
  {
   "metadata": {},
   "cell_type": "markdown",
   "source": [
    "#### Volcano plot\n",
    "Significance = abs(Estimate) > 0.5 and -log10(fdr) < 0.01"
   ],
   "id": "aaa576e0a38296b5"
  },
  {
   "metadata": {
    "ExecuteTime": {
     "end_time": "2025-05-27T15:08:15.899191Z",
     "start_time": "2025-05-27T15:08:15.894853Z"
    }
   },
   "cell_type": "code",
   "source": "logreg_results = pd.merge(logreg_results, prot_info, how='left', on='Compound')",
   "id": "e0b4f164d2967d3",
   "outputs": [],
   "execution_count": 59
  },
  {
   "metadata": {
    "ExecuteTime": {
     "end_time": "2025-05-27T15:08:15.944582Z",
     "start_time": "2025-05-27T15:08:15.918675Z"
    }
   },
   "cell_type": "code",
   "source": [
    "def assign_color(row):\n",
    "    abs_est = abs(row['Estimate'])\n",
    "    padj = row['padj_fdr']\n",
    "    if abs_est > 0.5 and padj < 0.01:\n",
    "        return 'red'  # significant + strong effect\n",
    "    elif abs_est > 0.5 or padj < 0.01:\n",
    "        return 'blue'  # either effect or significance\n",
    "    else:\n",
    "        return 'grey'\n",
    "\n",
    "logreg_results['color'] = logreg_results.apply(assign_color, axis=1)"
   ],
   "id": "9a061e45b01986f3",
   "outputs": [],
   "execution_count": 60
  },
  {
   "metadata": {
    "ExecuteTime": {
     "end_time": "2025-05-27T15:08:16.246924Z",
     "start_time": "2025-05-27T15:08:15.974410Z"
    }
   },
   "cell_type": "code",
   "source": [
    "plt.figure(figsize=(15, 7))\n",
    "# colours\n",
    "plt.scatter(logreg_results['Estimate'], logreg_results['-log10(fdr)'],c=logreg_results['color'])\n",
    "# text\n",
    "texts = []\n",
    "for _, row in logreg_results.iterrows():\n",
    "    if row['color'] == 'red':\n",
    "        texts.append(\n",
    "            plt.text(\n",
    "                row['Estimate'],\n",
    "                row['-log10(fdr)'],\n",
    "                row['EntrezGeneSymbol'],\n",
    "                fontsize=8\n",
    "            )\n",
    "        )\n",
    "\n",
    "# Repel labels to prevent overlaps\n",
    "adjust_text(texts, arrowprops=dict(arrowstyle='-', color='black'))\n",
    "\n",
    "# other notations\n",
    "\n",
    "plt.axhline(y=-np.log10(0.01), color='black', linestyle='--')\n",
    "plt.axvline(x= 0.5, color='black', linestyle='--')\n",
    "plt.axvline(x=-0.5, color='black', linestyle='--')\n",
    "plt.xlabel('Estimate')\n",
    "plt.ylabel('-log10(fdr)')\n",
    "plt.title('Volcano Plot')\n",
    "plt.show()"
   ],
   "id": "b2facf2d7ac9cba0",
   "outputs": [
    {
     "data": {
      "text/plain": [
       "<Figure size 1500x700 with 1 Axes>"
      ],
      "image/png": "[encoded data removed]"
     },
     "metadata": {},
     "output_type": "display_data"
    }
   ],
   "execution_count": 61
  },
  {
   "metadata": {},
   "cell_type": "markdown",
   "source": "### Proteins CN vs MCI",
   "id": "f170c6e06243d68f"
  },
  {
   "metadata": {
    "ExecuteTime": {
     "end_time": "2025-05-27T15:08:16.303950Z",
     "start_time": "2025-05-27T15:08:16.288146Z"
    }
   },
   "cell_type": "code",
   "source": [
    "# Filter to CN and MCI\n",
    "prot_ana_cn_mci = prot_ana[prot_ana['DX.bl'].str.contains('CN|MCI', case=False, na=False)].copy()  # <-- important!\n",
    "\n",
    "# Binarization\n",
    "prot_ana_cn_mci['PTGENDER'] = prot_ana_cn_mci['PTGENDER'].map({'Male': 1, 'Female': 0})\n",
    "prot_ana_cn_mci['DX.bl'] = prot_ana_cn_mci['DX.bl'].map({'MCI': 1, 'CN': 0})\n",
    "\n",
    "# Define protein columns\n",
    "prot_cols = [col for col in prot_ana_cn_mci.columns if col.startswith('X')]"
   ],
   "id": "2fc2944d2135f605",
   "outputs": [],
   "execution_count": 62
  },
  {
   "metadata": {},
   "cell_type": "markdown",
   "source": "#### Application",
   "id": "83165918066d6557"
  },
  {
   "metadata": {
    "ExecuteTime": {
     "end_time": "2025-05-27T15:08:25.665609Z",
     "start_time": "2025-05-27T15:08:16.333508Z"
    }
   },
   "cell_type": "code",
   "source": [
    "logreg_results = []\n",
    "\n",
    "for comp in prot_cols:\n",
    "    model = log_reg(comp, prot_ana_cn_mci)\n",
    "    stats = extract_protein_stats(comp, model)\n",
    "    logreg_results.append(stats)\n",
    "\n",
    "logreg_results = pd.DataFrame(logreg_results)"
   ],
   "id": "51f9743f17692e6f",
   "outputs": [],
   "execution_count": 63
  },
  {
   "metadata": {
    "ExecuteTime": {
     "end_time": "2025-05-27T15:08:25.686780Z",
     "start_time": "2025-05-27T15:08:25.683471Z"
    }
   },
   "cell_type": "code",
   "source": [
    "# fdr\n",
    "rejected, pvals_corrected, _, _ = multipletests(logreg_results['p_value'], method='fdr_bh')\n",
    "logreg_results['padj_fdr'] = pvals_corrected\n",
    "\n",
    "# -log10(pval_fdr)\n",
    "logreg_results['-log10(fdr)'] = -np.log10(logreg_results['padj_fdr'])"
   ],
   "id": "4cf8b20dc7d01927",
   "outputs": [],
   "execution_count": 64
  },
  {
   "metadata": {
    "ExecuteTime": {
     "end_time": "2025-05-27T15:08:25.727093Z",
     "start_time": "2025-05-27T15:08:25.722117Z"
    }
   },
   "cell_type": "code",
   "source": "logreg_results",
   "id": "bce34e0c10d0ab8f",
   "outputs": [
    {
     "data": {
      "text/plain": [
       "       Compound  Estimate    StdErr   z_score   p_value  padj_fdr  -log10(fdr)\n",
       "0     X10000.28  0.030256  0.100455  0.301187  0.763272  0.974435     0.011247\n",
       "1      X10001.7  0.048270  0.100962  0.478100  0.632579  0.951613     0.021540\n",
       "2     X10003.15 -0.080379  0.098099 -0.819361  0.412580  0.915624     0.038283\n",
       "3     X10006.25  0.065545  0.099156  0.661025  0.508596  0.935976     0.028735\n",
       "4     X10008.43 -0.054252  0.097863 -0.554366  0.579328  0.948584     0.022924\n",
       "...         ...       ...       ...       ...       ...       ...          ...\n",
       "6893   X9993.11  0.030167  0.100619  0.299818  0.764316  0.974435     0.011247\n",
       "6894  X9994.217 -0.009511  0.098952 -0.096113  0.923431  0.993450     0.002854\n",
       "6895    X9995.6  0.180869  0.097913  1.847240  0.064712  0.729271     0.137111\n",
       "6896   X9997.12  0.184911  0.099432  1.859665  0.062933  0.726542     0.138739\n",
       "6897    X9999.1  0.036469  0.117791  0.309606  0.756861  0.974034     0.011426\n",
       "\n",
       "[6898 rows x 7 columns]"
      ],
      "text/html": [
       "<div>\n",
       "<style scoped>\n",
       "    .dataframe tbody tr th:only-of-type {\n",
       "        vertical-align: middle;\n",
       "    }\n",
       "\n",
       "    .dataframe tbody tr th {\n",
       "        vertical-align: top;\n",
       "    }\n",
       "\n",
       "    .dataframe thead th {\n",
       "        text-align: right;\n",
       "    }\n",
       "</style>\n",
       "<table border=\"1\" class=\"dataframe\">\n",
       "  <thead>\n",
       "    <tr style=\"text-align: right;\">\n",
       "      <th></th>\n",
       "      <th>Compound</th>\n",
       "      <th>Estimate</th>\n",
       "      <th>StdErr</th>\n",
       "      <th>z_score</th>\n",
       "      <th>p_value</th>\n",
       "      <th>padj_fdr</th>\n",
       "      <th>-log10(fdr)</th>\n",
       "    </tr>\n",
       "  </thead>\n",
       "  <tbody>\n",
       "    <tr>\n",
       "      <th>0</th>\n",
       "      <td>X10000.28</td>\n",
       "      <td>0.030256</td>\n",
       "      <td>0.100455</td>\n",
       "      <td>0.301187</td>\n",
       "      <td>0.763272</td>\n",
       "      <td>0.974435</td>\n",
       "      <td>0.011247</td>\n",
       "    </tr>\n",
       "    <tr>\n",
       "      <th>1</th>\n",
       "      <td>X10001.7</td>\n",
       "      <td>0.048270</td>\n",
       "      <td>0.100962</td>\n",
       "      <td>0.478100</td>\n",
       "      <td>0.632579</td>\n",
       "      <td>0.951613</td>\n",
       "      <td>0.021540</td>\n",
       "    </tr>\n",
       "    <tr>\n",
       "      <th>2</th>\n",
       "      <td>X10003.15</td>\n",
       "      <td>-0.080379</td>\n",
       "      <td>0.098099</td>\n",
       "      <td>-0.819361</td>\n",
       "      <td>0.412580</td>\n",
       "      <td>0.915624</td>\n",
       "      <td>0.038283</td>\n",
       "    </tr>\n",
       "    <tr>\n",
       "      <th>3</th>\n",
       "      <td>X10006.25</td>\n",
       "      <td>0.065545</td>\n",
       "      <td>0.099156</td>\n",
       "      <td>0.661025</td>\n",
       "      <td>0.508596</td>\n",
       "      <td>0.935976</td>\n",
       "      <td>0.028735</td>\n",
       "    </tr>\n",
       "    <tr>\n",
       "      <th>4</th>\n",
       "      <td>X10008.43</td>\n",
       "      <td>-0.054252</td>\n",
       "      <td>0.097863</td>\n",
       "      <td>-0.554366</td>\n",
       "      <td>0.579328</td>\n",
       "      <td>0.948584</td>\n",
       "      <td>0.022924</td>\n",
       "    </tr>\n",
       "    <tr>\n",
       "      <th>...</th>\n",
       "      <td>...</td>\n",
       "      <td>...</td>\n",
       "      <td>...</td>\n",
       "      <td>...</td>\n",
       "      <td>...</td>\n",
       "      <td>...</td>\n",
       "      <td>...</td>\n",
       "    </tr>\n",
       "    <tr>\n",
       "      <th>6893</th>\n",
       "      <td>X9993.11</td>\n",
       "      <td>0.030167</td>\n",
       "      <td>0.100619</td>\n",
       "      <td>0.299818</td>\n",
       "      <td>0.764316</td>\n",
       "      <td>0.974435</td>\n",
       "      <td>0.011247</td>\n",
       "    </tr>\n",
       "    <tr>\n",
       "      <th>6894</th>\n",
       "      <td>X9994.217</td>\n",
       "      <td>-0.009511</td>\n",
       "      <td>0.098952</td>\n",
       "      <td>-0.096113</td>\n",
       "      <td>0.923431</td>\n",
       "      <td>0.993450</td>\n",
       "      <td>0.002854</td>\n",
       "    </tr>\n",
       "    <tr>\n",
       "      <th>6895</th>\n",
       "      <td>X9995.6</td>\n",
       "      <td>0.180869</td>\n",
       "      <td>0.097913</td>\n",
       "      <td>1.847240</td>\n",
       "      <td>0.064712</td>\n",
       "      <td>0.729271</td>\n",
       "      <td>0.137111</td>\n",
       "    </tr>\n",
       "    <tr>\n",
       "      <th>6896</th>\n",
       "      <td>X9997.12</td>\n",
       "      <td>0.184911</td>\n",
       "      <td>0.099432</td>\n",
       "      <td>1.859665</td>\n",
       "      <td>0.062933</td>\n",
       "      <td>0.726542</td>\n",
       "      <td>0.138739</td>\n",
       "    </tr>\n",
       "    <tr>\n",
       "      <th>6897</th>\n",
       "      <td>X9999.1</td>\n",
       "      <td>0.036469</td>\n",
       "      <td>0.117791</td>\n",
       "      <td>0.309606</td>\n",
       "      <td>0.756861</td>\n",
       "      <td>0.974034</td>\n",
       "      <td>0.011426</td>\n",
       "    </tr>\n",
       "  </tbody>\n",
       "</table>\n",
       "<p>6898 rows × 7 columns</p>\n",
       "</div>"
      ]
     },
     "execution_count": 65,
     "metadata": {},
     "output_type": "execute_result"
    }
   ],
   "execution_count": 65
  },
  {
   "metadata": {},
   "cell_type": "markdown",
   "source": [
    "#### Volcano plot\n",
    "Significance = abs(Estimate) > 0.5 and -log10(fdr) < 0.01"
   ],
   "id": "b3a9440696a4524"
  },
  {
   "metadata": {
    "ExecuteTime": {
     "end_time": "2025-05-27T15:08:25.769472Z",
     "start_time": "2025-05-27T15:08:25.764289Z"
    }
   },
   "cell_type": "code",
   "source": "logreg_results = pd.merge(logreg_results, prot_info, how='left', on='Compound')",
   "id": "959b630b24d186e0",
   "outputs": [],
   "execution_count": 66
  },
  {
   "metadata": {
    "ExecuteTime": {
     "end_time": "2025-05-27T15:08:25.842011Z",
     "start_time": "2025-05-27T15:08:25.819505Z"
    }
   },
   "cell_type": "code",
   "source": [
    "def assign_color(row):\n",
    "    abs_est = abs(row['Estimate'])\n",
    "    padj = row['padj_fdr']\n",
    "    if abs_est > 0.5 and padj < 0.01:\n",
    "        return 'red'  # significant + strong effect\n",
    "    elif abs_est > 0.5 or padj < 0.01:\n",
    "        return 'blue'  # either effect or significance\n",
    "    else:\n",
    "        return 'grey'\n",
    "\n",
    "logreg_results['color'] = logreg_results.apply(assign_color, axis=1)"
   ],
   "id": "e00a1747857ba8ed",
   "outputs": [],
   "execution_count": 67
  },
  {
   "metadata": {
    "ExecuteTime": {
     "end_time": "2025-05-27T15:08:26.127888Z",
     "start_time": "2025-05-27T15:08:25.880213Z"
    }
   },
   "cell_type": "code",
   "source": [
    "plt.figure(figsize=(15, 7))\n",
    "# colours\n",
    "plt.scatter(logreg_results['Estimate'], logreg_results['-log10(fdr)'],c=logreg_results['color'])\n",
    "# text\n",
    "texts = []\n",
    "for _, row in logreg_results.iterrows():\n",
    "    if row['color'] == 'red':\n",
    "        texts.append(\n",
    "            plt.text(\n",
    "                row['Estimate'],\n",
    "                row['-log10(fdr)'],\n",
    "                row['EntrezGeneSymbol'],\n",
    "                fontsize=8\n",
    "            )\n",
    "        )\n",
    "\n",
    "# Repel labels to prevent overlaps\n",
    "adjust_text(texts, arrowprops=dict(arrowstyle='-', color='black'))\n",
    "\n",
    "# other notations\n",
    "\n",
    "plt.axhline(y=-np.log10(0.01), color='black', linestyle='--')\n",
    "plt.axvline(x= 0.5, color='black', linestyle='--')\n",
    "plt.axvline(x=-0.5, color='black', linestyle='--')\n",
    "plt.xlabel('Estimate')\n",
    "plt.ylabel('-log10(fdr)')\n",
    "plt.title('Volcano Plot')\n",
    "plt.show()"
   ],
   "id": "c34ca08489b25955",
   "outputs": [
    {
     "data": {
      "text/plain": [
       "<Figure size 1500x700 with 1 Axes>"
      ],
      "image/png": "[encoded data removed]"
     },
     "metadata": {},
     "output_type": "display_data"
    }
   ],
   "execution_count": 68
  }
 ],
 "metadata": {
  "kernelspec": {
   "display_name": "Python 3",
   "language": "python",
   "name": "python3"
  },
  "language_info": {
   "codemirror_mode": {
    "name": "ipython",
    "version": 2
   },
   "file_extension": ".py",
   "mimetype": "text/x-python",
   "name": "python",
   "nbconvert_exporter": "python",
   "pygments_lexer": "ipython2",
   "version": "2.7.6"
  }
 },
 "nbformat": 4,
 "nbformat_minor": 5
}
